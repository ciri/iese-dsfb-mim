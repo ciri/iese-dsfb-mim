{
 "cells": [
  {
   "attachments": {},
   "cell_type": "markdown",
   "id": "3aeec9d0-f0fb-448b-8bb8-68e2e4e3813b",
   "metadata": {
    "tags": []
   },
   "source": [
    "[![Open In Colab](https://colab.research.google.com/assets/colab-badge.svg)](https://colab.research.google.com/github/ciri/iese-dsfb/blob/main/notebooks/200-Pandas.ipynb)\n",
    "\n",
    "# Pandas: Master Tabular Data\n",
    "\n",
    "**Tabular data sets** are datasets that look like Excel sheets. They can be imported into Pandas data frames from various file formats. "
   ]
  },
  {
   "cell_type": "markdown",
   "id": "9a9598c7",
   "metadata": {},
   "source": [
    "## Pandas data frames"
   ]
  },
  {
   "cell_type": "markdown",
   "id": "2389a9b2",
   "metadata": {},
   "source": [
    "**Pandas** provides a wide range of data wrangling tools. It is typically imported as:"
   ]
  },
  {
   "cell_type": "code",
   "execution_count": 9,
   "id": "eafb0220",
   "metadata": {},
   "outputs": [],
   "source": [
    "import pandas as pd"
   ]
  },
  {
   "cell_type": "code",
   "execution_count": 10,
   "id": "3e50682e",
   "metadata": {
    "tags": [
     "remove_cell"
    ]
   },
   "outputs": [],
   "source": [
    "# optional line to control formatting\n",
    "pd.set_option('display.float_format', '{:.2f}'.format)"
   ]
  },
  {
   "cell_type": "markdown",
   "id": "3fa9dd9a",
   "metadata": {},
   "source": [
    "At the heart of any pandas analysis lies a pythonic equivalent of an excel sheet, called a **data frame**. It looks as follows:\n"
   ]
  },
  {
   "cell_type": "markdown",
   "id": "74eea395",
   "metadata": {},
   "source": [
    "<center>\n",
    "    <img src='https://raw.githubusercontent.com/ciri/iese-dsfb/main/images/pandas-data-structure.svg' width='75%'>\n",
    "</center>"
   ]
  },
  {
   "cell_type": "markdown",
   "id": "62e3b0c6",
   "metadata": {},
   "source": [
    "A dataframe is thus: a 2d array of data plus the column names and an index, which contains the row names. An important difference between `numpy` 2d arrays and `pandas` data frames is that a data frame does not have a data type, each column has its own data type. In pandas, we don't call them columns, but **series**."
   ]
  },
  {
   "cell_type": "markdown",
   "id": "225adb84",
   "metadata": {},
   "source": [
    "We can import an data file  (excel, csv, ...) using the `pd.read_x()` command where 'x' is csv, excel. The cars data file that will be working with today is [available here](/www/resources/cars.csv). You can import it as follows:"
   ]
  },
  {
   "cell_type": "code",
   "execution_count": 11,
   "id": "9f36a112",
   "metadata": {},
   "outputs": [],
   "source": [
    "df = pd.read_csv('https://raw.githubusercontent.com/ciri/iese-dsfb/main/resources/tabular/cars.csv')"
   ]
  },
  {
   "cell_type": "markdown",
   "id": "f7ca5f13",
   "metadata": {},
   "source": [
    "There are a lot of extra arguments that we have not specified, you'll find the most commonly used ones at the bottom of this document. We can show it by just typing its name:"
   ]
  },
  {
   "cell_type": "code",
   "execution_count": 12,
   "id": "2ea3b598",
   "metadata": {},
   "outputs": [
    {
     "data": {
      "text/html": [
       "<div>\n",
       "<style scoped>\n",
       "    .dataframe tbody tr th:only-of-type {\n",
       "        vertical-align: middle;\n",
       "    }\n",
       "\n",
       "    .dataframe tbody tr th {\n",
       "        vertical-align: top;\n",
       "    }\n",
       "\n",
       "    .dataframe thead th {\n",
       "        text-align: right;\n",
       "    }\n",
       "</style>\n",
       "<table border=\"1\" class=\"dataframe\">\n",
       "  <thead>\n",
       "    <tr style=\"text-align: right;\">\n",
       "      <th></th>\n",
       "      <th>introduction</th>\n",
       "      <th>group</th>\n",
       "      <th>brand</th>\n",
       "      <th>model_name</th>\n",
       "      <th>length</th>\n",
       "      <th>width</th>\n",
       "      <th>height</th>\n",
       "      <th>curb_weight</th>\n",
       "      <th>total_max_power_hp</th>\n",
       "      <th>price</th>\n",
       "    </tr>\n",
       "  </thead>\n",
       "  <tbody>\n",
       "    <tr>\n",
       "      <th>0</th>\n",
       "      <td>2007</td>\n",
       "      <td>Fiat Chrysler Automobiles</td>\n",
       "      <td>Alfa Romeo</td>\n",
       "      <td>Alfa Romeo 147</td>\n",
       "      <td>4223</td>\n",
       "      <td>1729.00</td>\n",
       "      <td>1442.00</td>\n",
       "      <td>1185</td>\n",
       "      <td>105</td>\n",
       "      <td>21950</td>\n",
       "    </tr>\n",
       "    <tr>\n",
       "      <th>1</th>\n",
       "      <td>2008</td>\n",
       "      <td>Fiat Chrysler Automobiles</td>\n",
       "      <td>Alfa Romeo</td>\n",
       "      <td>Alfa Romeo 159</td>\n",
       "      <td>4661</td>\n",
       "      <td>1830.00</td>\n",
       "      <td>1422.00</td>\n",
       "      <td>1360</td>\n",
       "      <td>140</td>\n",
       "      <td>28450</td>\n",
       "    </tr>\n",
       "    <tr>\n",
       "      <th>2</th>\n",
       "      <td>2013</td>\n",
       "      <td>Fiat Chrysler Automobiles</td>\n",
       "      <td>Alfa Romeo</td>\n",
       "      <td>Alfa Romeo 4C</td>\n",
       "      <td>3990</td>\n",
       "      <td>1868.00</td>\n",
       "      <td>1184.00</td>\n",
       "      <td>895</td>\n",
       "      <td>240</td>\n",
       "      <td>75360</td>\n",
       "    </tr>\n",
       "    <tr>\n",
       "      <th>3</th>\n",
       "      <td>2008</td>\n",
       "      <td>Fiat Chrysler Automobiles</td>\n",
       "      <td>Alfa Romeo</td>\n",
       "      <td>Alfa Romeo 8C</td>\n",
       "      <td>4381</td>\n",
       "      <td>1894.00</td>\n",
       "      <td>1341.00</td>\n",
       "      <td>1560</td>\n",
       "      <td>450</td>\n",
       "      <td>220000</td>\n",
       "    </tr>\n",
       "    <tr>\n",
       "      <th>4</th>\n",
       "      <td>2009</td>\n",
       "      <td>Fiat Chrysler Automobiles</td>\n",
       "      <td>Alfa Romeo</td>\n",
       "      <td>Alfa Romeo Brera</td>\n",
       "      <td>4413</td>\n",
       "      <td>1830.00</td>\n",
       "      <td>1372.00</td>\n",
       "      <td>1420</td>\n",
       "      <td>200</td>\n",
       "      <td>40950</td>\n",
       "    </tr>\n",
       "    <tr>\n",
       "      <th>...</th>\n",
       "      <td>...</td>\n",
       "      <td>...</td>\n",
       "      <td>...</td>\n",
       "      <td>...</td>\n",
       "      <td>...</td>\n",
       "      <td>...</td>\n",
       "      <td>...</td>\n",
       "      <td>...</td>\n",
       "      <td>...</td>\n",
       "      <td>...</td>\n",
       "    </tr>\n",
       "    <tr>\n",
       "      <th>586</th>\n",
       "      <td>2007</td>\n",
       "      <td>Geely</td>\n",
       "      <td>Volvo</td>\n",
       "      <td>Volvo V70</td>\n",
       "      <td>4823</td>\n",
       "      <td>1861.00</td>\n",
       "      <td>1540.00</td>\n",
       "      <td>1467</td>\n",
       "      <td>145</td>\n",
       "      <td>39895</td>\n",
       "    </tr>\n",
       "    <tr>\n",
       "      <th>587</th>\n",
       "      <td>2020</td>\n",
       "      <td>Geely</td>\n",
       "      <td>Volvo</td>\n",
       "      <td>Volvo XC40</td>\n",
       "      <td>4425</td>\n",
       "      <td>1900.00</td>\n",
       "      <td>1652.00</td>\n",
       "      <td>2150</td>\n",
       "      <td>408</td>\n",
       "      <td>58775</td>\n",
       "    </tr>\n",
       "    <tr>\n",
       "      <th>588</th>\n",
       "      <td>2010</td>\n",
       "      <td>Geely</td>\n",
       "      <td>Volvo</td>\n",
       "      <td>Volvo XC60</td>\n",
       "      <td>4628</td>\n",
       "      <td>1891.00</td>\n",
       "      <td>1713.00</td>\n",
       "      <td>1610</td>\n",
       "      <td>203</td>\n",
       "      <td>49495</td>\n",
       "    </tr>\n",
       "    <tr>\n",
       "      <th>589</th>\n",
       "      <td>2004</td>\n",
       "      <td>Geely</td>\n",
       "      <td>Volvo</td>\n",
       "      <td>Volvo XC70</td>\n",
       "      <td>4733</td>\n",
       "      <td>1860.00</td>\n",
       "      <td>1562.00</td>\n",
       "      <td>1664</td>\n",
       "      <td>210</td>\n",
       "      <td>49815</td>\n",
       "    </tr>\n",
       "    <tr>\n",
       "      <th>590</th>\n",
       "      <td>2003</td>\n",
       "      <td>Geely</td>\n",
       "      <td>Volvo</td>\n",
       "      <td>Volvo XC90</td>\n",
       "      <td>4798</td>\n",
       "      <td>1898.00</td>\n",
       "      <td>1743.00</td>\n",
       "      <td>2023</td>\n",
       "      <td>210</td>\n",
       "      <td>56115</td>\n",
       "    </tr>\n",
       "  </tbody>\n",
       "</table>\n",
       "<p>591 rows × 10 columns</p>\n",
       "</div>"
      ],
      "text/plain": [
       "     introduction                      group       brand        model_name  \\\n",
       "0            2007  Fiat Chrysler Automobiles  Alfa Romeo    Alfa Romeo 147   \n",
       "1            2008  Fiat Chrysler Automobiles  Alfa Romeo    Alfa Romeo 159   \n",
       "2            2013  Fiat Chrysler Automobiles  Alfa Romeo     Alfa Romeo 4C   \n",
       "3            2008  Fiat Chrysler Automobiles  Alfa Romeo     Alfa Romeo 8C   \n",
       "4            2009  Fiat Chrysler Automobiles  Alfa Romeo  Alfa Romeo Brera   \n",
       "..            ...                        ...         ...               ...   \n",
       "586          2007                      Geely       Volvo         Volvo V70   \n",
       "587          2020                      Geely       Volvo        Volvo XC40   \n",
       "588          2010                      Geely       Volvo        Volvo XC60   \n",
       "589          2004                      Geely       Volvo        Volvo XC70   \n",
       "590          2003                      Geely       Volvo        Volvo XC90   \n",
       "\n",
       "     length   width  height  curb_weight  total_max_power_hp   price  \n",
       "0      4223 1729.00 1442.00         1185                 105   21950  \n",
       "1      4661 1830.00 1422.00         1360                 140   28450  \n",
       "2      3990 1868.00 1184.00          895                 240   75360  \n",
       "3      4381 1894.00 1341.00         1560                 450  220000  \n",
       "4      4413 1830.00 1372.00         1420                 200   40950  \n",
       "..      ...     ...     ...          ...                 ...     ...  \n",
       "586    4823 1861.00 1540.00         1467                 145   39895  \n",
       "587    4425 1900.00 1652.00         2150                 408   58775  \n",
       "588    4628 1891.00 1713.00         1610                 203   49495  \n",
       "589    4733 1860.00 1562.00         1664                 210   49815  \n",
       "590    4798 1898.00 1743.00         2023                 210   56115  \n",
       "\n",
       "[591 rows x 10 columns]"
      ]
     },
     "execution_count": 12,
     "metadata": {},
     "output_type": "execute_result"
    }
   ],
   "source": [
    "df"
   ]
  },
  {
   "cell_type": "markdown",
   "id": "b00f48d2",
   "metadata": {},
   "source": [
    "We can extract its index, values and columns using the appropriately properties of the df:"
   ]
  },
  {
   "cell_type": "code",
   "execution_count": 13,
   "id": "aad371e8",
   "metadata": {},
   "outputs": [
    {
     "data": {
      "text/plain": [
       "RangeIndex(start=0, stop=591, step=1)"
      ]
     },
     "execution_count": 13,
     "metadata": {},
     "output_type": "execute_result"
    }
   ],
   "source": [
    "df.index"
   ]
  },
  {
   "cell_type": "markdown",
   "id": "724c11e7",
   "metadata": {},
   "source": [
    "Without a explicit specification, the index is created automatically, as a `RangeIndex`. In this example, since the columns have different data types, `df.values` takes `object` type. The third component of the data frame is a list with the column names, which can be extracted as the attribute `columns`:"
   ]
  },
  {
   "cell_type": "code",
   "execution_count": 14,
   "id": "43975cc2",
   "metadata": {},
   "outputs": [
    {
     "data": {
      "text/plain": [
       "array([[2007, 'Fiat Chrysler Automobiles', 'Alfa Romeo', ..., 1185, 105,\n",
       "        21950],\n",
       "       [2008, 'Fiat Chrysler Automobiles', 'Alfa Romeo', ..., 1360, 140,\n",
       "        28450],\n",
       "       [2013, 'Fiat Chrysler Automobiles', 'Alfa Romeo', ..., 895, 240,\n",
       "        75360],\n",
       "       ...,\n",
       "       [2010, 'Geely', 'Volvo', ..., 1610, 203, 49495],\n",
       "       [2004, 'Geely', 'Volvo', ..., 1664, 210, 49815],\n",
       "       [2003, 'Geely', 'Volvo', ..., 2023, 210, 56115]], dtype=object)"
      ]
     },
     "execution_count": 14,
     "metadata": {},
     "output_type": "execute_result"
    }
   ],
   "source": [
    "df.values"
   ]
  },
  {
   "cell_type": "code",
   "execution_count": 15,
   "id": "41d34d5d",
   "metadata": {},
   "outputs": [
    {
     "data": {
      "text/plain": [
       "Index(['introduction', 'group', 'brand', 'model_name', 'length', 'width',\n",
       "       'height', 'curb_weight', 'total_max_power_hp', 'price'],\n",
       "      dtype='object')"
      ]
     },
     "execution_count": 15,
     "metadata": {},
     "output_type": "execute_result"
    }
   ],
   "source": [
    "df.columns"
   ]
  },
  {
   "cell_type": "markdown",
   "id": "fcfc9031",
   "metadata": {},
   "source": [
    "We can retreive the number of rows/columns using the familiar `shape` command:"
   ]
  },
  {
   "cell_type": "code",
   "execution_count": 16,
   "id": "224fda2c",
   "metadata": {},
   "outputs": [
    {
     "data": {
      "text/plain": [
       "(591, 10)"
      ]
     },
     "execution_count": 16,
     "metadata": {},
     "output_type": "execute_result"
    }
   ],
   "source": [
    "df.shape"
   ]
  },
  {
   "cell_type": "markdown",
   "id": "66de427f",
   "metadata": {},
   "source": [
    "We can also retreive the data types of each column using the `dtypes` property:"
   ]
  },
  {
   "cell_type": "code",
   "execution_count": 17,
   "id": "6c4f2264",
   "metadata": {},
   "outputs": [
    {
     "data": {
      "text/plain": [
       "introduction            int64\n",
       "group                  object\n",
       "brand                  object\n",
       "model_name             object\n",
       "length                  int64\n",
       "width                 float64\n",
       "height                float64\n",
       "curb_weight             int64\n",
       "total_max_power_hp      int64\n",
       "price                   int64\n",
       "dtype: object"
      ]
     },
     "execution_count": 17,
     "metadata": {},
     "output_type": "execute_result"
    }
   ],
   "source": [
    "df.dtypes"
   ]
  },
  {
   "cell_type": "markdown",
   "id": "e7714c9f",
   "metadata": {},
   "source": [
    "Note that the data type of e.g., the fourth column, for which you would have expected `str`, is reported as `object`. Don't worry about this, you can apply string functions to this column, as will be seen later in this course. "
   ]
  },
  {
   "attachments": {},
   "cell_type": "markdown",
   "id": "c28d8362-d43a-46af-83b2-055c804958ec",
   "metadata": {},
   "source": [
    "## Exploring Pandas objects\n",
    "\n",
    "The methods `head` and `tail` extract the first and the last rows of a data frame, respectively. The default number of rows extracted is 5, but you can pass a custom number."
   ]
  },
  {
   "cell_type": "code",
   "execution_count": 18,
   "id": "90b0d59c-a528-44c7-b619-56ba0e87edc7",
   "metadata": {},
   "outputs": [
    {
     "data": {
      "text/html": [
       "<div>\n",
       "<style scoped>\n",
       "    .dataframe tbody tr th:only-of-type {\n",
       "        vertical-align: middle;\n",
       "    }\n",
       "\n",
       "    .dataframe tbody tr th {\n",
       "        vertical-align: top;\n",
       "    }\n",
       "\n",
       "    .dataframe thead th {\n",
       "        text-align: right;\n",
       "    }\n",
       "</style>\n",
       "<table border=\"1\" class=\"dataframe\">\n",
       "  <thead>\n",
       "    <tr style=\"text-align: right;\">\n",
       "      <th></th>\n",
       "      <th>introduction</th>\n",
       "      <th>group</th>\n",
       "      <th>brand</th>\n",
       "      <th>model_name</th>\n",
       "      <th>length</th>\n",
       "      <th>width</th>\n",
       "      <th>height</th>\n",
       "      <th>curb_weight</th>\n",
       "      <th>total_max_power_hp</th>\n",
       "      <th>price</th>\n",
       "    </tr>\n",
       "  </thead>\n",
       "  <tbody>\n",
       "    <tr>\n",
       "      <th>0</th>\n",
       "      <td>2007</td>\n",
       "      <td>Fiat Chrysler Automobiles</td>\n",
       "      <td>Alfa Romeo</td>\n",
       "      <td>Alfa Romeo 147</td>\n",
       "      <td>4223</td>\n",
       "      <td>1729.00</td>\n",
       "      <td>1442.00</td>\n",
       "      <td>1185</td>\n",
       "      <td>105</td>\n",
       "      <td>21950</td>\n",
       "    </tr>\n",
       "    <tr>\n",
       "      <th>1</th>\n",
       "      <td>2008</td>\n",
       "      <td>Fiat Chrysler Automobiles</td>\n",
       "      <td>Alfa Romeo</td>\n",
       "      <td>Alfa Romeo 159</td>\n",
       "      <td>4661</td>\n",
       "      <td>1830.00</td>\n",
       "      <td>1422.00</td>\n",
       "      <td>1360</td>\n",
       "      <td>140</td>\n",
       "      <td>28450</td>\n",
       "    </tr>\n",
       "  </tbody>\n",
       "</table>\n",
       "</div>"
      ],
      "text/plain": [
       "   introduction                      group       brand      model_name  \\\n",
       "0          2007  Fiat Chrysler Automobiles  Alfa Romeo  Alfa Romeo 147   \n",
       "1          2008  Fiat Chrysler Automobiles  Alfa Romeo  Alfa Romeo 159   \n",
       "\n",
       "   length   width  height  curb_weight  total_max_power_hp  price  \n",
       "0    4223 1729.00 1442.00         1185                 105  21950  \n",
       "1    4661 1830.00 1422.00         1360                 140  28450  "
      ]
     },
     "execution_count": 18,
     "metadata": {},
     "output_type": "execute_result"
    }
   ],
   "source": [
    "df.head(2)"
   ]
  },
  {
   "attachments": {},
   "cell_type": "markdown",
   "id": "7753ca6c-7697-4d5a-b724-1a56f44e7ca1",
   "metadata": {},
   "source": [
    "The content of a data frame can also be explored with the method `info`. It reports the dimensions, the data type and the number of non-missing values of every column of the data frame. "
   ]
  },
  {
   "cell_type": "code",
   "execution_count": 19,
   "id": "dd8f6cc1-e162-40d3-a714-2dbc5c81037b",
   "metadata": {},
   "outputs": [
    {
     "name": "stdout",
     "output_type": "stream",
     "text": [
      "<class 'pandas.core.frame.DataFrame'>\n",
      "RangeIndex: 591 entries, 0 to 590\n",
      "Data columns (total 10 columns):\n",
      " #   Column              Non-Null Count  Dtype  \n",
      "---  ------              --------------  -----  \n",
      " 0   introduction        591 non-null    int64  \n",
      " 1   group               591 non-null    object \n",
      " 2   brand               591 non-null    object \n",
      " 3   model_name          591 non-null    object \n",
      " 4   length              591 non-null    int64  \n",
      " 5   width               590 non-null    float64\n",
      " 6   height              590 non-null    float64\n",
      " 7   curb_weight         591 non-null    int64  \n",
      " 8   total_max_power_hp  591 non-null    int64  \n",
      " 9   price               591 non-null    int64  \n",
      "dtypes: float64(2), int64(5), object(3)\n",
      "memory usage: 46.3+ KB\n"
     ]
    }
   ],
   "source": [
    "df.info()"
   ]
  },
  {
   "cell_type": "markdown",
   "id": "c04646ab",
   "metadata": {},
   "source": [
    "### Extracting a Series"
   ]
  },
  {
   "cell_type": "markdown",
   "id": "9f297f00",
   "metadata": {},
   "source": [
    "A Series (column) can be extracted by typing its name in quotes:"
   ]
  },
  {
   "cell_type": "code",
   "execution_count": 20,
   "id": "a2c76f11",
   "metadata": {},
   "outputs": [
    {
     "data": {
      "text/plain": [
       "0      2007\n",
       "1      2008\n",
       "2      2013\n",
       "3      2008\n",
       "4      2009\n",
       "       ... \n",
       "586    2007\n",
       "587    2020\n",
       "588    2010\n",
       "589    2004\n",
       "590    2003\n",
       "Name: introduction, Length: 591, dtype: int64"
      ]
     },
     "execution_count": 20,
     "metadata": {},
     "output_type": "execute_result"
    }
   ],
   "source": [
    "df['introduction']"
   ]
  },
  {
   "cell_type": "code",
   "execution_count": 21,
   "id": "f3dfc323",
   "metadata": {},
   "outputs": [
    {
     "data": {
      "text/plain": [
       "0      2007\n",
       "1      2008\n",
       "2      2013\n",
       "3      2008\n",
       "4      2009\n",
       "       ... \n",
       "586    2007\n",
       "587    2020\n",
       "588    2010\n",
       "589    2004\n",
       "590    2003\n",
       "Name: introduction, Length: 591, dtype: int64"
      ]
     },
     "execution_count": 21,
     "metadata": {},
     "output_type": "execute_result"
    }
   ],
   "source": [
    "# This is faster to type, but gives issues if you have special characters in\n",
    "# the name of the dataframe's column.\n",
    "df.introduction"
   ]
  },
  {
   "cell_type": "markdown",
   "id": "7797a10b",
   "metadata": {},
   "source": [
    "Note how the series is not just the values of that column, but also includes a reference to the name and the index. These can be extracted if you need them:"
   ]
  },
  {
   "cell_type": "code",
   "execution_count": 22,
   "id": "c229fa70",
   "metadata": {},
   "outputs": [
    {
     "data": {
      "text/plain": [
       "(591,)"
      ]
     },
     "execution_count": 22,
     "metadata": {},
     "output_type": "execute_result"
    }
   ],
   "source": [
    "df.introduction.index\n",
    "df.introduction.name\n",
    "df.introduction.shape"
   ]
  },
  {
   "cell_type": "markdown",
   "id": "52293575",
   "metadata": {},
   "source": [
    "**You try it:**\n",
    "\n",
    "Create a pandas Series of the volume of all the cars in m3.\n",
    "\n",
    "Hint: start by extracting the height, width and length. Then, multiply the three numbers."
   ]
  },
  {
   "cell_type": "code",
   "execution_count": null,
   "id": "aaf57dbc",
   "metadata": {
    "tags": [
     "remove_output"
    ]
   },
   "outputs": [],
   "source": []
  },
  {
   "cell_type": "markdown",
   "id": "460a793f",
   "metadata": {},
   "source": [
    "### Extracting a dataframe"
   ]
  },
  {
   "cell_type": "markdown",
   "id": "f95acfaa",
   "metadata": {},
   "source": [
    "You can also extract a data subdataframe containing a subset of complete columns from a data frame. You\n",
    "can specify this with a list containing the names of those columns:"
   ]
  },
  {
   "cell_type": "code",
   "execution_count": 23,
   "id": "70183561",
   "metadata": {},
   "outputs": [
    {
     "data": {
      "text/html": [
       "<div>\n",
       "<style scoped>\n",
       "    .dataframe tbody tr th:only-of-type {\n",
       "        vertical-align: middle;\n",
       "    }\n",
       "\n",
       "    .dataframe tbody tr th {\n",
       "        vertical-align: top;\n",
       "    }\n",
       "\n",
       "    .dataframe thead th {\n",
       "        text-align: right;\n",
       "    }\n",
       "</style>\n",
       "<table border=\"1\" class=\"dataframe\">\n",
       "  <thead>\n",
       "    <tr style=\"text-align: right;\">\n",
       "      <th></th>\n",
       "      <th>introduction</th>\n",
       "      <th>price</th>\n",
       "      <th>model_name</th>\n",
       "    </tr>\n",
       "  </thead>\n",
       "  <tbody>\n",
       "    <tr>\n",
       "      <th>0</th>\n",
       "      <td>2007</td>\n",
       "      <td>21950</td>\n",
       "      <td>Alfa Romeo 147</td>\n",
       "    </tr>\n",
       "    <tr>\n",
       "      <th>1</th>\n",
       "      <td>2008</td>\n",
       "      <td>28450</td>\n",
       "      <td>Alfa Romeo 159</td>\n",
       "    </tr>\n",
       "    <tr>\n",
       "      <th>2</th>\n",
       "      <td>2013</td>\n",
       "      <td>75360</td>\n",
       "      <td>Alfa Romeo 4C</td>\n",
       "    </tr>\n",
       "    <tr>\n",
       "      <th>3</th>\n",
       "      <td>2008</td>\n",
       "      <td>220000</td>\n",
       "      <td>Alfa Romeo 8C</td>\n",
       "    </tr>\n",
       "    <tr>\n",
       "      <th>4</th>\n",
       "      <td>2009</td>\n",
       "      <td>40950</td>\n",
       "      <td>Alfa Romeo Brera</td>\n",
       "    </tr>\n",
       "    <tr>\n",
       "      <th>...</th>\n",
       "      <td>...</td>\n",
       "      <td>...</td>\n",
       "      <td>...</td>\n",
       "    </tr>\n",
       "    <tr>\n",
       "      <th>586</th>\n",
       "      <td>2007</td>\n",
       "      <td>39895</td>\n",
       "      <td>Volvo V70</td>\n",
       "    </tr>\n",
       "    <tr>\n",
       "      <th>587</th>\n",
       "      <td>2020</td>\n",
       "      <td>58775</td>\n",
       "      <td>Volvo XC40</td>\n",
       "    </tr>\n",
       "    <tr>\n",
       "      <th>588</th>\n",
       "      <td>2010</td>\n",
       "      <td>49495</td>\n",
       "      <td>Volvo XC60</td>\n",
       "    </tr>\n",
       "    <tr>\n",
       "      <th>589</th>\n",
       "      <td>2004</td>\n",
       "      <td>49815</td>\n",
       "      <td>Volvo XC70</td>\n",
       "    </tr>\n",
       "    <tr>\n",
       "      <th>590</th>\n",
       "      <td>2003</td>\n",
       "      <td>56115</td>\n",
       "      <td>Volvo XC90</td>\n",
       "    </tr>\n",
       "  </tbody>\n",
       "</table>\n",
       "<p>591 rows × 3 columns</p>\n",
       "</div>"
      ],
      "text/plain": [
       "     introduction   price        model_name\n",
       "0            2007   21950    Alfa Romeo 147\n",
       "1            2008   28450    Alfa Romeo 159\n",
       "2            2013   75360     Alfa Romeo 4C\n",
       "3            2008  220000     Alfa Romeo 8C\n",
       "4            2009   40950  Alfa Romeo Brera\n",
       "..            ...     ...               ...\n",
       "586          2007   39895         Volvo V70\n",
       "587          2020   58775        Volvo XC40\n",
       "588          2010   49495        Volvo XC60\n",
       "589          2004   49815        Volvo XC70\n",
       "590          2003   56115        Volvo XC90\n",
       "\n",
       "[591 rows x 3 columns]"
      ]
     },
     "execution_count": 23,
     "metadata": {},
     "output_type": "execute_result"
    }
   ],
   "source": [
    "df[['introduction', 'price','model_name']]"
   ]
  },
  {
   "attachments": {},
   "cell_type": "markdown",
   "id": "b76fc893-9e9b-4ff8-9897-4bab041529d3",
   "metadata": {},
   "source": [
    "The function `describe` returns a conventional statistical summary. The columns of type object are omitted,\n",
    "except when all the columns have that type. Then the report contains only counts. This function also works\n",
    "for series."
   ]
  },
  {
   "cell_type": "code",
   "execution_count": 24,
   "id": "49f8e0d2-b041-4813-8517-59bf34369993",
   "metadata": {},
   "outputs": [
    {
     "data": {
      "text/html": [
       "<div>\n",
       "<style scoped>\n",
       "    .dataframe tbody tr th:only-of-type {\n",
       "        vertical-align: middle;\n",
       "    }\n",
       "\n",
       "    .dataframe tbody tr th {\n",
       "        vertical-align: top;\n",
       "    }\n",
       "\n",
       "    .dataframe thead th {\n",
       "        text-align: right;\n",
       "    }\n",
       "</style>\n",
       "<table border=\"1\" class=\"dataframe\">\n",
       "  <thead>\n",
       "    <tr style=\"text-align: right;\">\n",
       "      <th></th>\n",
       "      <th>introduction</th>\n",
       "      <th>length</th>\n",
       "      <th>width</th>\n",
       "      <th>height</th>\n",
       "      <th>curb_weight</th>\n",
       "      <th>total_max_power_hp</th>\n",
       "      <th>price</th>\n",
       "    </tr>\n",
       "  </thead>\n",
       "  <tbody>\n",
       "    <tr>\n",
       "      <th>count</th>\n",
       "      <td>591.00</td>\n",
       "      <td>591.00</td>\n",
       "      <td>590.00</td>\n",
       "      <td>590.00</td>\n",
       "      <td>591.00</td>\n",
       "      <td>591.00</td>\n",
       "      <td>591.00</td>\n",
       "    </tr>\n",
       "    <tr>\n",
       "      <th>mean</th>\n",
       "      <td>2011.40</td>\n",
       "      <td>4438.12</td>\n",
       "      <td>1808.69</td>\n",
       "      <td>1547.02</td>\n",
       "      <td>1442.04</td>\n",
       "      <td>190.54</td>\n",
       "      <td>63054.16</td>\n",
       "    </tr>\n",
       "    <tr>\n",
       "      <th>std</th>\n",
       "      <td>5.79</td>\n",
       "      <td>471.16</td>\n",
       "      <td>106.20</td>\n",
       "      <td>203.17</td>\n",
       "      <td>379.72</td>\n",
       "      <td>146.91</td>\n",
       "      <td>91429.29</td>\n",
       "    </tr>\n",
       "    <tr>\n",
       "      <th>min</th>\n",
       "      <td>2001.00</td>\n",
       "      <td>2338.00</td>\n",
       "      <td>1396.00</td>\n",
       "      <td>1117.00</td>\n",
       "      <td>474.00</td>\n",
       "      <td>16.00</td>\n",
       "      <td>6995.00</td>\n",
       "    </tr>\n",
       "    <tr>\n",
       "      <th>25%</th>\n",
       "      <td>2006.00</td>\n",
       "      <td>4178.00</td>\n",
       "      <td>1750.00</td>\n",
       "      <td>1430.00</td>\n",
       "      <td>1164.00</td>\n",
       "      <td>100.00</td>\n",
       "      <td>21087.00</td>\n",
       "    </tr>\n",
       "    <tr>\n",
       "      <th>50%</th>\n",
       "      <td>2011.00</td>\n",
       "      <td>4495.00</td>\n",
       "      <td>1810.50</td>\n",
       "      <td>1513.50</td>\n",
       "      <td>1401.00</td>\n",
       "      <td>136.00</td>\n",
       "      <td>33207.00</td>\n",
       "    </tr>\n",
       "    <tr>\n",
       "      <th>75%</th>\n",
       "      <td>2017.00</td>\n",
       "      <td>4764.00</td>\n",
       "      <td>1881.50</td>\n",
       "      <td>1657.25</td>\n",
       "      <td>1694.50</td>\n",
       "      <td>231.00</td>\n",
       "      <td>60778.50</td>\n",
       "    </tr>\n",
       "    <tr>\n",
       "      <th>max</th>\n",
       "      <td>2020.00</td>\n",
       "      <td>6088.00</td>\n",
       "      <td>2070.00</td>\n",
       "      <td>2687.00</td>\n",
       "      <td>2635.00</td>\n",
       "      <td>1000.00</td>\n",
       "      <td>909770.00</td>\n",
       "    </tr>\n",
       "  </tbody>\n",
       "</table>\n",
       "</div>"
      ],
      "text/plain": [
       "       introduction  length   width  height  curb_weight  total_max_power_hp  \\\n",
       "count        591.00  591.00  590.00  590.00       591.00              591.00   \n",
       "mean        2011.40 4438.12 1808.69 1547.02      1442.04              190.54   \n",
       "std            5.79  471.16  106.20  203.17       379.72              146.91   \n",
       "min         2001.00 2338.00 1396.00 1117.00       474.00               16.00   \n",
       "25%         2006.00 4178.00 1750.00 1430.00      1164.00              100.00   \n",
       "50%         2011.00 4495.00 1810.50 1513.50      1401.00              136.00   \n",
       "75%         2017.00 4764.00 1881.50 1657.25      1694.50              231.00   \n",
       "max         2020.00 6088.00 2070.00 2687.00      2635.00             1000.00   \n",
       "\n",
       "          price  \n",
       "count    591.00  \n",
       "mean   63054.16  \n",
       "std    91429.29  \n",
       "min     6995.00  \n",
       "25%    21087.00  \n",
       "50%    33207.00  \n",
       "75%    60778.50  \n",
       "max   909770.00  "
      ]
     },
     "execution_count": 24,
     "metadata": {},
     "output_type": "execute_result"
    }
   ],
   "source": [
    "df.describe()"
   ]
  },
  {
   "cell_type": "markdown",
   "id": "f03cb6b2",
   "metadata": {},
   "source": [
    "Statistics can also be calculated manually using `min`, `max`, `mean`, `std`, `quantile`, etc."
   ]
  },
  {
   "cell_type": "code",
   "execution_count": 25,
   "id": "d88a4bf1-b786-497c-88e9-b0b2601f9ed7",
   "metadata": {
    "tags": []
   },
   "outputs": [
    {
     "data": {
      "text/plain": [
       "33207.0"
      ]
     },
     "execution_count": 25,
     "metadata": {},
     "output_type": "execute_result"
    }
   ],
   "source": [
    "df.price.median()"
   ]
  },
  {
   "attachments": {},
   "cell_type": "markdown",
   "id": "8c4e3830-ed80-4792-be9c-0baee03293ee",
   "metadata": {},
   "source": [
    "<div class='warning-box'>\n",
    "Warning: You can extract a subframe with a single column. Beware that this is not the same as a series.\n",
    "`df['introduction']` is a series with shape `(5,)`, and `df[['introduction']]` is a data frame with shape (5,1)! This is a common source of confusion for people starting out in pandas.\n",
    "</div>"
   ]
  },
  {
   "cell_type": "markdown",
   "id": "acceaec4",
   "metadata": {},
   "source": [
    "### Adding data"
   ]
  },
  {
   "cell_type": "markdown",
   "id": "0ec21b84",
   "metadata": {},
   "source": [
    "During the process of handling a dataset, you may want to add new (calculated) columns to the dataframe. You can add them using the column indexing syntax:"
   ]
  },
  {
   "cell_type": "code",
   "execution_count": 26,
   "id": "037883b2",
   "metadata": {},
   "outputs": [],
   "source": [
    "df['price_squared'] = df['price'] * df['price']"
   ]
  },
  {
   "cell_type": "code",
   "execution_count": 27,
   "id": "a61a5765",
   "metadata": {},
   "outputs": [
    {
     "data": {
      "text/plain": [
       "0        481802500\n",
       "1        809402500\n",
       "2       5679129600\n",
       "3      48400000000\n",
       "4       1676902500\n",
       "          ...     \n",
       "586     1591611025\n",
       "587     3454500625\n",
       "588     2449755025\n",
       "589     2481534225\n",
       "590     3148893225\n",
       "Name: price_squared, Length: 591, dtype: int64"
      ]
     },
     "execution_count": 27,
     "metadata": {},
     "output_type": "execute_result"
    }
   ],
   "source": [
    "df['price_squared']"
   ]
  },
  {
   "cell_type": "markdown",
   "id": "70ae8677",
   "metadata": {},
   "source": [
    "### Row filtering expressions"
   ]
  },
  {
   "cell_type": "markdown",
   "id": "459649d7",
   "metadata": {},
   "source": [
    "In data science, rows are typically filtered by *expressions* (also called filters, or Boolean masks). An expression is a set of conditions that we wish to impose. They are encoded as a Boolean array.\n",
    "\n",
    "Let's say that we want to get all cars introduced from the year 2010 onwards. We know that the `introduction` columns contains the year so we could write an expression for it as follows:"
   ]
  },
  {
   "cell_type": "code",
   "execution_count": 28,
   "id": "8a83d55c",
   "metadata": {},
   "outputs": [],
   "source": [
    "introduction_post_2010 = df['introduction'] >= 2010"
   ]
  },
  {
   "cell_type": "markdown",
   "id": "148c3618",
   "metadata": {},
   "source": [
    "This variable is Boolean numpy array that is `True` if the condition holds and `False` otherwise."
   ]
  },
  {
   "cell_type": "code",
   "execution_count": 29,
   "id": "d0c51155",
   "metadata": {},
   "outputs": [
    {
     "data": {
      "text/plain": [
       "0      False\n",
       "1      False\n",
       "2       True\n",
       "3      False\n",
       "4      False\n",
       "       ...  \n",
       "586    False\n",
       "587     True\n",
       "588     True\n",
       "589    False\n",
       "590    False\n",
       "Name: introduction, Length: 591, dtype: bool"
      ]
     },
     "execution_count": 29,
     "metadata": {},
     "output_type": "execute_result"
    }
   ],
   "source": [
    "introduction_post_2010"
   ]
  },
  {
   "cell_type": "markdown",
   "id": "d3098e26",
   "metadata": {},
   "source": [
    "Such an expression can readily be pluggeds into the indexing of a dataframe to produce another (smaller) one where the condition applies:"
   ]
  },
  {
   "cell_type": "code",
   "execution_count": 30,
   "id": "cafc7328",
   "metadata": {},
   "outputs": [
    {
     "data": {
      "text/plain": [
       "(591, 11)"
      ]
     },
     "execution_count": 30,
     "metadata": {},
     "output_type": "execute_result"
    }
   ],
   "source": [
    "df.shape"
   ]
  },
  {
   "cell_type": "code",
   "execution_count": 31,
   "id": "c9877fb0",
   "metadata": {},
   "outputs": [
    {
     "data": {
      "text/plain": [
       "(369, 11)"
      ]
     },
     "execution_count": 31,
     "metadata": {},
     "output_type": "execute_result"
    }
   ],
   "source": [
    "df[introduction_post_2010].shape"
   ]
  },
  {
   "cell_type": "markdown",
   "id": "6d8f5c1b",
   "metadata": {},
   "source": [
    "For small expression, this is usually written as a one-liner:"
   ]
  },
  {
   "cell_type": "code",
   "execution_count": 32,
   "id": "ec2e20cf-371f-41b2-bbd9-140edc4b33f7",
   "metadata": {},
   "outputs": [
    {
     "data": {
      "text/html": [
       "<div>\n",
       "<style scoped>\n",
       "    .dataframe tbody tr th:only-of-type {\n",
       "        vertical-align: middle;\n",
       "    }\n",
       "\n",
       "    .dataframe tbody tr th {\n",
       "        vertical-align: top;\n",
       "    }\n",
       "\n",
       "    .dataframe thead th {\n",
       "        text-align: right;\n",
       "    }\n",
       "</style>\n",
       "<table border=\"1\" class=\"dataframe\">\n",
       "  <thead>\n",
       "    <tr style=\"text-align: right;\">\n",
       "      <th></th>\n",
       "      <th>introduction</th>\n",
       "      <th>group</th>\n",
       "      <th>brand</th>\n",
       "      <th>model_name</th>\n",
       "      <th>length</th>\n",
       "      <th>width</th>\n",
       "      <th>height</th>\n",
       "      <th>curb_weight</th>\n",
       "      <th>total_max_power_hp</th>\n",
       "      <th>price</th>\n",
       "      <th>price_squared</th>\n",
       "    </tr>\n",
       "  </thead>\n",
       "  <tbody>\n",
       "    <tr>\n",
       "      <th>2</th>\n",
       "      <td>2013</td>\n",
       "      <td>Fiat Chrysler Automobiles</td>\n",
       "      <td>Alfa Romeo</td>\n",
       "      <td>Alfa Romeo 4C</td>\n",
       "      <td>3990</td>\n",
       "      <td>1868.00</td>\n",
       "      <td>1184.00</td>\n",
       "      <td>895</td>\n",
       "      <td>240</td>\n",
       "      <td>75360</td>\n",
       "      <td>5679129600</td>\n",
       "    </tr>\n",
       "    <tr>\n",
       "      <th>7</th>\n",
       "      <td>2020</td>\n",
       "      <td>Fiat Chrysler Automobiles</td>\n",
       "      <td>Alfa Romeo</td>\n",
       "      <td>Alfa Romeo Giulia</td>\n",
       "      <td>4643</td>\n",
       "      <td>1860.00</td>\n",
       "      <td>1436.00</td>\n",
       "      <td>1404</td>\n",
       "      <td>200</td>\n",
       "      <td>44170</td>\n",
       "      <td>1950988900</td>\n",
       "    </tr>\n",
       "    <tr>\n",
       "      <th>8</th>\n",
       "      <td>2014</td>\n",
       "      <td>Fiat Chrysler Automobiles</td>\n",
       "      <td>Alfa Romeo</td>\n",
       "      <td>Alfa Romeo Giulietta</td>\n",
       "      <td>4351</td>\n",
       "      <td>1798.00</td>\n",
       "      <td>1465.00</td>\n",
       "      <td>1255</td>\n",
       "      <td>105</td>\n",
       "      <td>23450</td>\n",
       "      <td>549902500</td>\n",
       "    </tr>\n",
       "    <tr>\n",
       "      <th>9</th>\n",
       "      <td>2011</td>\n",
       "      <td>Fiat Chrysler Automobiles</td>\n",
       "      <td>Alfa Romeo</td>\n",
       "      <td>Alfa Romeo MiTo</td>\n",
       "      <td>4065</td>\n",
       "      <td>1721.00</td>\n",
       "      <td>1434.00</td>\n",
       "      <td>1055</td>\n",
       "      <td>70</td>\n",
       "      <td>16450</td>\n",
       "      <td>270602500</td>\n",
       "    </tr>\n",
       "    <tr>\n",
       "      <th>10</th>\n",
       "      <td>2016</td>\n",
       "      <td>Fiat Chrysler Automobiles</td>\n",
       "      <td>Alfa Romeo</td>\n",
       "      <td>Alfa Romeo Mito</td>\n",
       "      <td>4063</td>\n",
       "      <td>1720.00</td>\n",
       "      <td>1453.00</td>\n",
       "      <td>1055</td>\n",
       "      <td>78</td>\n",
       "      <td>17950</td>\n",
       "      <td>322202500</td>\n",
       "    </tr>\n",
       "    <tr>\n",
       "      <th>11</th>\n",
       "      <td>2020</td>\n",
       "      <td>Fiat Chrysler Automobiles</td>\n",
       "      <td>Alfa Romeo</td>\n",
       "      <td>Alfa Romeo Stelvio</td>\n",
       "      <td>4687</td>\n",
       "      <td>1903.00</td>\n",
       "      <td>1671.00</td>\n",
       "      <td>1635</td>\n",
       "      <td>200</td>\n",
       "      <td>63335</td>\n",
       "      <td>4011322225</td>\n",
       "    </tr>\n",
       "    <tr>\n",
       "      <th>12</th>\n",
       "      <td>2011</td>\n",
       "      <td>Independent</td>\n",
       "      <td>Aston Martin</td>\n",
       "      <td>Aston Martin Cygnet</td>\n",
       "      <td>3078</td>\n",
       "      <td>1680.00</td>\n",
       "      <td>1500.00</td>\n",
       "      <td>988</td>\n",
       "      <td>98</td>\n",
       "      <td>41063</td>\n",
       "      <td>1686169969</td>\n",
       "    </tr>\n",
       "    <tr>\n",
       "      <th>13</th>\n",
       "      <td>2018</td>\n",
       "      <td>Independent</td>\n",
       "      <td>Aston Martin</td>\n",
       "      <td>Aston Martin DB11</td>\n",
       "      <td>4739</td>\n",
       "      <td>1940.00</td>\n",
       "      <td>1279.00</td>\n",
       "      <td>1870</td>\n",
       "      <td>510</td>\n",
       "      <td>262908</td>\n",
       "      <td>69120616464</td>\n",
       "    </tr>\n",
       "    <tr>\n",
       "      <th>14</th>\n",
       "      <td>2012</td>\n",
       "      <td>Independent</td>\n",
       "      <td>Aston Martin</td>\n",
       "      <td>Aston Martin DB9</td>\n",
       "      <td>4720</td>\n",
       "      <td>1875.00</td>\n",
       "      <td>1282.00</td>\n",
       "      <td>1785</td>\n",
       "      <td>517</td>\n",
       "      <td>258501</td>\n",
       "      <td>66822767001</td>\n",
       "    </tr>\n",
       "    <tr>\n",
       "      <th>16</th>\n",
       "      <td>2010</td>\n",
       "      <td>Independent</td>\n",
       "      <td>Aston Martin</td>\n",
       "      <td>Aston Martin Rapide</td>\n",
       "      <td>5019</td>\n",
       "      <td>1875.00</td>\n",
       "      <td>1360.00</td>\n",
       "      <td>1965</td>\n",
       "      <td>476</td>\n",
       "      <td>270234</td>\n",
       "      <td>73026414756</td>\n",
       "    </tr>\n",
       "  </tbody>\n",
       "</table>\n",
       "</div>"
      ],
      "text/plain": [
       "    introduction                      group         brand  \\\n",
       "2           2013  Fiat Chrysler Automobiles    Alfa Romeo   \n",
       "7           2020  Fiat Chrysler Automobiles    Alfa Romeo   \n",
       "8           2014  Fiat Chrysler Automobiles    Alfa Romeo   \n",
       "9           2011  Fiat Chrysler Automobiles    Alfa Romeo   \n",
       "10          2016  Fiat Chrysler Automobiles    Alfa Romeo   \n",
       "11          2020  Fiat Chrysler Automobiles    Alfa Romeo   \n",
       "12          2011                Independent  Aston Martin   \n",
       "13          2018                Independent  Aston Martin   \n",
       "14          2012                Independent  Aston Martin   \n",
       "16          2010                Independent  Aston Martin   \n",
       "\n",
       "              model_name  length   width  height  curb_weight  \\\n",
       "2          Alfa Romeo 4C    3990 1868.00 1184.00          895   \n",
       "7      Alfa Romeo Giulia    4643 1860.00 1436.00         1404   \n",
       "8   Alfa Romeo Giulietta    4351 1798.00 1465.00         1255   \n",
       "9        Alfa Romeo MiTo    4065 1721.00 1434.00         1055   \n",
       "10       Alfa Romeo Mito    4063 1720.00 1453.00         1055   \n",
       "11    Alfa Romeo Stelvio    4687 1903.00 1671.00         1635   \n",
       "12   Aston Martin Cygnet    3078 1680.00 1500.00          988   \n",
       "13     Aston Martin DB11    4739 1940.00 1279.00         1870   \n",
       "14      Aston Martin DB9    4720 1875.00 1282.00         1785   \n",
       "16   Aston Martin Rapide    5019 1875.00 1360.00         1965   \n",
       "\n",
       "    total_max_power_hp   price  price_squared  \n",
       "2                  240   75360     5679129600  \n",
       "7                  200   44170     1950988900  \n",
       "8                  105   23450      549902500  \n",
       "9                   70   16450      270602500  \n",
       "10                  78   17950      322202500  \n",
       "11                 200   63335     4011322225  \n",
       "12                  98   41063     1686169969  \n",
       "13                 510  262908    69120616464  \n",
       "14                 517  258501    66822767001  \n",
       "16                 476  270234    73026414756  "
      ]
     },
     "execution_count": 32,
     "metadata": {},
     "output_type": "execute_result"
    }
   ],
   "source": [
    "df[df['introduction'] >= 2010].head(10)"
   ]
  },
  {
   "cell_type": "markdown",
   "id": "1948cf79",
   "metadata": {},
   "source": [
    "Of course, we can make more complicated expressions. If you want all car models form BMW after the year 2010:"
   ]
  },
  {
   "cell_type": "code",
   "execution_count": 33,
   "id": "ef038b09",
   "metadata": {},
   "outputs": [
    {
     "data": {
      "text/html": [
       "<div>\n",
       "<style scoped>\n",
       "    .dataframe tbody tr th:only-of-type {\n",
       "        vertical-align: middle;\n",
       "    }\n",
       "\n",
       "    .dataframe tbody tr th {\n",
       "        vertical-align: top;\n",
       "    }\n",
       "\n",
       "    .dataframe thead th {\n",
       "        text-align: right;\n",
       "    }\n",
       "</style>\n",
       "<table border=\"1\" class=\"dataframe\">\n",
       "  <thead>\n",
       "    <tr style=\"text-align: right;\">\n",
       "      <th></th>\n",
       "      <th>introduction</th>\n",
       "      <th>group</th>\n",
       "      <th>brand</th>\n",
       "      <th>model_name</th>\n",
       "      <th>length</th>\n",
       "      <th>width</th>\n",
       "      <th>height</th>\n",
       "      <th>curb_weight</th>\n",
       "      <th>total_max_power_hp</th>\n",
       "      <th>price</th>\n",
       "      <th>price_squared</th>\n",
       "    </tr>\n",
       "  </thead>\n",
       "  <tbody>\n",
       "    <tr>\n",
       "      <th>47</th>\n",
       "      <td>2012</td>\n",
       "      <td>BMW</td>\n",
       "      <td>BMW</td>\n",
       "      <td>BMW 114i</td>\n",
       "      <td>4324</td>\n",
       "      <td>1765.00</td>\n",
       "      <td>1421.00</td>\n",
       "      <td>1265</td>\n",
       "      <td>102</td>\n",
       "      <td>25990</td>\n",
       "      <td>675480100</td>\n",
       "    </tr>\n",
       "    <tr>\n",
       "      <th>48</th>\n",
       "      <td>2020</td>\n",
       "      <td>BMW</td>\n",
       "      <td>BMW</td>\n",
       "      <td>BMW 116i</td>\n",
       "      <td>4319</td>\n",
       "      <td>1799.00</td>\n",
       "      <td>1434.00</td>\n",
       "      <td>1295</td>\n",
       "      <td>109</td>\n",
       "      <td>29989</td>\n",
       "      <td>899340121</td>\n",
       "    </tr>\n",
       "    <tr>\n",
       "      <th>49</th>\n",
       "      <td>2011</td>\n",
       "      <td>BMW</td>\n",
       "      <td>BMW</td>\n",
       "      <td>BMW 118i</td>\n",
       "      <td>4360</td>\n",
       "      <td>1748.00</td>\n",
       "      <td>1411.00</td>\n",
       "      <td>1395</td>\n",
       "      <td>143</td>\n",
       "      <td>36990</td>\n",
       "      <td>1368260100</td>\n",
       "    </tr>\n",
       "    <tr>\n",
       "      <th>50</th>\n",
       "      <td>2011</td>\n",
       "      <td>BMW</td>\n",
       "      <td>BMW</td>\n",
       "      <td>BMW 120i</td>\n",
       "      <td>4360</td>\n",
       "      <td>1748.00</td>\n",
       "      <td>1423.00</td>\n",
       "      <td>1275</td>\n",
       "      <td>170</td>\n",
       "      <td>36990</td>\n",
       "      <td>1368260100</td>\n",
       "    </tr>\n",
       "    <tr>\n",
       "      <th>51</th>\n",
       "      <td>2018</td>\n",
       "      <td>BMW</td>\n",
       "      <td>BMW</td>\n",
       "      <td>BMW 216i</td>\n",
       "      <td>4354</td>\n",
       "      <td>1800.00</td>\n",
       "      <td>1555.00</td>\n",
       "      <td>1325</td>\n",
       "      <td>109</td>\n",
       "      <td>32940</td>\n",
       "      <td>1085043600</td>\n",
       "    </tr>\n",
       "    <tr>\n",
       "      <th>52</th>\n",
       "      <td>2017</td>\n",
       "      <td>BMW</td>\n",
       "      <td>BMW</td>\n",
       "      <td>BMW 218i</td>\n",
       "      <td>4432</td>\n",
       "      <td>1774.00</td>\n",
       "      <td>1413.00</td>\n",
       "      <td>1475</td>\n",
       "      <td>136</td>\n",
       "      <td>47070</td>\n",
       "      <td>2215584900</td>\n",
       "    </tr>\n",
       "    <tr>\n",
       "      <th>53</th>\n",
       "      <td>2012</td>\n",
       "      <td>BMW</td>\n",
       "      <td>BMW</td>\n",
       "      <td>BMW 316i</td>\n",
       "      <td>4624</td>\n",
       "      <td>1811.00</td>\n",
       "      <td>1429.00</td>\n",
       "      <td>1360</td>\n",
       "      <td>136</td>\n",
       "      <td>33700</td>\n",
       "      <td>1135690000</td>\n",
       "    </tr>\n",
       "    <tr>\n",
       "      <th>56</th>\n",
       "      <td>2020</td>\n",
       "      <td>BMW</td>\n",
       "      <td>BMW</td>\n",
       "      <td>BMW 318i</td>\n",
       "      <td>4709</td>\n",
       "      <td>1827.00</td>\n",
       "      <td>1435.00</td>\n",
       "      <td>1445</td>\n",
       "      <td>156</td>\n",
       "      <td>41226</td>\n",
       "      <td>1699583076</td>\n",
       "    </tr>\n",
       "    <tr>\n",
       "      <th>57</th>\n",
       "      <td>2010</td>\n",
       "      <td>BMW</td>\n",
       "      <td>BMW</td>\n",
       "      <td>BMW 320i</td>\n",
       "      <td>4612</td>\n",
       "      <td>1782.00</td>\n",
       "      <td>1384.00</td>\n",
       "      <td>1570</td>\n",
       "      <td>170</td>\n",
       "      <td>51000</td>\n",
       "      <td>2601000000</td>\n",
       "    </tr>\n",
       "    <tr>\n",
       "      <th>58</th>\n",
       "      <td>2017</td>\n",
       "      <td>BMW</td>\n",
       "      <td>BMW</td>\n",
       "      <td>BMW 418i</td>\n",
       "      <td>4640</td>\n",
       "      <td>1825.00</td>\n",
       "      <td>1377.00</td>\n",
       "      <td>1405</td>\n",
       "      <td>136</td>\n",
       "      <td>41093</td>\n",
       "      <td>1688634649</td>\n",
       "    </tr>\n",
       "  </tbody>\n",
       "</table>\n",
       "</div>"
      ],
      "text/plain": [
       "    introduction group brand model_name  length   width  height  curb_weight  \\\n",
       "47          2012   BMW   BMW   BMW 114i    4324 1765.00 1421.00         1265   \n",
       "48          2020   BMW   BMW   BMW 116i    4319 1799.00 1434.00         1295   \n",
       "49          2011   BMW   BMW   BMW 118i    4360 1748.00 1411.00         1395   \n",
       "50          2011   BMW   BMW   BMW 120i    4360 1748.00 1423.00         1275   \n",
       "51          2018   BMW   BMW   BMW 216i    4354 1800.00 1555.00         1325   \n",
       "52          2017   BMW   BMW   BMW 218i    4432 1774.00 1413.00         1475   \n",
       "53          2012   BMW   BMW   BMW 316i    4624 1811.00 1429.00         1360   \n",
       "56          2020   BMW   BMW   BMW 318i    4709 1827.00 1435.00         1445   \n",
       "57          2010   BMW   BMW   BMW 320i    4612 1782.00 1384.00         1570   \n",
       "58          2017   BMW   BMW   BMW 418i    4640 1825.00 1377.00         1405   \n",
       "\n",
       "    total_max_power_hp  price  price_squared  \n",
       "47                 102  25990      675480100  \n",
       "48                 109  29989      899340121  \n",
       "49                 143  36990     1368260100  \n",
       "50                 170  36990     1368260100  \n",
       "51                 109  32940     1085043600  \n",
       "52                 136  47070     2215584900  \n",
       "53                 136  33700     1135690000  \n",
       "56                 156  41226     1699583076  \n",
       "57                 170  51000     2601000000  \n",
       "58                 136  41093     1688634649  "
      ]
     },
     "execution_count": 33,
     "metadata": {},
     "output_type": "execute_result"
    }
   ],
   "source": [
    "is_bmw     = df['brand'] == 'BMW'\n",
    "after_2010 = df['introduction'] >= 2010\n",
    "\n",
    "# the & symbol means \"and\", it is going to check the condition\n",
    "# row-by-row for both parts of the expression and return True\n",
    "# if both conditions are True\n",
    "bmw_after_2010 = is_bmw & after_2010 \n",
    "\n",
    "df[bmw_after_2010].head(10)"
   ]
  },
  {
   "attachments": {},
   "cell_type": "markdown",
   "id": "e8675143-43cd-4beb-8146-b6704cdd53f1",
   "metadata": {},
   "source": [
    "Once expressions and indexing mechanisms become more complicated, I advise you to apply them step-by-step in order to not cause confusion. Here's another example where we apply both a row and column filter:"
   ]
  },
  {
   "cell_type": "code",
   "execution_count": 34,
   "id": "578418fb-b7c0-4ba6-90f6-2243ff8ed073",
   "metadata": {},
   "outputs": [],
   "source": [
    "myfilter                     = df['introduction'] > 2000\n",
    "filtered_data                = df[myfilter]\n",
    "filtered_data_just_3_columns = filtered_data[['introduction', 'model_name', 'price']]"
   ]
  },
  {
   "cell_type": "markdown",
   "id": "81adc48c",
   "metadata": {},
   "source": [
    "A lot of questions in data science can be answered using complex combinations of these filters - something that gets pretty cumbersome pretty quickly in Excel ..."
   ]
  },
  {
   "attachments": {},
   "cell_type": "markdown",
   "id": "e91367aa-8e9e-42af-aa26-a4c6d79fe09a",
   "metadata": {},
   "source": [
    "**You try it**\n",
    "\n",
    "Extract mass-consumer cars built after 2010. What's their average price?\n",
    "\n",
    "We define a mass-consumer car as one for which the price is less than 25K dollars. \n",
    "\n",
    "Hint: work in steps:\n",
    "\n",
    "1. first filter the data\n",
    "2. then extract the price\n",
    "3. then apply the `mean()` function\n"
   ]
  },
  {
   "cell_type": "code",
   "execution_count": null,
   "id": "d427f05b",
   "metadata": {
    "tags": [
     "remove_output"
    ]
   },
   "outputs": [],
   "source": []
  },
  {
   "cell_type": "markdown",
   "id": "9d709d73",
   "metadata": {},
   "source": [
    "### Subsetting by index and label"
   ]
  },
  {
   "attachments": {},
   "cell_type": "markdown",
   "id": "1b13173d-ce3a-4c6c-ad99-c6967cdae949",
   "metadata": {},
   "source": [
    "Besides this, there are two additional ways to carry out a selection:\n",
    "\n",
    "* **Selection by label** is specified by adding `.loc` after the name of the data frame. The selection of the rows is based on the index, and that of the columns is based on the column names.\n",
    "* **Selection by position** uses `.iloc`. The selection of the rows is based on the row number and that of the columns on the column number.\n",
    "\n",
    "In both cases, if you enter a single specification inside the brackets, it refers to the rows. If you enter two\n",
    "specifications, the first one refers to the rows and the second one to the columns."
   ]
  },
  {
   "cell_type": "code",
   "execution_count": 35,
   "id": "46c6d5b1-57b0-440c-a872-1cac9edefb5c",
   "metadata": {},
   "outputs": [],
   "source": [
    "# df.loc[row_labels, column_labels]"
   ]
  },
  {
   "cell_type": "code",
   "execution_count": 36,
   "id": "1312b028-973a-4bcd-86af-8dcbec5d7169",
   "metadata": {},
   "outputs": [
    {
     "data": {
      "text/html": [
       "<div>\n",
       "<style scoped>\n",
       "    .dataframe tbody tr th:only-of-type {\n",
       "        vertical-align: middle;\n",
       "    }\n",
       "\n",
       "    .dataframe tbody tr th {\n",
       "        vertical-align: top;\n",
       "    }\n",
       "\n",
       "    .dataframe thead th {\n",
       "        text-align: right;\n",
       "    }\n",
       "</style>\n",
       "<table border=\"1\" class=\"dataframe\">\n",
       "  <thead>\n",
       "    <tr style=\"text-align: right;\">\n",
       "      <th></th>\n",
       "      <th>model_name</th>\n",
       "      <th>price</th>\n",
       "    </tr>\n",
       "  </thead>\n",
       "  <tbody>\n",
       "    <tr>\n",
       "      <th>1</th>\n",
       "      <td>Alfa Romeo 159</td>\n",
       "      <td>28450</td>\n",
       "    </tr>\n",
       "    <tr>\n",
       "      <th>2</th>\n",
       "      <td>Alfa Romeo 4C</td>\n",
       "      <td>75360</td>\n",
       "    </tr>\n",
       "    <tr>\n",
       "      <th>3</th>\n",
       "      <td>Alfa Romeo 8C</td>\n",
       "      <td>220000</td>\n",
       "    </tr>\n",
       "    <tr>\n",
       "      <th>4</th>\n",
       "      <td>Alfa Romeo Brera</td>\n",
       "      <td>40950</td>\n",
       "    </tr>\n",
       "    <tr>\n",
       "      <th>5</th>\n",
       "      <td>Alfa Romeo Crosswagon</td>\n",
       "      <td>38855</td>\n",
       "    </tr>\n",
       "  </tbody>\n",
       "</table>\n",
       "</div>"
      ],
      "text/plain": [
       "              model_name   price\n",
       "1         Alfa Romeo 159   28450\n",
       "2          Alfa Romeo 4C   75360\n",
       "3          Alfa Romeo 8C  220000\n",
       "4       Alfa Romeo Brera   40950\n",
       "5  Alfa Romeo Crosswagon   38855"
      ]
     },
     "execution_count": 36,
     "metadata": {},
     "output_type": "execute_result"
    }
   ],
   "source": [
    "df.loc[[1,2,3,4,5],['model_name','price']]"
   ]
  },
  {
   "cell_type": "code",
   "execution_count": 37,
   "id": "e4788d1e-57ce-474c-8582-4ba12144f24c",
   "metadata": {},
   "outputs": [
    {
     "data": {
      "text/html": [
       "<div>\n",
       "<style scoped>\n",
       "    .dataframe tbody tr th:only-of-type {\n",
       "        vertical-align: middle;\n",
       "    }\n",
       "\n",
       "    .dataframe tbody tr th {\n",
       "        vertical-align: top;\n",
       "    }\n",
       "\n",
       "    .dataframe thead th {\n",
       "        text-align: right;\n",
       "    }\n",
       "</style>\n",
       "<table border=\"1\" class=\"dataframe\">\n",
       "  <thead>\n",
       "    <tr style=\"text-align: right;\">\n",
       "      <th></th>\n",
       "      <th>brand</th>\n",
       "      <th>model_name</th>\n",
       "      <th>length</th>\n",
       "      <th>width</th>\n",
       "    </tr>\n",
       "  </thead>\n",
       "  <tbody>\n",
       "    <tr>\n",
       "      <th>1</th>\n",
       "      <td>Alfa Romeo</td>\n",
       "      <td>Alfa Romeo 159</td>\n",
       "      <td>4661</td>\n",
       "      <td>1830.00</td>\n",
       "    </tr>\n",
       "    <tr>\n",
       "      <th>2</th>\n",
       "      <td>Alfa Romeo</td>\n",
       "      <td>Alfa Romeo 4C</td>\n",
       "      <td>3990</td>\n",
       "      <td>1868.00</td>\n",
       "    </tr>\n",
       "    <tr>\n",
       "      <th>3</th>\n",
       "      <td>Alfa Romeo</td>\n",
       "      <td>Alfa Romeo 8C</td>\n",
       "      <td>4381</td>\n",
       "      <td>1894.00</td>\n",
       "    </tr>\n",
       "    <tr>\n",
       "      <th>4</th>\n",
       "      <td>Alfa Romeo</td>\n",
       "      <td>Alfa Romeo Brera</td>\n",
       "      <td>4413</td>\n",
       "      <td>1830.00</td>\n",
       "    </tr>\n",
       "  </tbody>\n",
       "</table>\n",
       "</div>"
      ],
      "text/plain": [
       "        brand        model_name  length   width\n",
       "1  Alfa Romeo    Alfa Romeo 159    4661 1830.00\n",
       "2  Alfa Romeo     Alfa Romeo 4C    3990 1868.00\n",
       "3  Alfa Romeo     Alfa Romeo 8C    4381 1894.00\n",
       "4  Alfa Romeo  Alfa Romeo Brera    4413 1830.00"
      ]
     },
     "execution_count": 37,
     "metadata": {},
     "output_type": "execute_result"
    }
   ],
   "source": [
    "df.iloc[1:5,2:6]"
   ]
  },
  {
   "cell_type": "markdown",
   "id": "d95fe2ef",
   "metadata": {},
   "source": [
    "### Pivot Tables\n",
    "\n",
    "We will not cover all the possible functions of pandas here now, but as a rule of thumb if you can do it in Excel, there's a (usually faster) way to do it in Pandas. A more complex - but frequently used - Excel operation is the pivot function:\n",
    "\n",
    "<center>\n",
    "    <img src='https://raw.githubusercontent.com/ciri/iese-dsfb/main/images/pandas_pivot.png' width='90%'>\n",
    "</center>"
   ]
  },
  {
   "cell_type": "markdown",
   "id": "73883ee2",
   "metadata": {},
   "source": [
    "In pandas, this can be done in one line of code by calling the `.pivot_table()` on your dataframe. By default, it will calculate the average, but you can specify other functions using the `aggfunc` argument."
   ]
  },
  {
   "cell_type": "code",
   "execution_count": 38,
   "id": "f07aa687",
   "metadata": {},
   "outputs": [
    {
     "data": {
      "text/html": [
       "<div>\n",
       "<style scoped>\n",
       "    .dataframe tbody tr th:only-of-type {\n",
       "        vertical-align: middle;\n",
       "    }\n",
       "\n",
       "    .dataframe tbody tr th {\n",
       "        vertical-align: top;\n",
       "    }\n",
       "\n",
       "    .dataframe thead th {\n",
       "        text-align: right;\n",
       "    }\n",
       "</style>\n",
       "<table border=\"1\" class=\"dataframe\">\n",
       "  <thead>\n",
       "    <tr style=\"text-align: right;\">\n",
       "      <th>introduction</th>\n",
       "      <th>2001</th>\n",
       "      <th>2002</th>\n",
       "      <th>2003</th>\n",
       "      <th>2004</th>\n",
       "      <th>2005</th>\n",
       "      <th>2006</th>\n",
       "      <th>2007</th>\n",
       "      <th>2008</th>\n",
       "      <th>2009</th>\n",
       "      <th>2010</th>\n",
       "      <th>2011</th>\n",
       "      <th>2012</th>\n",
       "      <th>2013</th>\n",
       "      <th>2014</th>\n",
       "      <th>2015</th>\n",
       "      <th>2016</th>\n",
       "      <th>2017</th>\n",
       "      <th>2018</th>\n",
       "      <th>2019</th>\n",
       "      <th>2020</th>\n",
       "    </tr>\n",
       "    <tr>\n",
       "      <th>group</th>\n",
       "      <th></th>\n",
       "      <th></th>\n",
       "      <th></th>\n",
       "      <th></th>\n",
       "      <th></th>\n",
       "      <th></th>\n",
       "      <th></th>\n",
       "      <th></th>\n",
       "      <th></th>\n",
       "      <th></th>\n",
       "      <th></th>\n",
       "      <th></th>\n",
       "      <th></th>\n",
       "      <th></th>\n",
       "      <th></th>\n",
       "      <th></th>\n",
       "      <th></th>\n",
       "      <th></th>\n",
       "      <th></th>\n",
       "      <th></th>\n",
       "    </tr>\n",
       "  </thead>\n",
       "  <tbody>\n",
       "    <tr>\n",
       "      <th>BMW</th>\n",
       "      <td>NaN</td>\n",
       "      <td>NaN</td>\n",
       "      <td>43083.33</td>\n",
       "      <td>NaN</td>\n",
       "      <td>63745.00</td>\n",
       "      <td>57000.00</td>\n",
       "      <td>89365.00</td>\n",
       "      <td>NaN</td>\n",
       "      <td>NaN</td>\n",
       "      <td>51000.00</td>\n",
       "      <td>33325.00</td>\n",
       "      <td>29228.33</td>\n",
       "      <td>62478.50</td>\n",
       "      <td>50263.00</td>\n",
       "      <td>112168.00</td>\n",
       "      <td>NaN</td>\n",
       "      <td>48532.00</td>\n",
       "      <td>63146.20</td>\n",
       "      <td>78297.00</td>\n",
       "      <td>45177.80</td>\n",
       "    </tr>\n",
       "    <tr>\n",
       "      <th>Daimler AG</th>\n",
       "      <td>17555.00</td>\n",
       "      <td>28090.00</td>\n",
       "      <td>219083.33</td>\n",
       "      <td>NaN</td>\n",
       "      <td>10490.00</td>\n",
       "      <td>NaN</td>\n",
       "      <td>70901.00</td>\n",
       "      <td>71733.00</td>\n",
       "      <td>31950.00</td>\n",
       "      <td>145445.00</td>\n",
       "      <td>48450.00</td>\n",
       "      <td>NaN</td>\n",
       "      <td>48395.00</td>\n",
       "      <td>73496.50</td>\n",
       "      <td>73235.33</td>\n",
       "      <td>45538.00</td>\n",
       "      <td>NaN</td>\n",
       "      <td>48792.67</td>\n",
       "      <td>53603.75</td>\n",
       "      <td>55888.43</td>\n",
       "    </tr>\n",
       "    <tr>\n",
       "      <th>Fiat Chrysler Automobiles</th>\n",
       "      <td>15175.00</td>\n",
       "      <td>52395.00</td>\n",
       "      <td>124507.00</td>\n",
       "      <td>31393.40</td>\n",
       "      <td>44815.00</td>\n",
       "      <td>28463.60</td>\n",
       "      <td>55824.50</td>\n",
       "      <td>81984.50</td>\n",
       "      <td>27725.00</td>\n",
       "      <td>58480.60</td>\n",
       "      <td>49470.00</td>\n",
       "      <td>39629.17</td>\n",
       "      <td>48677.50</td>\n",
       "      <td>23450.00</td>\n",
       "      <td>NaN</td>\n",
       "      <td>36106.20</td>\n",
       "      <td>136008.00</td>\n",
       "      <td>NaN</td>\n",
       "      <td>49723.33</td>\n",
       "      <td>38664.00</td>\n",
       "    </tr>\n",
       "    <tr>\n",
       "      <th>Ford Motor Company</th>\n",
       "      <td>NaN</td>\n",
       "      <td>NaN</td>\n",
       "      <td>19680.00</td>\n",
       "      <td>NaN</td>\n",
       "      <td>15695.00</td>\n",
       "      <td>NaN</td>\n",
       "      <td>NaN</td>\n",
       "      <td>NaN</td>\n",
       "      <td>NaN</td>\n",
       "      <td>NaN</td>\n",
       "      <td>NaN</td>\n",
       "      <td>19555.00</td>\n",
       "      <td>NaN</td>\n",
       "      <td>19490.00</td>\n",
       "      <td>35190.86</td>\n",
       "      <td>NaN</td>\n",
       "      <td>NaN</td>\n",
       "      <td>34518.33</td>\n",
       "      <td>74995.00</td>\n",
       "      <td>49877.50</td>\n",
       "    </tr>\n",
       "    <tr>\n",
       "      <th>Geely</th>\n",
       "      <td>46222.00</td>\n",
       "      <td>22635.00</td>\n",
       "      <td>56115.00</td>\n",
       "      <td>48442.00</td>\n",
       "      <td>NaN</td>\n",
       "      <td>45800.00</td>\n",
       "      <td>30961.67</td>\n",
       "      <td>NaN</td>\n",
       "      <td>59922.00</td>\n",
       "      <td>49495.00</td>\n",
       "      <td>NaN</td>\n",
       "      <td>NaN</td>\n",
       "      <td>NaN</td>\n",
       "      <td>NaN</td>\n",
       "      <td>NaN</td>\n",
       "      <td>NaN</td>\n",
       "      <td>NaN</td>\n",
       "      <td>NaN</td>\n",
       "      <td>NaN</td>\n",
       "      <td>49824.00</td>\n",
       "    </tr>\n",
       "    <tr>\n",
       "      <th>General Motors</th>\n",
       "      <td>39498.00</td>\n",
       "      <td>NaN</td>\n",
       "      <td>NaN</td>\n",
       "      <td>115450.00</td>\n",
       "      <td>31761.43</td>\n",
       "      <td>26881.67</td>\n",
       "      <td>29464.00</td>\n",
       "      <td>11295.00</td>\n",
       "      <td>NaN</td>\n",
       "      <td>49755.00</td>\n",
       "      <td>39245.00</td>\n",
       "      <td>NaN</td>\n",
       "      <td>33760.00</td>\n",
       "      <td>18995.00</td>\n",
       "      <td>66970.00</td>\n",
       "      <td>NaN</td>\n",
       "      <td>103195.00</td>\n",
       "      <td>NaN</td>\n",
       "      <td>NaN</td>\n",
       "      <td>NaN</td>\n",
       "    </tr>\n",
       "    <tr>\n",
       "      <th>Groupe PSA</th>\n",
       "      <td>28626.67</td>\n",
       "      <td>22381.67</td>\n",
       "      <td>20897.50</td>\n",
       "      <td>20275.00</td>\n",
       "      <td>26153.33</td>\n",
       "      <td>55490.00</td>\n",
       "      <td>36307.50</td>\n",
       "      <td>28422.50</td>\n",
       "      <td>15381.00</td>\n",
       "      <td>23903.75</td>\n",
       "      <td>37063.67</td>\n",
       "      <td>14245.00</td>\n",
       "      <td>22286.00</td>\n",
       "      <td>27618.80</td>\n",
       "      <td>15150.75</td>\n",
       "      <td>32266.00</td>\n",
       "      <td>31558.50</td>\n",
       "      <td>30430.00</td>\n",
       "      <td>26624.50</td>\n",
       "      <td>36522.80</td>\n",
       "    </tr>\n",
       "    <tr>\n",
       "      <th>Honda</th>\n",
       "      <td>24940.00</td>\n",
       "      <td>126000.00</td>\n",
       "      <td>NaN</td>\n",
       "      <td>40730.00</td>\n",
       "      <td>NaN</td>\n",
       "      <td>NaN</td>\n",
       "      <td>NaN</td>\n",
       "      <td>14900.00</td>\n",
       "      <td>19990.00</td>\n",
       "      <td>NaN</td>\n",
       "      <td>NaN</td>\n",
       "      <td>NaN</td>\n",
       "      <td>24990.00</td>\n",
       "      <td>NaN</td>\n",
       "      <td>NaN</td>\n",
       "      <td>NaN</td>\n",
       "      <td>25045.00</td>\n",
       "      <td>33872.50</td>\n",
       "      <td>NaN</td>\n",
       "      <td>34500.00</td>\n",
       "    </tr>\n",
       "    <tr>\n",
       "      <th>Hyundai Motor Group</th>\n",
       "      <td>14048.33</td>\n",
       "      <td>NaN</td>\n",
       "      <td>NaN</td>\n",
       "      <td>36145.00</td>\n",
       "      <td>21161.67</td>\n",
       "      <td>NaN</td>\n",
       "      <td>NaN</td>\n",
       "      <td>NaN</td>\n",
       "      <td>NaN</td>\n",
       "      <td>34995.00</td>\n",
       "      <td>21795.00</td>\n",
       "      <td>8695.00</td>\n",
       "      <td>NaN</td>\n",
       "      <td>NaN</td>\n",
       "      <td>NaN</td>\n",
       "      <td>25041.00</td>\n",
       "      <td>21747.00</td>\n",
       "      <td>44198.67</td>\n",
       "      <td>27132.00</td>\n",
       "      <td>24097.00</td>\n",
       "    </tr>\n",
       "    <tr>\n",
       "      <th>Independent</th>\n",
       "      <td>126898.33</td>\n",
       "      <td>586919.00</td>\n",
       "      <td>40794.50</td>\n",
       "      <td>197887.33</td>\n",
       "      <td>329816.00</td>\n",
       "      <td>92499.60</td>\n",
       "      <td>25795.00</td>\n",
       "      <td>154260.33</td>\n",
       "      <td>43643.33</td>\n",
       "      <td>185097.00</td>\n",
       "      <td>190575.83</td>\n",
       "      <td>258413.83</td>\n",
       "      <td>26495.00</td>\n",
       "      <td>96194.00</td>\n",
       "      <td>169542.50</td>\n",
       "      <td>NaN</td>\n",
       "      <td>169101.00</td>\n",
       "      <td>185586.25</td>\n",
       "      <td>29580.00</td>\n",
       "      <td>252551.67</td>\n",
       "    </tr>\n",
       "    <tr>\n",
       "      <th>RNMA Alliance</th>\n",
       "      <td>19595.00</td>\n",
       "      <td>28247.50</td>\n",
       "      <td>18471.67</td>\n",
       "      <td>30699.00</td>\n",
       "      <td>19499.14</td>\n",
       "      <td>44515.00</td>\n",
       "      <td>25990.00</td>\n",
       "      <td>60652.50</td>\n",
       "      <td>48068.00</td>\n",
       "      <td>37644.00</td>\n",
       "      <td>30544.83</td>\n",
       "      <td>11890.00</td>\n",
       "      <td>44099.25</td>\n",
       "      <td>33658.75</td>\n",
       "      <td>45945.00</td>\n",
       "      <td>49945.00</td>\n",
       "      <td>52035.00</td>\n",
       "      <td>35883.50</td>\n",
       "      <td>29825.00</td>\n",
       "      <td>29410.00</td>\n",
       "    </tr>\n",
       "    <tr>\n",
       "      <th>Suzuki</th>\n",
       "      <td>14999.00</td>\n",
       "      <td>NaN</td>\n",
       "      <td>NaN</td>\n",
       "      <td>NaN</td>\n",
       "      <td>NaN</td>\n",
       "      <td>11227.00</td>\n",
       "      <td>NaN</td>\n",
       "      <td>16057.50</td>\n",
       "      <td>NaN</td>\n",
       "      <td>29999.00</td>\n",
       "      <td>NaN</td>\n",
       "      <td>NaN</td>\n",
       "      <td>NaN</td>\n",
       "      <td>NaN</td>\n",
       "      <td>10244.00</td>\n",
       "      <td>17297.67</td>\n",
       "      <td>NaN</td>\n",
       "      <td>20744.00</td>\n",
       "      <td>NaN</td>\n",
       "      <td>63900.00</td>\n",
       "    </tr>\n",
       "    <tr>\n",
       "      <th>Tata Motors</th>\n",
       "      <td>NaN</td>\n",
       "      <td>99800.00</td>\n",
       "      <td>33500.00</td>\n",
       "      <td>52200.00</td>\n",
       "      <td>NaN</td>\n",
       "      <td>NaN</td>\n",
       "      <td>73795.00</td>\n",
       "      <td>NaN</td>\n",
       "      <td>NaN</td>\n",
       "      <td>NaN</td>\n",
       "      <td>30970.00</td>\n",
       "      <td>61600.00</td>\n",
       "      <td>NaN</td>\n",
       "      <td>53120.00</td>\n",
       "      <td>101460.00</td>\n",
       "      <td>NaN</td>\n",
       "      <td>100650.00</td>\n",
       "      <td>NaN</td>\n",
       "      <td>NaN</td>\n",
       "      <td>60506.00</td>\n",
       "    </tr>\n",
       "    <tr>\n",
       "      <th>Toyota</th>\n",
       "      <td>43849.33</td>\n",
       "      <td>62475.00</td>\n",
       "      <td>39733.33</td>\n",
       "      <td>NaN</td>\n",
       "      <td>10515.00</td>\n",
       "      <td>13232.33</td>\n",
       "      <td>33633.00</td>\n",
       "      <td>NaN</td>\n",
       "      <td>17397.50</td>\n",
       "      <td>12150.00</td>\n",
       "      <td>18995.00</td>\n",
       "      <td>39990.00</td>\n",
       "      <td>NaN</td>\n",
       "      <td>NaN</td>\n",
       "      <td>31980.00</td>\n",
       "      <td>61395.00</td>\n",
       "      <td>68552.50</td>\n",
       "      <td>38100.00</td>\n",
       "      <td>34182.50</td>\n",
       "      <td>69883.75</td>\n",
       "    </tr>\n",
       "    <tr>\n",
       "      <th>Volkswagen Group</th>\n",
       "      <td>326860.00</td>\n",
       "      <td>83615.00</td>\n",
       "      <td>191861.20</td>\n",
       "      <td>NaN</td>\n",
       "      <td>140145.67</td>\n",
       "      <td>24265.00</td>\n",
       "      <td>NaN</td>\n",
       "      <td>98770.00</td>\n",
       "      <td>21295.00</td>\n",
       "      <td>51985.00</td>\n",
       "      <td>72028.56</td>\n",
       "      <td>70468.33</td>\n",
       "      <td>56891.67</td>\n",
       "      <td>207375.86</td>\n",
       "      <td>56078.57</td>\n",
       "      <td>93467.40</td>\n",
       "      <td>73299.46</td>\n",
       "      <td>105364.29</td>\n",
       "      <td>47155.11</td>\n",
       "      <td>69574.75</td>\n",
       "    </tr>\n",
       "  </tbody>\n",
       "</table>\n",
       "</div>"
      ],
      "text/plain": [
       "introduction                   2001      2002      2003      2004      2005  \\\n",
       "group                                                                         \n",
       "BMW                             NaN       NaN  43083.33       NaN  63745.00   \n",
       "Daimler AG                 17555.00  28090.00 219083.33       NaN  10490.00   \n",
       "Fiat Chrysler Automobiles  15175.00  52395.00 124507.00  31393.40  44815.00   \n",
       "Ford Motor Company              NaN       NaN  19680.00       NaN  15695.00   \n",
       "Geely                      46222.00  22635.00  56115.00  48442.00       NaN   \n",
       "General Motors             39498.00       NaN       NaN 115450.00  31761.43   \n",
       "Groupe PSA                 28626.67  22381.67  20897.50  20275.00  26153.33   \n",
       "Honda                      24940.00 126000.00       NaN  40730.00       NaN   \n",
       "Hyundai Motor Group        14048.33       NaN       NaN  36145.00  21161.67   \n",
       "Independent               126898.33 586919.00  40794.50 197887.33 329816.00   \n",
       "RNMA Alliance              19595.00  28247.50  18471.67  30699.00  19499.14   \n",
       "Suzuki                     14999.00       NaN       NaN       NaN       NaN   \n",
       "Tata Motors                     NaN  99800.00  33500.00  52200.00       NaN   \n",
       "Toyota                     43849.33  62475.00  39733.33       NaN  10515.00   \n",
       "Volkswagen Group          326860.00  83615.00 191861.20       NaN 140145.67   \n",
       "\n",
       "introduction                  2006     2007      2008     2009      2010  \\\n",
       "group                                                                      \n",
       "BMW                       57000.00 89365.00       NaN      NaN  51000.00   \n",
       "Daimler AG                     NaN 70901.00  71733.00 31950.00 145445.00   \n",
       "Fiat Chrysler Automobiles 28463.60 55824.50  81984.50 27725.00  58480.60   \n",
       "Ford Motor Company             NaN      NaN       NaN      NaN       NaN   \n",
       "Geely                     45800.00 30961.67       NaN 59922.00  49495.00   \n",
       "General Motors            26881.67 29464.00  11295.00      NaN  49755.00   \n",
       "Groupe PSA                55490.00 36307.50  28422.50 15381.00  23903.75   \n",
       "Honda                          NaN      NaN  14900.00 19990.00       NaN   \n",
       "Hyundai Motor Group            NaN      NaN       NaN      NaN  34995.00   \n",
       "Independent               92499.60 25795.00 154260.33 43643.33 185097.00   \n",
       "RNMA Alliance             44515.00 25990.00  60652.50 48068.00  37644.00   \n",
       "Suzuki                    11227.00      NaN  16057.50      NaN  29999.00   \n",
       "Tata Motors                    NaN 73795.00       NaN      NaN       NaN   \n",
       "Toyota                    13232.33 33633.00       NaN 17397.50  12150.00   \n",
       "Volkswagen Group          24265.00      NaN  98770.00 21295.00  51985.00   \n",
       "\n",
       "introduction                   2011      2012     2013      2014      2015  \\\n",
       "group                                                                        \n",
       "BMW                        33325.00  29228.33 62478.50  50263.00 112168.00   \n",
       "Daimler AG                 48450.00       NaN 48395.00  73496.50  73235.33   \n",
       "Fiat Chrysler Automobiles  49470.00  39629.17 48677.50  23450.00       NaN   \n",
       "Ford Motor Company              NaN  19555.00      NaN  19490.00  35190.86   \n",
       "Geely                           NaN       NaN      NaN       NaN       NaN   \n",
       "General Motors             39245.00       NaN 33760.00  18995.00  66970.00   \n",
       "Groupe PSA                 37063.67  14245.00 22286.00  27618.80  15150.75   \n",
       "Honda                           NaN       NaN 24990.00       NaN       NaN   \n",
       "Hyundai Motor Group        21795.00   8695.00      NaN       NaN       NaN   \n",
       "Independent               190575.83 258413.83 26495.00  96194.00 169542.50   \n",
       "RNMA Alliance              30544.83  11890.00 44099.25  33658.75  45945.00   \n",
       "Suzuki                          NaN       NaN      NaN       NaN  10244.00   \n",
       "Tata Motors                30970.00  61600.00      NaN  53120.00 101460.00   \n",
       "Toyota                     18995.00  39990.00      NaN       NaN  31980.00   \n",
       "Volkswagen Group           72028.56  70468.33 56891.67 207375.86  56078.57   \n",
       "\n",
       "introduction                  2016      2017      2018     2019      2020  \n",
       "group                                                                      \n",
       "BMW                            NaN  48532.00  63146.20 78297.00  45177.80  \n",
       "Daimler AG                45538.00       NaN  48792.67 53603.75  55888.43  \n",
       "Fiat Chrysler Automobiles 36106.20 136008.00       NaN 49723.33  38664.00  \n",
       "Ford Motor Company             NaN       NaN  34518.33 74995.00  49877.50  \n",
       "Geely                          NaN       NaN       NaN      NaN  49824.00  \n",
       "General Motors                 NaN 103195.00       NaN      NaN       NaN  \n",
       "Groupe PSA                32266.00  31558.50  30430.00 26624.50  36522.80  \n",
       "Honda                          NaN  25045.00  33872.50      NaN  34500.00  \n",
       "Hyundai Motor Group       25041.00  21747.00  44198.67 27132.00  24097.00  \n",
       "Independent                    NaN 169101.00 185586.25 29580.00 252551.67  \n",
       "RNMA Alliance             49945.00  52035.00  35883.50 29825.00  29410.00  \n",
       "Suzuki                    17297.67       NaN  20744.00      NaN  63900.00  \n",
       "Tata Motors                    NaN 100650.00       NaN      NaN  60506.00  \n",
       "Toyota                    61395.00  68552.50  38100.00 34182.50  69883.75  \n",
       "Volkswagen Group          93467.40  73299.46 105364.29 47155.11  69574.75  "
      ]
     },
     "execution_count": 38,
     "metadata": {},
     "output_type": "execute_result"
    }
   ],
   "source": [
    "df.pivot_table(index='group',columns='introduction',values='price')"
   ]
  },
  {
   "cell_type": "markdown",
   "id": "bc6a5813",
   "metadata": {},
   "source": [
    "The `NaN` (not a number) values are places where there was no entry. E.g., there was no car in  the dataset for BMW group in 2001."
   ]
  },
  {
   "cell_type": "markdown",
   "id": "aad71a7c",
   "metadata": {},
   "source": [
    "## Plotting with pandas\n",
    "\n",
    "Behind the scenes pandas calls on other python libraries, including `numpy` but also `matplotlib`. This means that it contains a lot of convenience functions. One that we will encounter in the next classes is the ability to plot things. Those can be accessed by calling `.plot` on the Series or Dataframe."
   ]
  },
  {
   "cell_type": "markdown",
   "id": "50049fe0",
   "metadata": {},
   "source": [
    "E.g., to investigate the relation between height of a car and its horse power, we could do a scatter plot:"
   ]
  },
  {
   "cell_type": "code",
   "execution_count": 45,
   "id": "bd39b0b5",
   "metadata": {},
   "outputs": [
    {
     "data": {
      "image/png": "[encoded data removed]",
      "text/plain": [
       "<Figure size 640x480 with 1 Axes>"
      ]
     },
     "metadata": {},
     "output_type": "display_data"
    }
   ],
   "source": [
    "df.plot.scatter(x='height',y='total_max_power_hp', alpha=0.3, s= 50);"
   ]
  },
  {
   "cell_type": "markdown",
   "id": "4b73f2cc",
   "metadata": {},
   "source": [
    "To see how this pattern evolved over time we could color dots per year"
   ]
  },
  {
   "cell_type": "code",
   "execution_count": 33,
   "id": "085e95be",
   "metadata": {},
   "outputs": [
    {
     "data": {
      "image/png": "[encoded data removed]",
      "text/plain": [
       "<Figure size 640x480 with 2 Axes>"
      ]
     },
     "metadata": {},
     "output_type": "display_data"
    }
   ],
   "source": [
    "df.plot.scatter(x='height',y='total_max_power_hp', c='introduction');"
   ]
  },
  {
   "cell_type": "markdown",
   "id": "62976107",
   "metadata": {},
   "source": [
    "We will see in the next class what all the commands below mean, but I'm writing it here to show to you what a typical flow would look like to do an exploratory plot of your data: you concatenate a long sequence of commands until at then you reach a `plot` statement. Note the `\\` symbol at the end of each line which means - continue the statement on the next line as if it were on this line. This is to aid legibility but you could perfectly write it on one line if you wanted to:"
   ]
  },
  {
   "cell_type": "code",
   "execution_count": 46,
   "id": "3f38e050",
   "metadata": {},
   "outputs": [
    {
     "data": {
      "image/png": "[encoded data removed]",
      "text/plain": [
       "<Figure size 640x480 with 1 Axes>"
      ]
     },
     "metadata": {},
     "output_type": "display_data"
    }
   ],
   "source": [
    "df.groupby('introduction')['total_max_power_hp']\\\n",
    "    .median()\\\n",
    "    .rolling(5)\\\n",
    "    .mean()\\\n",
    "    .plot(\n",
    "        title='Horse Power over Time', \n",
    "        ylabel='Horse Power',\n",
    "        xlabel='Introduction Year',\n",
    "        style='r--',\n",
    "        xlim=[2005,2020]\n",
    "    );"
   ]
  },
  {
   "cell_type": "markdown",
   "id": "a09b7a62",
   "metadata": {},
   "source": [
    "A last bonus analysis on the relation between horse power, weight, and price."
   ]
  },
  {
   "cell_type": "code",
   "execution_count": 37,
   "id": "63068dcd",
   "metadata": {},
   "outputs": [
    {
     "data": {
      "image/png": "[encoded data removed]",
      "text/plain": [
       "<Figure size 1000x700 with 1 Axes>"
      ]
     },
     "metadata": {},
     "output_type": "display_data"
    }
   ],
   "source": [
    "import matplotlib.pyplot as plt\n",
    "import seaborn as sns\n",
    "import numpy as np\n",
    "\n",
    "\n",
    "# Compute power-to-weight ratio per car\n",
    "df['power_to_weight'] = df['total_max_power_hp'] / df['curb_weight']\n",
    "\n",
    "# Aggregate: average power-to-weight and average price per brand\n",
    "#            we will talk about what this code means in another class\n",
    "brand_summary = df.groupby('brand').agg(\n",
    "    avg_power_to_weight=('power_to_weight', 'mean'),\n",
    "    avg_price=('price', 'mean'),\n",
    "    count=('brand', 'count')\n",
    ").reset_index()\n",
    "\n",
    "# Compute medians for quadrant lines\n",
    "median_power_to_weight = brand_summary['avg_power_to_weight'].median()\n",
    "median_price = brand_summary['avg_price'].median()\n",
    "\n",
    "# Plot the \"magic quadrant\"\n",
    "plt.figure(figsize=(10, 7))\n",
    "ax = sns.scatterplot(\n",
    "    data=brand_summary,\n",
    "    x='avg_power_to_weight',\n",
    "    y='avg_price',\n",
    "    size='count',\n",
    "    sizes=(40, 200),\n",
    "    hue='brand',\n",
    "    legend=False,\n",
    "    alpha=0.8\n",
    ")\n",
    "\n",
    "# Quadrant lines\n",
    "plt.axvline(median_power_to_weight, ls='--', color='gray')\n",
    "plt.axhline(median_price, ls='--', color='gray')\n",
    "\n",
    "# Label key brands\n",
    "for _, row in brand_summary.iterrows():\n",
    "    plt.text(row['avg_power_to_weight'], row['avg_price'], row['brand'], fontsize=9, ha='center')\n",
    "\n",
    "plt.title('Brand Positioning: Price vs Power-to-Weight Ratio')\n",
    "plt.xlabel('Average HP per kg')\n",
    "plt.ylabel('Average Price (€)')\n",
    "plt.grid(True)\n",
    "plt.tight_layout()\n",
    "plt.show()\n"
   ]
  },
  {
   "cell_type": "markdown",
   "id": "c51bb62f",
   "metadata": {},
   "source": [
    "I recommend that at home you diagonally go through the [official documentation](https://pandas.pydata.org/docs/user_guide/visualization.html) to see all the supported plots, but you can always ask ChatGPT for help if you have something specific in mind."
   ]
  },
  {
   "cell_type": "markdown",
   "id": "04db8ebc",
   "metadata": {},
   "source": [
    "### Extra: Arguments for Loading Datasets"
   ]
  },
  {
   "cell_type": "markdown",
   "id": "93da824a",
   "metadata": {},
   "source": [
    "Although defaults work in most cases satisfactorily, it is worth to comment a few things about some optional arguments of `pd.read_csv()` command. The list is not complete, but enough to give you an idea of the extent to which you can customize this function.\n",
    "\n",
    "* `sep` specifies the column separator. The default is `sep=','`, but CSV files created with Excel may need `sep=';'`.\n",
    "* `header` and `names` specify the row where the data to be imported start and the column names. The default is `header=0`, `names=None`, which makes Pandas start reading from the first row and take it as the column names. When the data come without names, you can use `header=None`, `names=namelist` to provide a list of names. With a positive value for header, you can skip some rows.\n",
    "* `index_col` specifies a column that you wish to use as the index, if that is the case. The default is `index_col=None`. If the intended index comes in the first column, as frequently happens, you use `index_col=0`.\n",
    "* `usecols` specifies the columns to be read. You can specify them in a list, either by name or by position. The default is `usecols=None`, which means that you wish to read all the columns.\n",
    "* `dtype` specifies the data types of the columns of the data frame. This saves time with big data sets. The default is `dtype=None`, which means that Python will guess the data type, based on what it reads. When all the entries in a column are numbers, that column is imported as numeric. If there is, at least, one entry that is not numeric, all read as strings, and data type `object` is assigned to that column.\n",
    "* `encoding`. If the string data contained in a CSV file can contain special characters (such as ñ, or á), which can make trouble, you may need to control this. The default in Python is `encoding='utf-8'`. So, if you reading a CSV file created in Excel (in Western Europe), you may need to set `encoding='latin'` to read the special characters in the right way."
   ]
  },
  {
   "cell_type": "markdown",
   "id": "25ae6bea",
   "metadata": {},
   "source": [
    "## Final Note\n",
    "\n",
    "You don’t need to memorize all Pandas functions. You need to know what’s possible. Once you know that, you can ask for help (Google, ChatGPT, docs) and get exactly what you need."
   ]
  }
 ],
 "metadata": {
  "kernelspec": {
   "display_name": "Python 3 (ipykernel)",
   "language": "python",
   "name": "python3"
  },
  "language_info": {
   "codemirror_mode": {
    "name": "ipython",
    "version": 3
   },
   "file_extension": ".py",
   "mimetype": "text/x-python",
   "name": "python",
   "nbconvert_exporter": "python",
   "pygments_lexer": "ipython3",
   "version": "3.11.9"
  },
  "widgets": {
   "application/vnd.jupyter.widget-state+json": {
    "state": {},
    "version_major": 2,
    "version_minor": 0
   }
  }
 },
 "nbformat": 4,
 "nbformat_minor": 5
}
