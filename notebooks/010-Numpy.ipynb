{
 "cells": [
  {
   "attachments": {},
   "cell_type": "markdown",
   "id": "3aeec9d0-f0fb-448b-8bb8-68e2e4e3813b",
   "metadata": {
    "tags": []
   },
   "source": [
    "[![Open In Colab](https://colab.research.google.com/assets/colab-badge.svg)](https://colab.research.google.com/github/ciri/iese-dsfb/blob/main/notebooks/010-Numpy.ipynb)\n",
    "\n",
    "# NumPy: Numerical Python\n",
    "\n",
    "## Why learn Numpy?\n",
    "\n",
    "In today's data-driven world, everything can be quantified and represented as numbers—from user behavior on websites to patterns in medical data. Understanding these numerical representations is essential for machine learning, data analysis, and scientific computing. NumPy serves as the foundational package for numerical operations in Python, making it easier for you to delve into these domains.\n",
    "\n",
    "\n",
    "## Numpy Arrays\n",
    "\n",
    "This tutorial introduces you to NumPy's data containers, offering a quick look at how to manage data sets in Python. In the realm of mathematics, **vectors** and **matrices** are fundamental units represented as sequences and grids of numbers, respectively. They are integral to linear algebra, a crucial area in computational tasks underlying modern Machine Learning and Artificial Intelligence. In NumPy, these structures are simplified as one-dimensional (1D) and two-dimensional (2D) arrays, and the library even supports higher-dimensional arrays with ease.\n",
    "\n",
    "To get started, import NumPy like this:"
   ]
  },
  {
   "cell_type": "code",
   "execution_count": 4,
   "id": "1d8b585a-d65f-47cc-8a00-dc15dcb902c3",
   "metadata": {},
   "outputs": [],
   "source": [
    "import numpy as np"
   ]
  },
  {
   "attachments": {},
   "cell_type": "markdown",
   "id": "c3889f47-6041-4f3e-ac99-e1dfaf975e92",
   "metadata": {},
   "source": [
    "A 1D arrays can be created from a list with the NumPy function array. If the items of the list have different\n",
    "type, they are converted to a common type when creating the array. A simple example follows."
   ]
  },
  {
   "cell_type": "code",
   "execution_count": 5,
   "id": "3b4cb4d4-ed03-4995-a934-8e1f3edf1cba",
   "metadata": {},
   "outputs": [],
   "source": [
    "mylist = [2, 7, 14, 5, 9]"
   ]
  },
  {
   "cell_type": "code",
   "execution_count": 7,
   "id": "e13f2cec",
   "metadata": {},
   "outputs": [
    {
     "data": {
      "text/plain": [
       "list"
      ]
     },
     "execution_count": 7,
     "metadata": {},
     "output_type": "execute_result"
    }
   ],
   "source": [
    "type(mylist)"
   ]
  },
  {
   "cell_type": "code",
   "execution_count": 10,
   "id": "f9382f98",
   "metadata": {},
   "outputs": [
    {
     "data": {
      "text/plain": [
       "[2, 7, 14, 5, 9, 1]"
      ]
     },
     "execution_count": 10,
     "metadata": {},
     "output_type": "execute_result"
    }
   ],
   "source": [
    "mylist + [1]"
   ]
  },
  {
   "cell_type": "code",
   "execution_count": 13,
   "id": "c72acf7e",
   "metadata": {},
   "outputs": [
    {
     "data": {
      "text/plain": [
       "['hello', 12344, 844.5, True]"
      ]
     },
     "execution_count": 13,
     "metadata": {},
     "output_type": "execute_result"
    }
   ],
   "source": [
    "['hello',12344,844.5,True]"
   ]
  },
  {
   "cell_type": "code",
   "execution_count": 11,
   "id": "785c3f4c",
   "metadata": {},
   "outputs": [
    {
     "data": {
      "text/plain": [
       "array([ 2,  7, 14,  5,  9])"
      ]
     },
     "execution_count": 11,
     "metadata": {},
     "output_type": "execute_result"
    }
   ],
   "source": [
    "myarray = np.array(mylist)\n",
    "myarray"
   ]
  },
  {
   "cell_type": "code",
   "execution_count": 26,
   "id": "e70943d6",
   "metadata": {},
   "outputs": [
    {
     "data": {
      "text/plain": [
       "9"
      ]
     },
     "execution_count": 26,
     "metadata": {},
     "output_type": "execute_result"
    }
   ],
   "source": [
    "myarray[-1]"
   ]
  },
  {
   "cell_type": "code",
   "execution_count": null,
   "id": "2ca03e06",
   "metadata": {},
   "outputs": [],
   "source": []
  },
  {
   "cell_type": "code",
   "execution_count": 22,
   "id": "1af04382",
   "metadata": {},
   "outputs": [
    {
     "data": {
      "text/plain": [
       "(14, 5)"
      ]
     },
     "execution_count": 22,
     "metadata": {},
     "output_type": "execute_result"
    }
   ],
   "source": [
    "my2darray = np.array([\n",
    "    [1,2,3,4,5],\n",
    "    [6,7,8,9,10],\n",
    "    [6,7,8,9,10],\n",
    "    [6,7,8,9,10],\n",
    "    [6,7,8,9,10],\n",
    "    [6,7,8,9,10],\n",
    "    [6,7,8,9,10],\n",
    "    [6,7,8,9,10],\n",
    "    [6,7,8,9,10],\n",
    "    [6,7,8,9,10],\n",
    "    [6,7,8,9,10],\n",
    "    [6,7,8,9,10],\n",
    "    [6,7,8,9,10],\n",
    "    [6,7,8,9,10]\n",
    "])\n",
    "my2darray.shape"
   ]
  },
  {
   "cell_type": "code",
   "execution_count": 27,
   "id": "d659b466",
   "metadata": {},
   "outputs": [
    {
     "data": {
      "text/plain": [
       "2"
      ]
     },
     "execution_count": 27,
     "metadata": {},
     "output_type": "execute_result"
    }
   ],
   "source": [
    "my2darray[0,1]"
   ]
  },
  {
   "cell_type": "code",
   "execution_count": 3,
   "id": "cfe4e0e8-ea21-4ec3-a4e8-61aff3f3f932",
   "metadata": {},
   "outputs": [
    {
     "data": {
      "text/plain": [
       "list"
      ]
     },
     "execution_count": 3,
     "metadata": {},
     "output_type": "execute_result"
    }
   ],
   "source": [
    "type(mylist)"
   ]
  },
  {
   "cell_type": "code",
   "execution_count": 24,
   "id": "a6abd65d",
   "metadata": {},
   "outputs": [
    {
     "data": {
      "text/plain": [
       "array([1, 2, 3, 4])"
      ]
     },
     "execution_count": 24,
     "metadata": {},
     "output_type": "execute_result"
    }
   ],
   "source": [
    "arr1 = np.array([1,2,3,4])\n",
    "arr1"
   ]
  },
  {
   "cell_type": "markdown",
   "id": "33aeeaf8",
   "metadata": {},
   "source": [
    "This looks the same, but it's a very different beast! The constraint that everything has the same type is a useful one as it allows us to operate on the array more naturally. Try these for comparison:"
   ]
  },
  {
   "cell_type": "code",
   "execution_count": 25,
   "id": "64766914",
   "metadata": {
    "tags": [
     "remove_output"
    ]
   },
   "outputs": [
    {
     "data": {
      "text/plain": [
       "[2, 7, 14, 5, 9, 2, 7, 14, 5, 9]"
      ]
     },
     "execution_count": 25,
     "metadata": {},
     "output_type": "execute_result"
    }
   ],
   "source": [
    "arr1 + 1\n",
    "mylist + [1]\n",
    "arr1 * 2\n",
    "mylist * 2"
   ]
  },
  {
   "cell_type": "markdown",
   "id": "89b62e0e",
   "metadata": {},
   "source": [
    "In case of mixed types (never do this!) you will get unexpected results:"
   ]
  },
  {
   "cell_type": "code",
   "execution_count": 26,
   "id": "a2f23282",
   "metadata": {},
   "outputs": [
    {
     "data": {
      "text/plain": [
       "array(['1', 'a', '3', '4'], dtype='<U21')"
      ]
     },
     "execution_count": 26,
     "metadata": {},
     "output_type": "execute_result"
    }
   ],
   "source": [
    "arr1 = np.array([1,'a',3,4])\n",
    "arr1"
   ]
  },
  {
   "attachments": {},
   "cell_type": "markdown",
   "id": "49112a43",
   "metadata": {},
   "source": [
    "There are two types involves with arrays. The type of the array is `array`, its elements also have a type which can be checked using `myarray.dtype`:"
   ]
  },
  {
   "cell_type": "code",
   "execution_count": 27,
   "id": "c3156e84",
   "metadata": {},
   "outputs": [
    {
     "data": {
      "text/plain": [
       "numpy.ndarray"
      ]
     },
     "execution_count": 27,
     "metadata": {},
     "output_type": "execute_result"
    }
   ],
   "source": [
    "type(arr1)"
   ]
  },
  {
   "cell_type": "code",
   "execution_count": 28,
   "id": "ae38d2c6",
   "metadata": {},
   "outputs": [
    {
     "data": {
      "text/plain": [
       "dtype('<U21')"
      ]
     },
     "execution_count": 28,
     "metadata": {},
     "output_type": "execute_result"
    }
   ],
   "source": [
    "arr1.dtype"
   ]
  },
  {
   "attachments": {},
   "cell_type": "markdown",
   "id": "0b5689b1-f638-4c22-a201-a049a21dfa16",
   "metadata": {},
   "source": [
    "A 2D array can be directly created from a list of lists of equal length. The terms are entered row-by-row:"
   ]
  },
  {
   "cell_type": "code",
   "execution_count": 29,
   "id": "851ee2b6-cc43-436f-a63a-65f199c5fe0d",
   "metadata": {},
   "outputs": [
    {
     "data": {
      "text/plain": [
       "[[0, 7, 2, 3], [3, 9, -5, 1]]"
      ]
     },
     "execution_count": 29,
     "metadata": {},
     "output_type": "execute_result"
    }
   ],
   "source": [
    "my_list_of_lists = [\n",
    "    [0, 7, 2, 3], \n",
    "    [3, 9, -5, 1]\n",
    "]\n",
    "my_list_of_lists"
   ]
  },
  {
   "cell_type": "code",
   "execution_count": 30,
   "id": "656088c0-ff92-4987-aa21-61377e10e28b",
   "metadata": {},
   "outputs": [
    {
     "data": {
      "text/plain": [
       "array([[ 0,  7,  2,  3],\n",
       "       [ 3,  9, -5,  1]])"
      ]
     },
     "execution_count": 30,
     "metadata": {},
     "output_type": "execute_result"
    }
   ],
   "source": [
    "arr2 = np.array(my_list_of_lists)\n",
    "arr2"
   ]
  },
  {
   "attachments": {},
   "cell_type": "markdown",
   "id": "3586605a-6312-4e79-990e-98d70d288fc1",
   "metadata": {},
   "source": [
    "Although we visualize a vector as a column (or as a row) and a matrix as a rectangular arrangement, with rows and columns, it is not so in the computer. The 1d array is just a sequence of elements of the same type, neither horizontal nor vertical. It has one **axis**, which is the 0-axis.\n",
    "\n",
    "In a similar way, a 2d array is a sequence of 1d arrays of the same length and type. It has two axes. When we visualize it as rows and columns, `axis=0` means *across rows*, while `axis=1` means *across columns*.\n",
    "\n",
    "The number of terms stored along an axis is the **dimension** of that axis. The dimensions are collected in the attribute `shape`:"
   ]
  },
  {
   "cell_type": "code",
   "execution_count": 31,
   "id": "ea9d4648-a419-4148-87a0-7a6883b418fc",
   "metadata": {},
   "outputs": [
    {
     "data": {
      "text/plain": [
       "(4,)"
      ]
     },
     "execution_count": 31,
     "metadata": {},
     "output_type": "execute_result"
    }
   ],
   "source": [
    "arr1.shape"
   ]
  },
  {
   "cell_type": "code",
   "execution_count": 32,
   "id": "c372fec7-165b-4730-97f8-28ada8422a3b",
   "metadata": {},
   "outputs": [
    {
     "data": {
      "text/plain": [
       "(2, 4)"
      ]
     },
     "execution_count": 32,
     "metadata": {},
     "output_type": "execute_result"
    }
   ],
   "source": [
    "arr2.shape"
   ]
  },
  {
   "cell_type": "code",
   "execution_count": 33,
   "id": "37aa4e0e-6328-4d63-98c6-d76ccbe9f0ec",
   "metadata": {},
   "outputs": [
    {
     "data": {
      "text/plain": [
       "(2, 3, 4)"
      ]
     },
     "execution_count": 33,
     "metadata": {},
     "output_type": "execute_result"
    }
   ],
   "source": [
    "arr3 = np.random.randn(2,3,4)\n",
    "arr3.shape"
   ]
  },
  {
   "attachments": {},
   "cell_type": "markdown",
   "id": "061ab948-9424-40a1-930a-c19f9b5f4b29",
   "metadata": {},
   "source": [
    "This is a tuple, meaning that you can extract one of the elements, but you cannot reassign it."
   ]
  },
  {
   "cell_type": "code",
   "execution_count": 34,
   "id": "16089b33-6777-4ca0-b24d-1369964baa31",
   "metadata": {},
   "outputs": [
    {
     "name": "stdout",
     "output_type": "stream",
     "text": [
      "2\n"
     ]
    }
   ],
   "source": [
    "print(arr2.shape[0])"
   ]
  },
  {
   "cell_type": "code",
   "execution_count": 35,
   "id": "bdeb86de-dec3-4d99-a934-6cbb89463aaa",
   "metadata": {},
   "outputs": [
    {
     "ename": "TypeError",
     "evalue": "'tuple' object does not support item assignment",
     "output_type": "error",
     "traceback": [
      "\u001b[0;31m---------------------------------------------------------------------------\u001b[0m",
      "\u001b[0;31mTypeError\u001b[0m                                 Traceback (most recent call last)",
      "Cell \u001b[0;32mIn[35], line 1\u001b[0m\n\u001b[0;32m----> 1\u001b[0m arr2\u001b[38;5;241m.\u001b[39mshape[\u001b[38;5;241m0\u001b[39m] \u001b[38;5;241m=\u001b[39m \u001b[38;5;241m123\u001b[39m\n",
      "\u001b[0;31mTypeError\u001b[0m: 'tuple' object does not support item assignment"
     ]
    }
   ],
   "source": [
    "arr2.shape[0] = 123"
   ]
  },
  {
   "cell_type": "markdown",
   "id": "2211b460",
   "metadata": {},
   "source": [
    "**You try it:**\n",
    "\n",
    "1. Create a prediction function `price` that predicts the price of an appartment based on its surface:\n",
    "\n",
    "    Price = 100,000 + 5,000 x (surf in m2)\n",
    "\n",
    "2. Calculate the price of a house of 130 m2.\n",
    "3. Calculate the price over a range of surfaces 50,60,..,130"
   ]
  },
  {
   "cell_type": "code",
   "execution_count": null,
   "id": "f0904b97",
   "metadata": {
    "tags": [
     "remove_output"
    ]
   },
   "outputs": [
    {
     "data": {
      "text/plain": [
       "array([350000, 400000, 450000, 500000, 550000, 600000, 650000, 700000,\n",
       "       750000])"
      ]
     },
     "execution_count": 48,
     "metadata": {},
     "output_type": "execute_result"
    }
   ],
   "source": [
    "def price(surface):\n",
    "    return 100000 + 5000 * surface\n",
    "\n",
    "price(130)\n",
    "\n",
    "surfaces = np.arange(50,131,10)\n",
    "\n",
    "price(surfaces)"
   ]
  },
  {
   "cell_type": "code",
   "execution_count": null,
   "id": "d81e710e",
   "metadata": {},
   "outputs": [],
   "source": []
  },
  {
   "cell_type": "code",
   "execution_count": null,
   "id": "1555fa6a",
   "metadata": {},
   "outputs": [],
   "source": []
  },
  {
   "attachments": {},
   "cell_type": "markdown",
   "id": "d81f2555-a0e8-4a03-968e-13b67b30d340",
   "metadata": {},
   "source": [
    "## NumPy functions\n",
    "\n",
    "NumPy incorporates vectorized forms of the **mathematical functions** of the package `math`. A **vectorized function** is one that, when applied to an array, returns an array with same shape, whose terms are the values of the function on the corresponding terms of the original array. For instance, the NumPy square root function `np.max` takes the maximum of every term of a numeric array:"
   ]
  },
  {
   "cell_type": "code",
   "execution_count": 64,
   "id": "ebe28833",
   "metadata": {},
   "outputs": [
    {
     "data": {
      "text/plain": [
       "array([165, 180])"
      ]
     },
     "execution_count": 64,
     "metadata": {},
     "output_type": "execute_result"
    }
   ],
   "source": [
    "# Heights in cm [Female, Male]\n",
    "heights = np.array([[160, 175],  \n",
    "                    [155, 180],  \n",
    "                    [165, 170],  \n",
    "                    [162, 178],  \n",
    "                    [158, 172]])\n",
    "np.max(heights, axis=0)"
   ]
  },
  {
   "cell_type": "code",
   "execution_count": 65,
   "id": "c64ca7c8",
   "metadata": {},
   "outputs": [
    {
     "data": {
      "text/plain": [
       "(5, 2)"
      ]
     },
     "execution_count": 65,
     "metadata": {},
     "output_type": "execute_result"
    }
   ],
   "source": [
    "heights.shape"
   ]
  },
  {
   "cell_type": "markdown",
   "id": "4c1580da-1ae4-4513-b41d-8a2e3c222044",
   "metadata": {},
   "source": [
    "You can also tell `numpy` to do this calculation along the rows or columns using the `axis` parameter. Let's try calculating the mean for Females v.s. Males using the `np.mean()` function."
   ]
  },
  {
   "cell_type": "code",
   "execution_count": 39,
   "id": "464f298d",
   "metadata": {},
   "outputs": [
    {
     "data": {
      "text/plain": [
       "array([160., 175.])"
      ]
     },
     "execution_count": 39,
     "metadata": {},
     "output_type": "execute_result"
    }
   ],
   "source": [
    "np.mean(heights ,axis=0)"
   ]
  },
  {
   "attachments": {},
   "cell_type": "markdown",
   "id": "c1591966-dc38-4c55-b53e-da74d8d4ef30",
   "metadata": {},
   "source": [
    "NumPy also provides common mathematical and statistical functions, such as `median, max, sum, sqrt, std, quantile` etc.\n",
    "\n",
    "\n",
    "Functions that are defined in terms of vectorized functions are automatically vectorized. Let's try this with an exercise:"
   ]
  },
  {
   "cell_type": "markdown",
   "id": "0a3e4e4f",
   "metadata": {},
   "source": [
    "**You try it:**\n",
    "\n",
    "Given the heights and weights of Females and Males, calculate the BMI of the whole population. Remember that the formula for BMI is:\n",
    "\n",
    "$$\n",
    "    \\text{BMI} = \\frac{\\text{weight}}{\\text{height (in meter)}^2}\n",
    "$$"
   ]
  },
  {
   "cell_type": "code",
   "execution_count": null,
   "id": "3db86b7d-8b4f-4654-a5f4-0865a04ac3e8",
   "metadata": {
    "tags": [
     "remove_output"
    ]
   },
   "outputs": [
    {
     "name": "stdout",
     "output_type": "stream",
     "text": [
      "[[160 175]\n",
      " [155 180]\n",
      " [165 170]\n",
      " [162 178]\n",
      " [158 172]]\n"
     ]
    },
    {
     "data": {
      "text/plain": [
       "array([[21.484375  , 22.85714286],\n",
       "       [21.64412071, 23.7654321 ],\n",
       "       [21.30394858, 23.52941176],\n",
       "       [20.57613169, 23.67125363],\n",
       "       [21.23057202, 24.33747972]])"
      ]
     },
     "execution_count": 78,
     "metadata": {},
     "output_type": "execute_result"
    }
   ],
   "source": [
    "# Weights in kg [Female, Male]\n",
    "heights =    np.array([[160, 175],\n",
    "                       [155, 180],\n",
    "                       [165, 170],\n",
    "                       [162, 178],\n",
    "                       [158, 172]])\n",
    "\n",
    "weights = np.array([[55, 70],\n",
    "                    [52, 77],\n",
    "                    [58, 68],\n",
    "                    [54, 75],\n",
    "                    [53, 72]])\n",
    "\n",
    "def bmi(h, w):\n",
    "    BMI = w / (h/100)**2\n",
    "    return BMI\n",
    "\n",
    "all_bmis_by_gender = bmi(heights, weights)\n",
    "all_bmis_by_gender"
   ]
  },
  {
   "cell_type": "code",
   "execution_count": 75,
   "id": "477c56a2",
   "metadata": {},
   "outputs": [
    {
     "data": {
      "text/plain": [
       "array([21.2478296 , 23.63214401])"
      ]
     },
     "execution_count": 75,
     "metadata": {},
     "output_type": "execute_result"
    }
   ],
   "source": [
    "np.mean(all_bmis_by_gender, axis=0)"
   ]
  },
  {
   "attachments": {},
   "cell_type": "markdown",
   "id": "9bfe0c41-7f4f-442e-b5df-b40475cecbaf",
   "metadata": {},
   "source": [
    "## Subsetting arrays\n",
    "\n",
    "**Slicing** a 1D array is done the same as for a list:"
   ]
  },
  {
   "cell_type": "code",
   "execution_count": 42,
   "id": "0b1062dc",
   "metadata": {},
   "outputs": [
    {
     "data": {
      "text/plain": [
       "5"
      ]
     },
     "execution_count": 42,
     "metadata": {},
     "output_type": "execute_result"
    }
   ],
   "source": [
    "arr1 = np.array([5,4,2,41])\n",
    "arr1[0]"
   ]
  },
  {
   "cell_type": "code",
   "execution_count": 43,
   "id": "85531fb0-e2da-4a8f-a568-56dfe57d8de5",
   "metadata": {},
   "outputs": [
    {
     "data": {
      "text/plain": [
       "array([5, 4, 2])"
      ]
     },
     "execution_count": 43,
     "metadata": {},
     "output_type": "execute_result"
    }
   ],
   "source": [
    "arr1[:3]"
   ]
  },
  {
   "attachments": {},
   "cell_type": "markdown",
   "id": "315a5182-ae2e-464a-aadd-2b0578dfd610",
   "metadata": {},
   "source": [
    "The same applies to two-dimensional arrays, but we need two indexes within the square brackets. The first index selects the rows (`axis=0`), and the second index the columns (`axis=1`):"
   ]
  },
  {
   "cell_type": "code",
   "execution_count": 44,
   "id": "b2b7468f-e0d2-4ec2-8b05-fdd99df160a2",
   "metadata": {},
   "outputs": [
    {
     "data": {
      "text/plain": [
       "array([[155, 180],\n",
       "       [165, 170]])"
      ]
     },
     "execution_count": 44,
     "metadata": {},
     "output_type": "execute_result"
    }
   ],
   "source": [
    "heights[[1,2], :3]"
   ]
  },
  {
   "cell_type": "markdown",
   "id": "2b84c4ac",
   "metadata": {},
   "source": [
    "**Step intervals** can be used if we need to select only every n-th element of the array:"
   ]
  },
  {
   "cell_type": "code",
   "execution_count": 45,
   "id": "3b7df6eb",
   "metadata": {},
   "outputs": [
    {
     "data": {
      "text/plain": [
       "(array([ 5,  4,  2, 41]), array([5, 2]))"
      ]
     },
     "execution_count": 45,
     "metadata": {},
     "output_type": "execute_result"
    }
   ],
   "source": [
    "arr1, arr1[::2]"
   ]
  },
  {
   "cell_type": "markdown",
   "id": "da7416be",
   "metadata": {},
   "source": [
    "One special case of this which is used quite often is to use steps of -1, which is equivalent to reversing the array."
   ]
  },
  {
   "cell_type": "code",
   "execution_count": 46,
   "id": "c0b6ec5b",
   "metadata": {},
   "outputs": [
    {
     "data": {
      "text/plain": [
       "(array([ 5,  4,  2, 41]), array([41,  2,  4,  5]))"
      ]
     },
     "execution_count": 46,
     "metadata": {},
     "output_type": "execute_result"
    }
   ],
   "source": [
    "arr1, arr1[::-1]"
   ]
  },
  {
   "cell_type": "code",
   "execution_count": 47,
   "id": "ae225dcb",
   "metadata": {},
   "outputs": [
    {
     "data": {
      "text/plain": [
       "array([ 5,  4,  2, 41])"
      ]
     },
     "execution_count": 47,
     "metadata": {},
     "output_type": "execute_result"
    }
   ],
   "source": [
    "arr1"
   ]
  },
  {
   "cell_type": "code",
   "execution_count": 48,
   "id": "5b078f90",
   "metadata": {},
   "outputs": [
    {
     "data": {
      "text/plain": [
       "array([5, 2])"
      ]
     },
     "execution_count": 48,
     "metadata": {},
     "output_type": "execute_result"
    }
   ],
   "source": [
    "arr1[::2]"
   ]
  },
  {
   "cell_type": "markdown",
   "id": "120527a4",
   "metadata": {},
   "source": [
    "Here's an overview of common slicing operations from McKinney (2017):\n",
    "\n",
    "<center>\n",
    "    <img src='https://raw.githubusercontent.com/ciri/iese-dsfb/main/images/nparray-indexing.png' width='60%'>\n",
    "</center>"
   ]
  },
  {
   "attachments": {},
   "cell_type": "markdown",
   "id": "ae55ec85-c0c0-4479-ba4c-e14d83541179",
   "metadata": {},
   "source": [
    "**Filtering** Subsets of an array can also be extracted by means of expressions which acts as filters. Any expression involving an array is evaluated in Python as a Boolean array (called a **Boolean mask**):"
   ]
  },
  {
   "cell_type": "code",
   "execution_count": 92,
   "id": "bd2479c6",
   "metadata": {},
   "outputs": [
    {
     "data": {
      "text/plain": [
       "array([160, 175, 180, 165, 170, 162, 178, 172])"
      ]
     },
     "execution_count": 92,
     "metadata": {},
     "output_type": "execute_result"
    }
   ],
   "source": [
    "f_tall           = heights >= 160 \n",
    "f_not_super_tall = heights < 180\n",
    "f_weight         = weights > 60\n",
    "\n",
    "heights[(f_tall & f_not_super_tall) | f_weight]"
   ]
  },
  {
   "cell_type": "code",
   "execution_count": 104,
   "id": "22f28305",
   "metadata": {},
   "outputs": [
    {
     "data": {
      "text/plain": [
       "array([[ True,  True],\n",
       "       [False,  True],\n",
       "       [ True,  True],\n",
       "       [ True,  True],\n",
       "       [False,  True]])"
      ]
     },
     "execution_count": 104,
     "metadata": {},
     "output_type": "execute_result"
    }
   ],
   "source": [
    "(f_tall & f_not_super_tall) | f_weight"
   ]
  },
  {
   "cell_type": "code",
   "execution_count": 112,
   "id": "94e6406d",
   "metadata": {},
   "outputs": [
    {
     "data": {
      "text/plain": [
       "array([[  1.   , 107.804,   1.6  ],\n",
       "       [  2.   , 112.659,   1.67 ],\n",
       "       [  3.   , 149.85 ,   1.51 ],\n",
       "       [  4.   , 160.922,   1.51 ],\n",
       "       [  5.   ,  91.963,   1.63 ],\n",
       "       [  6.   , 167.646,   1.44 ],\n",
       "       [  7.   , 121.756,   1.55 ],\n",
       "       [  8.   , 164.52 ,   1.41 ],\n",
       "       [  9.   , 160.345,   1.38 ],\n",
       "       [ 10.   , 142.767,   1.56 ],\n",
       "       [ 11.   , 133.273,   1.41 ],\n",
       "       [ 12.   , 198.859,   1.41 ],\n",
       "       [ 13.   , 406.204,   0.99 ],\n",
       "       [ 14.   , 455.209,   0.87 ],\n",
       "       [ 15.   , 295.649,   1.07 ],\n",
       "       [ 16.   , 182.941,   1.26 ],\n",
       "       [ 17.   , 233.646,   1.33 ],\n",
       "       [ 18.   , 142.402,   1.45 ],\n",
       "       [ 19.   , 152.546,   1.56 ],\n",
       "       [ 20.   ,  95.459,   1.64 ],\n",
       "       [ 21.   , 128.908,   1.59 ],\n",
       "       [ 22.   , 123.375,   1.62 ],\n",
       "       [ 23.   ,  91.418,   1.78 ],\n",
       "       [ 24.   , 112.252,   1.66 ],\n",
       "       [ 25.   ,  98.486,   1.75 ],\n",
       "       [ 26.   , 118.56 ,   1.67 ],\n",
       "       [ 27.   , 130.683,   1.47 ],\n",
       "       [ 28.   , 115.64 ,   1.6  ],\n",
       "       [ 29.   , 243.648,   1.17 ],\n",
       "       [ 30.   , 151.687,   1.59 ],\n",
       "       [ 31.   ,  72.28 ,   1.85 ],\n",
       "       [ 32.   ,  69.169,   1.86 ],\n",
       "       [ 33.   ,  79.376,   1.77 ],\n",
       "       [ 34.   ,  47.793,   1.99 ],\n",
       "       [ 35.   , 117.011,   1.68 ],\n",
       "       [ 36.   ,  73.785,   1.81 ],\n",
       "       [ 37.   ,  89.057,   1.83 ],\n",
       "       [ 38.   , 108.281,   1.77 ],\n",
       "       [ 39.   , 109.126,   1.77 ],\n",
       "       [ 40.   , 108.431,   1.66 ],\n",
       "       [ 41.   , 100.81 ,   1.86 ],\n",
       "       [ 42.   ,  77.133,   1.92 ],\n",
       "       [ 43.   , 112.61 ,   1.78 ],\n",
       "       [ 44.   ,  90.371,   1.75 ],\n",
       "       [ 45.   , 102.863,   1.74 ],\n",
       "       [ 46.   ,  67.691,   1.9  ],\n",
       "       [ 47.   , 103.582,   1.78 ],\n",
       "       [ 48.   , 121.354,   1.71 ],\n",
       "       [ 49.   ,  73.24 ,   1.85 ],\n",
       "       [ 50.   ,  66.542,   1.77 ],\n",
       "       [ 51.   , 168.915,   1.51 ],\n",
       "       [ 52.   , 145.121,   1.52 ],\n",
       "       [ 53.   , 113.315,   1.63 ],\n",
       "       [ 54.   ,  89.323,   1.75 ],\n",
       "       [ 55.   , 111.725,   1.83 ],\n",
       "       [ 56.   , 106.021,   1.75 ],\n",
       "       [ 57.   , 128.792,   1.66 ],\n",
       "       [ 58.   , 124.011,   1.68 ],\n",
       "       [ 59.   , 154.573,   1.58 ],\n",
       "       [ 60.   , 152.602,   1.53 ],\n",
       "       [ 61.   , 163.358,   1.56 ],\n",
       "       [ 62.   , 110.221,   1.67 ],\n",
       "       [ 63.   , 166.579,   1.63 ],\n",
       "       [ 64.   , 150.919,   1.67 ],\n",
       "       [ 65.   , 287.748,   1.33 ],\n",
       "       [ 66.   , 344.638,   1.19 ],\n",
       "       [ 67.   , 337.412,   1.3  ],\n",
       "       [ 68.   , 265.181,   1.43 ],\n",
       "       [ 69.   , 171.766,   1.44 ],\n",
       "       [ 70.   , 131.111,   1.52 ],\n",
       "       [ 71.   , 138.063,   1.7  ],\n",
       "       [ 72.   , 101.081,   1.85 ],\n",
       "       [ 73.   , 118.796,   1.64 ],\n",
       "       [ 74.   , 116.225,   1.55 ],\n",
       "       [ 75.   , 174.716,   1.49 ],\n",
       "       [ 76.   , 121.088,   1.79 ],\n",
       "       [ 77.   ,  96.235,   1.62 ],\n",
       "       [ 78.   , 101.108,   1.77 ],\n",
       "       [ 79.   , 109.139,   1.67 ],\n",
       "       [ 80.   ,  93.547,   1.74 ],\n",
       "       [ 81.   ,  89.157,   1.63 ],\n",
       "       [ 82.   , 107.298,   1.51 ],\n",
       "       [ 83.   , 212.484,   1.33 ],\n",
       "       [ 84.   , 251.153,   1.22 ],\n",
       "       [ 85.   , 150.434,   1.45 ],\n",
       "       [ 86.   ,  93.155,   1.74 ],\n",
       "       [ 87.   , 136.291,   1.55 ],\n",
       "       [ 88.   ,  82.837,   1.73 ],\n",
       "       [ 89.   ,  83.755,   1.68 ],\n",
       "       [ 90.   ,  79.19 ,   1.78 ],\n",
       "       [ 91.   , 111.439,   1.49 ],\n",
       "       [ 92.   , 105.064,   1.75 ],\n",
       "       [ 93.   ,  82.031,   1.71 ],\n",
       "       [ 94.   ,  84.667,   1.78 ],\n",
       "       [ 95.   , 143.823,   1.56 ],\n",
       "       [ 96.   , 126.151,   1.62 ],\n",
       "       [ 97.   ,  92.698,   1.7  ],\n",
       "       [ 98.   ,  59.403,   1.79 ],\n",
       "       [ 99.   ,  85.938,   1.9  ],\n",
       "       [100.   ,  87.501,   1.49 ],\n",
       "       [101.   ,  63.456,   1.77 ],\n",
       "       [102.   ,  91.434,   1.68 ],\n",
       "       [103.   , 111.933,   1.75 ],\n",
       "       [104.   ,  98.116,   1.63 ]])"
      ]
     },
     "execution_count": 112,
     "metadata": {},
     "output_type": "execute_result"
    }
   ],
   "source": [
    "import pandas as pd\n",
    "pd.read_excel('../data/Greenchips - Data.xlsx').values"
   ]
  },
  {
   "cell_type": "code",
   "execution_count": 94,
   "id": "48105977",
   "metadata": {},
   "outputs": [
    {
     "data": {
      "text/plain": [
       "array([160, 175, 180, 165, 170, 162, 178, 172])"
      ]
     },
     "execution_count": 94,
     "metadata": {},
     "output_type": "execute_result"
    }
   ],
   "source": [
    "heights[ ((heights >= 160) & (heights < 180)) | (weights > 60) ]"
   ]
  },
  {
   "cell_type": "code",
   "execution_count": 87,
   "id": "74c23381",
   "metadata": {},
   "outputs": [
    {
     "data": {
      "text/plain": [
       "22.537106176303787"
      ]
     },
     "execution_count": 87,
     "metadata": {},
     "output_type": "execute_result"
    }
   ],
   "source": [
    "np.mean(\n",
    "    all_bmis_by_gender[f_tall & f_not_super_tall]\n",
    ")"
   ]
  },
  {
   "cell_type": "code",
   "execution_count": null,
   "id": "d58830b8",
   "metadata": {},
   "outputs": [],
   "source": [
    "female_heights = heights[:,0]\n",
    "female_bmis    = all_bmis_by_gender[:,0]\n",
    "\n",
    "female_bmis[]"
   ]
  },
  {
   "cell_type": "code",
   "execution_count": 81,
   "id": "d4ae4f06",
   "metadata": {},
   "outputs": [
    {
     "data": {
      "text/plain": [
       "array([[False,  True],\n",
       "       [False,  True],\n",
       "       [ True,  True],\n",
       "       [ True,  True],\n",
       "       [False,  True]])"
      ]
     },
     "execution_count": 81,
     "metadata": {},
     "output_type": "execute_result"
    }
   ],
   "source": [
    "heights > 160"
   ]
  },
  {
   "cell_type": "code",
   "execution_count": null,
   "id": "dac6f485",
   "metadata": {},
   "outputs": [],
   "source": []
  },
  {
   "cell_type": "code",
   "execution_count": 49,
   "id": "044f3216-9113-4d30-b948-f153b0a0eac7",
   "metadata": {},
   "outputs": [
    {
     "data": {
      "text/plain": [
       "array([[False,  True],\n",
       "       [False,  True],\n",
       "       [ True,  True],\n",
       "       [ True,  True],\n",
       "       [False,  True]])"
      ]
     },
     "execution_count": 49,
     "metadata": {},
     "output_type": "execute_result"
    }
   ],
   "source": [
    "filter_tall = heights > 160\n",
    "filter_tall"
   ]
  },
  {
   "cell_type": "markdown",
   "id": "ccc5387d",
   "metadata": {},
   "source": [
    "We can use this as an index, and it will remove anyone in the dataset who is too tall:"
   ]
  },
  {
   "cell_type": "code",
   "execution_count": 50,
   "id": "c5b22e09-cbf7-444f-bac3-ecef77b749c6",
   "metadata": {},
   "outputs": [
    {
     "data": {
      "text/plain": [
       "array([175, 180, 165, 170, 162, 178, 172])"
      ]
     },
     "execution_count": 50,
     "metadata": {},
     "output_type": "execute_result"
    }
   ],
   "source": [
    "heights[filter_tall]"
   ]
  },
  {
   "cell_type": "markdown",
   "id": "2175bc5b",
   "metadata": {},
   "source": [
    "These can be combined into complex expressions as suited for the application:"
   ]
  },
  {
   "cell_type": "code",
   "execution_count": 51,
   "id": "e93d3f51-1d95-43f9-90e1-e9069a6f5914",
   "metadata": {},
   "outputs": [
    {
     "data": {
      "text/plain": [
       "array([175, 165, 170, 162, 178, 172])"
      ]
     },
     "execution_count": 51,
     "metadata": {},
     "output_type": "execute_result"
    }
   ],
   "source": [
    "filter_tall   = heights > 160\n",
    "filter_short  = heights < 180\n",
    "heights[filter_tall & filter_short ]"
   ]
  },
  {
   "cell_type": "markdown",
   "id": "5e74a45e",
   "metadata": {},
   "source": [
    "Since both heights and weights are of the same size, we can filter either on the other:"
   ]
  },
  {
   "cell_type": "code",
   "execution_count": 52,
   "id": "bf9d3e51",
   "metadata": {},
   "outputs": [
    {
     "data": {
      "text/plain": [
       "array([70, 77, 58, 68, 54, 75, 72])"
      ]
     },
     "execution_count": 52,
     "metadata": {},
     "output_type": "execute_result"
    }
   ],
   "source": [
    "weights[filter_tall]"
   ]
  },
  {
   "cell_type": "markdown",
   "id": "62e48955",
   "metadata": {},
   "source": [
    "### Extra exercises for home"
   ]
  },
  {
   "cell_type": "markdown",
   "id": "a3f601a6",
   "metadata": {},
   "source": [
    "**You try it**\n",
    "\n",
    "What is the average BMI of people taller than 170m?"
   ]
  },
  {
   "cell_type": "code",
   "execution_count": null,
   "id": "79b3d8de",
   "metadata": {},
   "outputs": [],
   "source": []
  },
  {
   "cell_type": "markdown",
   "id": "5b9195bc",
   "metadata": {},
   "source": [
    "**You try it**\n",
    "\n",
    "Try to change the BMI function so that instead of given you your BMI, it returns a classification (string). The BMI classifications are:\n",
    "\n",
    "* Below 18.5\tUnderweight\n",
    "* 18.5 – 24.9\tHealthy Weight\n",
    "* 25.0 – 29.9\tOverweight\n",
    "* 30.0 and Above\tObesity"
   ]
  },
  {
   "cell_type": "code",
   "execution_count": null,
   "id": "92980c71",
   "metadata": {},
   "outputs": [],
   "source": []
  }
 ],
 "metadata": {
  "kernelspec": {
   "display_name": "dsfb",
   "language": "python",
   "name": "python3"
  },
  "language_info": {
   "codemirror_mode": {
    "name": "ipython",
    "version": 3
   },
   "file_extension": ".py",
   "mimetype": "text/x-python",
   "name": "python",
   "nbconvert_exporter": "python",
   "pygments_lexer": "ipython3",
   "version": "3.11.11"
  },
  "widgets": {
   "application/vnd.jupyter.widget-state+json": {
    "state": {},
    "version_major": 2,
    "version_minor": 0
   }
  }
 },
 "nbformat": 4,
 "nbformat_minor": 5
}
