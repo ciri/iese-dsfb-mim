{
 "cells": [
  {
   "attachments": {},
   "cell_type": "markdown",
   "id": "3aeec9d0-f0fb-448b-8bb8-68e2e4e3813b",
   "metadata": {
    "tags": []
   },
   "source": [
    "[![Open In Colab](https://colab.research.google.com/assets/colab-badge.svg)](https://colab.research.google.com/github/ciri/iese-dsfb/blob/main/notebooks/010-Numpy.ipynb)\n",
    "\n",
    "# NumPy: Numerical Python\n",
    "\n",
    "## Why learn Numpy?\n",
    "\n",
    "In today's data-driven world, everything can be quantified and represented as numbers—from user behavior on websites to patterns in medical data. Understanding these numerical representations is essential for machine learning, data analysis, and scientific computing. NumPy serves as the foundational package for numerical operations in Python, making it easier for you to delve into these domains.\n",
    "\n",
    "\n",
    "## Numpy Arrays\n",
    "\n",
    "This tutorial introduces you to NumPy's data containers, offering a quick look at how to manage data sets in Python. In the realm of mathematics, **vectors** and **matrices** are fundamental units represented as sequences and grids of numbers, respectively. They are integral to linear algebra, a crucial area in computational tasks underlying modern Machine Learning and Artificial Intelligence. In NumPy, these structures are simplified as one-dimensional (1D) and two-dimensional (2D) arrays, and the library even supports higher-dimensional arrays with ease.\n",
    "\n",
    "To get started, import NumPy like this:"
   ]
  },
  {
   "cell_type": "code",
   "execution_count": 1,
   "id": "1d8b585a-d65f-47cc-8a00-dc15dcb902c3",
   "metadata": {},
   "outputs": [],
   "source": [
    "import numpy as np"
   ]
  },
  {
   "attachments": {},
   "cell_type": "markdown",
   "id": "c3889f47-6041-4f3e-ac99-e1dfaf975e92",
   "metadata": {},
   "source": [
    "A 1D arrays can be created from a list with the NumPy function array. If the items of the list have different\n",
    "type, they are converted to a common type when creating the array. A simple example follows."
   ]
  },
  {
   "cell_type": "code",
   "execution_count": 2,
   "id": "3b4cb4d4-ed03-4995-a934-8e1f3edf1cba",
   "metadata": {},
   "outputs": [],
   "source": [
    "mylist = [2, 7, 14, 5, 9]"
   ]
  },
  {
   "cell_type": "code",
   "execution_count": 3,
   "id": "e13f2cec",
   "metadata": {},
   "outputs": [
    {
     "data": {
      "text/plain": [
       "list"
      ]
     },
     "execution_count": 3,
     "metadata": {},
     "output_type": "execute_result"
    }
   ],
   "source": [
    "type(mylist)"
   ]
  },
  {
   "cell_type": "code",
   "execution_count": 4,
   "id": "f9382f98",
   "metadata": {},
   "outputs": [
    {
     "data": {
      "text/plain": [
       "[2, 7, 14, 5, 9, 1]"
      ]
     },
     "execution_count": 4,
     "metadata": {},
     "output_type": "execute_result"
    }
   ],
   "source": [
    "mylist + [1]"
   ]
  },
  {
   "cell_type": "code",
   "execution_count": 5,
   "id": "c72acf7e",
   "metadata": {},
   "outputs": [
    {
     "data": {
      "text/plain": [
       "['hello', 12344, 844.5, True]"
      ]
     },
     "execution_count": 5,
     "metadata": {},
     "output_type": "execute_result"
    }
   ],
   "source": [
    "['hello',12344,844.5,True]"
   ]
  },
  {
   "cell_type": "code",
   "execution_count": 6,
   "id": "785c3f4c",
   "metadata": {},
   "outputs": [
    {
     "data": {
      "text/plain": [
       "array([ 2,  7, 14,  5,  9])"
      ]
     },
     "execution_count": 6,
     "metadata": {},
     "output_type": "execute_result"
    }
   ],
   "source": [
    "myarray = np.array(mylist)\n",
    "myarray"
   ]
  },
  {
   "cell_type": "code",
   "execution_count": 7,
   "id": "e70943d6",
   "metadata": {},
   "outputs": [
    {
     "data": {
      "text/plain": [
       "9"
      ]
     },
     "execution_count": 7,
     "metadata": {},
     "output_type": "execute_result"
    }
   ],
   "source": [
    "myarray[-1]"
   ]
  },
  {
   "cell_type": "code",
   "execution_count": null,
   "id": "2ca03e06",
   "metadata": {},
   "outputs": [],
   "source": []
  },
  {
   "cell_type": "code",
   "execution_count": 8,
   "id": "1af04382",
   "metadata": {},
   "outputs": [
    {
     "data": {
      "text/plain": [
       "(14, 5)"
      ]
     },
     "execution_count": 8,
     "metadata": {},
     "output_type": "execute_result"
    }
   ],
   "source": [
    "my2darray = np.array([\n",
    "    [1,2,3,4,5],\n",
    "    [6,7,8,9,10],\n",
    "    [6,7,8,9,10],\n",
    "    [6,7,8,9,10],\n",
    "    [6,7,8,9,10],\n",
    "    [6,7,8,9,10],\n",
    "    [6,7,8,9,10],\n",
    "    [6,7,8,9,10],\n",
    "    [6,7,8,9,10],\n",
    "    [6,7,8,9,10],\n",
    "    [6,7,8,9,10],\n",
    "    [6,7,8,9,10],\n",
    "    [6,7,8,9,10],\n",
    "    [6,7,8,9,10]\n",
    "])\n",
    "my2darray.shape"
   ]
  },
  {
   "cell_type": "code",
   "execution_count": 9,
   "id": "d659b466",
   "metadata": {},
   "outputs": [
    {
     "data": {
      "text/plain": [
       "2"
      ]
     },
     "execution_count": 9,
     "metadata": {},
     "output_type": "execute_result"
    }
   ],
   "source": [
    "my2darray[0,1]"
   ]
  },
  {
   "cell_type": "code",
   "execution_count": 10,
   "id": "cfe4e0e8-ea21-4ec3-a4e8-61aff3f3f932",
   "metadata": {},
   "outputs": [
    {
     "data": {
      "text/plain": [
       "list"
      ]
     },
     "execution_count": 10,
     "metadata": {},
     "output_type": "execute_result"
    }
   ],
   "source": [
    "type(mylist)"
   ]
  },
  {
   "cell_type": "code",
   "execution_count": 11,
   "id": "a6abd65d",
   "metadata": {},
   "outputs": [
    {
     "data": {
      "text/plain": [
       "array([1, 2, 3, 4])"
      ]
     },
     "execution_count": 11,
     "metadata": {},
     "output_type": "execute_result"
    }
   ],
   "source": [
    "arr1 = np.array([1,2,3,4])\n",
    "arr1"
   ]
  },
  {
   "cell_type": "markdown",
   "id": "33aeeaf8",
   "metadata": {},
   "source": [
    "This looks the same, but it's a very different beast! The constraint that everything has the same type is a useful one as it allows us to operate on the array more naturally. Try these for comparison:"
   ]
  },
  {
   "cell_type": "code",
   "execution_count": 12,
   "id": "64766914",
   "metadata": {
    "tags": [
     "remove_output"
    ]
   },
   "outputs": [
    {
     "data": {
      "text/plain": [
       "[2, 7, 14, 5, 9, 2, 7, 14, 5, 9]"
      ]
     },
     "execution_count": 12,
     "metadata": {},
     "output_type": "execute_result"
    }
   ],
   "source": [
    "arr1 + 1\n",
    "mylist + [1]\n",
    "arr1 * 2\n",
    "mylist * 2"
   ]
  },
  {
   "cell_type": "markdown",
   "id": "89b62e0e",
   "metadata": {},
   "source": [
    "In case of mixed types (never do this!) you will get unexpected results:"
   ]
  },
  {
   "cell_type": "code",
   "execution_count": 13,
   "id": "a2f23282",
   "metadata": {},
   "outputs": [
    {
     "data": {
      "text/plain": [
       "array(['1', 'a', '3', '4'], dtype='<U21')"
      ]
     },
     "execution_count": 13,
     "metadata": {},
     "output_type": "execute_result"
    }
   ],
   "source": [
    "arr1 = np.array([1,'a',3,4])\n",
    "arr1"
   ]
  },
  {
   "attachments": {},
   "cell_type": "markdown",
   "id": "49112a43",
   "metadata": {},
   "source": [
    "There are two types involves with arrays. The type of the array is `array`, its elements also have a type which can be checked using `myarray.dtype`:"
   ]
  },
  {
   "cell_type": "code",
   "execution_count": 14,
   "id": "c3156e84",
   "metadata": {},
   "outputs": [
    {
     "data": {
      "text/plain": [
       "numpy.ndarray"
      ]
     },
     "execution_count": 14,
     "metadata": {},
     "output_type": "execute_result"
    }
   ],
   "source": [
    "type(arr1)"
   ]
  },
  {
   "cell_type": "code",
   "execution_count": 15,
   "id": "ae38d2c6",
   "metadata": {},
   "outputs": [
    {
     "data": {
      "text/plain": [
       "dtype('<U21')"
      ]
     },
     "execution_count": 15,
     "metadata": {},
     "output_type": "execute_result"
    }
   ],
   "source": [
    "arr1.dtype"
   ]
  },
  {
   "attachments": {},
   "cell_type": "markdown",
   "id": "0b5689b1-f638-4c22-a201-a049a21dfa16",
   "metadata": {},
   "source": [
    "A 2D array can be directly created from a list of lists of equal length. The terms are entered row-by-row:"
   ]
  },
  {
   "cell_type": "code",
   "execution_count": 16,
   "id": "851ee2b6-cc43-436f-a63a-65f199c5fe0d",
   "metadata": {},
   "outputs": [
    {
     "data": {
      "text/plain": [
       "[[0, 7, 2, 3], [3, 9, -5, 1]]"
      ]
     },
     "execution_count": 16,
     "metadata": {},
     "output_type": "execute_result"
    }
   ],
   "source": [
    "my_list_of_lists = [\n",
    "    [0, 7, 2, 3], \n",
    "    [3, 9, -5, 1]\n",
    "]\n",
    "my_list_of_lists"
   ]
  },
  {
   "cell_type": "code",
   "execution_count": 17,
   "id": "656088c0-ff92-4987-aa21-61377e10e28b",
   "metadata": {},
   "outputs": [
    {
     "data": {
      "text/plain": [
       "array([[ 0,  7,  2,  3],\n",
       "       [ 3,  9, -5,  1]])"
      ]
     },
     "execution_count": 17,
     "metadata": {},
     "output_type": "execute_result"
    }
   ],
   "source": [
    "arr2 = np.array(my_list_of_lists)\n",
    "arr2"
   ]
  },
  {
   "attachments": {},
   "cell_type": "markdown",
   "id": "3586605a-6312-4e79-990e-98d70d288fc1",
   "metadata": {},
   "source": [
    "Although we visualize a vector as a column (or as a row) and a matrix as a rectangular arrangement, with rows and columns, it is not so in the computer. The 1d array is just a sequence of elements of the same type, neither horizontal nor vertical. It has one **axis**, which is the 0-axis.\n",
    "\n",
    "In a similar way, a 2d array is a sequence of 1d arrays of the same length and type. It has two axes. When we visualize it as rows and columns, `axis=0` means *across rows*, while `axis=1` means *across columns*.\n",
    "\n",
    "The number of terms stored along an axis is the **dimension** of that axis. The dimensions are collected in the attribute `shape`:"
   ]
  },
  {
   "cell_type": "code",
   "execution_count": 18,
   "id": "ea9d4648-a419-4148-87a0-7a6883b418fc",
   "metadata": {},
   "outputs": [
    {
     "data": {
      "text/plain": [
       "(4,)"
      ]
     },
     "execution_count": 18,
     "metadata": {},
     "output_type": "execute_result"
    }
   ],
   "source": [
    "arr1.shape"
   ]
  },
  {
   "cell_type": "code",
   "execution_count": 19,
   "id": "c372fec7-165b-4730-97f8-28ada8422a3b",
   "metadata": {},
   "outputs": [
    {
     "data": {
      "text/plain": [
       "(2, 4)"
      ]
     },
     "execution_count": 19,
     "metadata": {},
     "output_type": "execute_result"
    }
   ],
   "source": [
    "arr2.shape"
   ]
  },
  {
   "cell_type": "code",
   "execution_count": 20,
   "id": "37aa4e0e-6328-4d63-98c6-d76ccbe9f0ec",
   "metadata": {},
   "outputs": [
    {
     "data": {
      "text/plain": [
       "(2, 3, 4)"
      ]
     },
     "execution_count": 20,
     "metadata": {},
     "output_type": "execute_result"
    }
   ],
   "source": [
    "arr3 = np.random.randn(2,3,4)\n",
    "arr3.shape"
   ]
  },
  {
   "attachments": {},
   "cell_type": "markdown",
   "id": "061ab948-9424-40a1-930a-c19f9b5f4b29",
   "metadata": {},
   "source": [
    "This is a tuple, meaning that you can extract one of the elements, but you cannot reassign it."
   ]
  },
  {
   "cell_type": "code",
   "execution_count": 21,
   "id": "16089b33-6777-4ca0-b24d-1369964baa31",
   "metadata": {},
   "outputs": [
    {
     "name": "stdout",
     "output_type": "stream",
     "text": [
      "2\n"
     ]
    }
   ],
   "source": [
    "print(arr2.shape[0])"
   ]
  },
  {
   "cell_type": "code",
   "execution_count": 23,
   "id": "bdeb86de-dec3-4d99-a934-6cbb89463aaa",
   "metadata": {},
   "outputs": [
    {
     "ename": "TypeError",
     "evalue": "'tuple' object does not support item assignment",
     "output_type": "error",
     "traceback": [
      "\u001b[0;31m---------------------------------------------------------------------------\u001b[0m",
      "\u001b[0;31mTypeError\u001b[0m                                 Traceback (most recent call last)",
      "Cell \u001b[0;32mIn[23], line 1\u001b[0m\n\u001b[0;32m----> 1\u001b[0m \u001b[43marr2\u001b[49m\u001b[38;5;241;43m.\u001b[39;49m\u001b[43mshape\u001b[49m\u001b[43m[\u001b[49m\u001b[38;5;241;43m0\u001b[39;49m\u001b[43m]\u001b[49m \u001b[38;5;241m=\u001b[39m \u001b[38;5;241m123\u001b[39m\n",
      "\u001b[0;31mTypeError\u001b[0m: 'tuple' object does not support item assignment"
     ]
    }
   ],
   "source": [
    "arr2.shape[0] = 123"
   ]
  },
  {
   "cell_type": "markdown",
   "id": "2211b460",
   "metadata": {},
   "source": [
    "**You try it:**\n",
    "\n",
    "1. Create a prediction function `price` that predicts the price of an appartment based on its surface:\n",
    "\n",
    "    Price = 100,000 + 5,000 x (surf in m2)\n",
    "\n",
    "2. Calculate the price of a house of 130 m2.\n",
    "3. Calculate the price over a range of surfaces 50,60,..,130"
   ]
  },
  {
   "cell_type": "code",
   "execution_count": null,
   "id": "f0904b97",
   "metadata": {},
   "outputs": [],
   "source": []
  },
  {
   "attachments": {},
   "cell_type": "markdown",
   "id": "d81f2555-a0e8-4a03-968e-13b67b30d340",
   "metadata": {},
   "source": [
    "## NumPy functions\n",
    "\n",
    "NumPy incorporates vectorized forms of the **mathematical functions** of the package `math`. A **vectorized function** is one that, when applied to an array, returns an array with same shape, whose terms are the values of the function on the corresponding terms of the original array. For instance, the NumPy square root function `np.max` takes the maximum of every term of a numeric array:"
   ]
  },
  {
   "cell_type": "code",
   "execution_count": 24,
   "id": "ebe28833",
   "metadata": {},
   "outputs": [
    {
     "data": {
      "text/plain": [
       "array([165, 180])"
      ]
     },
     "execution_count": 24,
     "metadata": {},
     "output_type": "execute_result"
    }
   ],
   "source": [
    "# Heights in cm [Female, Male]\n",
    "heights = np.array([[160, 175],  \n",
    "                    [155, 180],  \n",
    "                    [165, 170],  \n",
    "                    [162, 178],  \n",
    "                    [158, 172]])\n",
    "np.max(heights, axis=0)"
   ]
  },
  {
   "cell_type": "code",
   "execution_count": 25,
   "id": "c64ca7c8",
   "metadata": {},
   "outputs": [
    {
     "data": {
      "text/plain": [
       "(5, 2)"
      ]
     },
     "execution_count": 25,
     "metadata": {},
     "output_type": "execute_result"
    }
   ],
   "source": [
    "heights.shape"
   ]
  },
  {
   "cell_type": "markdown",
   "id": "4c1580da-1ae4-4513-b41d-8a2e3c222044",
   "metadata": {},
   "source": [
    "You can also tell `numpy` to do this calculation along the rows or columns using the `axis` parameter. Let's try calculating the mean for Females v.s. Males using the `np.mean()` function."
   ]
  },
  {
   "cell_type": "code",
   "execution_count": 26,
   "id": "464f298d",
   "metadata": {},
   "outputs": [
    {
     "data": {
      "text/plain": [
       "array([160., 175.])"
      ]
     },
     "execution_count": 26,
     "metadata": {},
     "output_type": "execute_result"
    }
   ],
   "source": [
    "np.mean(heights ,axis=0)"
   ]
  },
  {
   "attachments": {},
   "cell_type": "markdown",
   "id": "c1591966-dc38-4c55-b53e-da74d8d4ef30",
   "metadata": {},
   "source": [
    "NumPy also provides common mathematical and statistical functions, such as `median, max, sum, sqrt, std, quantile` etc.\n",
    "\n",
    "\n",
    "Functions that are defined in terms of vectorized functions are automatically vectorized. Let's try this with an exercise:"
   ]
  },
  {
   "cell_type": "markdown",
   "id": "0a3e4e4f",
   "metadata": {},
   "source": [
    "**You try it:**\n",
    "\n",
    "Given the heights and weights of Females and Males, calculate the BMI of the whole population. Remember that the formula for BMI is:\n",
    "\n",
    "$$\n",
    "    \\text{BMI} = \\frac{\\text{weight}}{\\text{height (in meter)}^2}\n",
    "$$"
   ]
  },
  {
   "cell_type": "code",
   "execution_count": 29,
   "id": "3db86b7d-8b4f-4654-a5f4-0865a04ac3e8",
   "metadata": {
    "tags": [
     "remove_output"
    ]
   },
   "outputs": [],
   "source": [
    "# Weights in kg [Female, Male]\n",
    "heights =    np.array([[160, 175],\n",
    "                       [155, 180],\n",
    "                       [165, 170],\n",
    "                       [162, 178],\n",
    "                       [158, 172]])\n",
    "\n",
    "weights = np.array([[55, 70],\n",
    "                    [52, 77],\n",
    "                    [58, 68],\n",
    "                    [54, 75],\n",
    "                    [53, 72]])"
   ]
  },
  {
   "attachments": {},
   "cell_type": "markdown",
   "id": "9bfe0c41-7f4f-442e-b5df-b40475cecbaf",
   "metadata": {},
   "source": [
    "## Subsetting arrays\n",
    "\n",
    "**Slicing** a 1D array is done the same as for a list:"
   ]
  },
  {
   "cell_type": "code",
   "execution_count": 30,
   "id": "0b1062dc",
   "metadata": {},
   "outputs": [
    {
     "data": {
      "text/plain": [
       "5"
      ]
     },
     "execution_count": 30,
     "metadata": {},
     "output_type": "execute_result"
    }
   ],
   "source": [
    "arr1 = np.array([5,4,2,41])\n",
    "arr1[0]"
   ]
  },
  {
   "cell_type": "code",
   "execution_count": 31,
   "id": "85531fb0-e2da-4a8f-a568-56dfe57d8de5",
   "metadata": {},
   "outputs": [
    {
     "data": {
      "text/plain": [
       "array([5, 4, 2])"
      ]
     },
     "execution_count": 31,
     "metadata": {},
     "output_type": "execute_result"
    }
   ],
   "source": [
    "arr1[:3]"
   ]
  },
  {
   "attachments": {},
   "cell_type": "markdown",
   "id": "315a5182-ae2e-464a-aadd-2b0578dfd610",
   "metadata": {},
   "source": [
    "The same applies to two-dimensional arrays, but we need two indexes within the square brackets. The first index selects the rows (`axis=0`), and the second index the columns (`axis=1`):"
   ]
  },
  {
   "cell_type": "code",
   "execution_count": 32,
   "id": "b2b7468f-e0d2-4ec2-8b05-fdd99df160a2",
   "metadata": {},
   "outputs": [
    {
     "data": {
      "text/plain": [
       "array([[155, 180],\n",
       "       [165, 170]])"
      ]
     },
     "execution_count": 32,
     "metadata": {},
     "output_type": "execute_result"
    }
   ],
   "source": [
    "heights[[1,2], :3]"
   ]
  },
  {
   "cell_type": "markdown",
   "id": "2b84c4ac",
   "metadata": {},
   "source": [
    "**Step intervals** can be used if we need to select only every n-th element of the array:"
   ]
  },
  {
   "cell_type": "code",
   "execution_count": 33,
   "id": "3b7df6eb",
   "metadata": {},
   "outputs": [
    {
     "data": {
      "text/plain": [
       "(array([ 5,  4,  2, 41]), array([5, 2]))"
      ]
     },
     "execution_count": 33,
     "metadata": {},
     "output_type": "execute_result"
    }
   ],
   "source": [
    "arr1, arr1[::2]"
   ]
  },
  {
   "cell_type": "markdown",
   "id": "da7416be",
   "metadata": {},
   "source": [
    "One special case of this which is used quite often is to use steps of -1, which is equivalent to reversing the array."
   ]
  },
  {
   "cell_type": "code",
   "execution_count": 34,
   "id": "c0b6ec5b",
   "metadata": {},
   "outputs": [
    {
     "data": {
      "text/plain": [
       "(array([ 5,  4,  2, 41]), array([41,  2,  4,  5]))"
      ]
     },
     "execution_count": 34,
     "metadata": {},
     "output_type": "execute_result"
    }
   ],
   "source": [
    "arr1, arr1[::-1]"
   ]
  },
  {
   "cell_type": "code",
   "execution_count": 35,
   "id": "ae225dcb",
   "metadata": {},
   "outputs": [
    {
     "data": {
      "text/plain": [
       "array([ 5,  4,  2, 41])"
      ]
     },
     "execution_count": 35,
     "metadata": {},
     "output_type": "execute_result"
    }
   ],
   "source": [
    "arr1"
   ]
  },
  {
   "cell_type": "code",
   "execution_count": 36,
   "id": "5b078f90",
   "metadata": {},
   "outputs": [
    {
     "data": {
      "text/plain": [
       "array([5, 2])"
      ]
     },
     "execution_count": 36,
     "metadata": {},
     "output_type": "execute_result"
    }
   ],
   "source": [
    "arr1[::2]"
   ]
  },
  {
   "cell_type": "markdown",
   "id": "120527a4",
   "metadata": {},
   "source": [
    "Here's an overview of common slicing operations from McKinney (2017):\n",
    "\n",
    "<center>\n",
    "    <img src='https://raw.githubusercontent.com/ciri/iese-dsfb/main/images/nparray-indexing.png' width='60%'>\n",
    "</center>"
   ]
  },
  {
   "attachments": {},
   "cell_type": "markdown",
   "id": "ae55ec85-c0c0-4479-ba4c-e14d83541179",
   "metadata": {},
   "source": [
    "**Filtering** Subsets of an array can also be extracted by means of expressions which acts as filters. Any expression involving an array is evaluated in Python as a Boolean array (called a **Boolean mask**):"
   ]
  },
  {
   "cell_type": "code",
   "execution_count": 44,
   "id": "bd2479c6",
   "metadata": {},
   "outputs": [
    {
     "data": {
      "text/plain": [
       "array([[ True,  True],\n",
       "       [False,  True],\n",
       "       [ True,  True],\n",
       "       [ True,  True],\n",
       "       [False,  True]])"
      ]
     },
     "execution_count": 44,
     "metadata": {},
     "output_type": "execute_result"
    }
   ],
   "source": [
    "filter_tall           = heights >= 160 \n",
    "\n",
    "filter_tall"
   ]
  },
  {
   "cell_type": "markdown",
   "id": "ccc5387d",
   "metadata": {},
   "source": [
    "We can use this as an index, and it will remove anyone in the dataset who is too tall:"
   ]
  },
  {
   "cell_type": "code",
   "execution_count": 45,
   "id": "c5b22e09-cbf7-444f-bac3-ecef77b749c6",
   "metadata": {},
   "outputs": [
    {
     "data": {
      "text/plain": [
       "array([160, 175, 180, 165, 170, 162, 178, 172])"
      ]
     },
     "execution_count": 45,
     "metadata": {},
     "output_type": "execute_result"
    }
   ],
   "source": [
    "heights[filter_tall]"
   ]
  },
  {
   "cell_type": "markdown",
   "id": "2175bc5b",
   "metadata": {},
   "source": [
    "These can be combined into complex expressions as suited for the application:"
   ]
  },
  {
   "cell_type": "code",
   "execution_count": 46,
   "id": "e93d3f51-1d95-43f9-90e1-e9069a6f5914",
   "metadata": {},
   "outputs": [
    {
     "data": {
      "text/plain": [
       "array([175, 165, 170, 162, 178, 172])"
      ]
     },
     "execution_count": 46,
     "metadata": {},
     "output_type": "execute_result"
    }
   ],
   "source": [
    "filter_tall   = heights > 160\n",
    "filter_short  = heights < 180\n",
    "heights[filter_tall & filter_short ]"
   ]
  },
  {
   "cell_type": "markdown",
   "id": "5e74a45e",
   "metadata": {},
   "source": [
    "Since both heights and weights are of the same size, we can filter either on the other:"
   ]
  },
  {
   "cell_type": "code",
   "execution_count": 47,
   "id": "bf9d3e51",
   "metadata": {},
   "outputs": [
    {
     "data": {
      "text/plain": [
       "array([70, 77, 58, 68, 54, 75, 72])"
      ]
     },
     "execution_count": 47,
     "metadata": {},
     "output_type": "execute_result"
    }
   ],
   "source": [
    "weights[filter_tall]"
   ]
  },
  {
   "cell_type": "markdown",
   "id": "62e48955",
   "metadata": {},
   "source": [
    "### Extra exercises for home"
   ]
  },
  {
   "cell_type": "markdown",
   "id": "ddf00aa6",
   "metadata": {},
   "source": [
    "**You try it**\n",
    "\n",
    "In this exercise, you'll apply NumPy to perform a basic RFM (Recency, Frequency, Monetary) analysis, a popular method for customer segmentation in marketing analytics. The idea is that customers who bought recently, buy often, and spend more are more valuable. You’ll calculate a score that reflects this, helping businesses prioritize outreach or promotions.\n",
    "\n",
    "* R (Recency): How recently a customer made a purchase (lower is better)\n",
    "* F (Frequency): How often the customer buys (higher is better)\n",
    "* M (Monetary): How much the customer spends (higher is better)\n",
    "\n",
    "Categories (based on score):\n",
    "* Champions – top scorers, highly engaged and valuable\n",
    "* At Risk – haven’t purchased in a while\n",
    "* New Customers – recent, but low frequency and spend\n",
    "* Potential Loyalists – good frequency or spend, not both\n",
    "* Needs Attention – low scores on all fronts\n",
    "\n",
    "Your objective:\n",
    "1. Normalize each column so that the value becomes a number from 0 to 1 (min-max scaling), use `np.min` and `np.max` for this.\n",
    "$$\n",
    "x_{\\text{scaled}} = \\frac{x - \\min(x)}{\\max(x) - \\min(x)}\n",
    "$$\n",
    "2. Invert the Recency column (since lower is better)\n",
    "3. Rank customers and identify the top one"
   ]
  },
  {
   "cell_type": "code",
   "execution_count": 1,
   "id": "3c39970f",
   "metadata": {},
   "outputs": [],
   "source": [
    "import numpy as np\n",
    "\n",
    "# Sample RFM data for 5 customers [Recency (days), Frequency (purchases), Monetary (€)]\n",
    "# Columns: R, F, M\n",
    "rfm = np.array([\n",
    "    [10,  5, 200],  # Customer 0\n",
    "    [30,  2, 150],  # Customer 1\n",
    "    [5,   7, 300],  # ...\n",
    "    [60,  1, 100],  \n",
    "    [20,  4, 180],  \n",
    "    [3,   8, 320],  \n",
    "    [45,  3, 130],  \n",
    "    [15,  6, 220],  \n",
    "    [70,  1, 90],   \n",
    "    [8,   9, 310]\n",
    "])\n",
    "\n",
    "def rfm_score(rfm_data):\n",
    "    scores = ...\n",
    "    return scores"
   ]
  },
  {
   "cell_type": "markdown",
   "id": "a3f601a6",
   "metadata": {},
   "source": [
    "**You try it**\n",
    "\n",
    "What is the average BMI of people taller than 170m?"
   ]
  },
  {
   "cell_type": "code",
   "execution_count": null,
   "id": "79b3d8de",
   "metadata": {},
   "outputs": [],
   "source": []
  },
  {
   "cell_type": "markdown",
   "id": "5b9195bc",
   "metadata": {},
   "source": [
    "**You try it**\n",
    "\n",
    "Try to change the BMI function so that instead of given you your BMI, it returns a classification (string). The BMI classifications are:\n",
    "\n",
    "* Below 18.5\tUnderweight\n",
    "* 18.5 – 24.9\tHealthy Weight\n",
    "* 25.0 – 29.9\tOverweight\n",
    "* 30.0 and Above\tObesity"
   ]
  },
  {
   "cell_type": "code",
   "execution_count": null,
   "id": "92980c71",
   "metadata": {},
   "outputs": [],
   "source": []
  }
 ],
 "metadata": {
  "kernelspec": {
   "display_name": "dsfb",
   "language": "python",
   "name": "python3"
  },
  "language_info": {
   "codemirror_mode": {
    "name": "ipython",
    "version": 3
   },
   "file_extension": ".py",
   "mimetype": "text/x-python",
   "name": "python",
   "nbconvert_exporter": "python",
   "pygments_lexer": "ipython3",
   "version": "3.11.9"
  },
  "widgets": {
   "application/vnd.jupyter.widget-state+json": {
    "state": {},
    "version_major": 2,
    "version_minor": 0
   }
  }
 },
 "nbformat": 4,
 "nbformat_minor": 5
}
