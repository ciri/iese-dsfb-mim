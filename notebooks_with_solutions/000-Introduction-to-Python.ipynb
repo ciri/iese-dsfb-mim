{
 "cells": [
  {
   "attachments": {},
   "cell_type": "markdown",
   "id": "7a846336-b367-4ab7-995b-612e7af3d4b0",
   "metadata": {
    "tags": []
   },
   "source": [
    "[![Open In Colab](https://colab.research.google.com/assets/colab-badge.svg)](https://colab.research.google.com/github/ciri/iese-dsfb/blob/main/notebooks/000-Introduction-to-Python.ipynb)\n",
    "\n",
    "\n",
    "# Introduction to Python\n",
    "\n",
    "## What is Python?\n",
    "\n",
    "**Python** is a programming language, introduced in 1991. The current version is Python 3, though you can still find Python 2 code in the older editions of many books. To work with Python, you will use an interface for which you have many choices available. You can have several \"instances\" of Python, called **kernels**, running independently in your computer.\n",
    "\n",
    "Python is **case sensitive**. So, `type` is a Python function that returns the type of an object, but `Type` is not recognized (unless you create a new function with this name), and will return an error message.\n",
    "\n",
    "**Python** is a powerful and widely-used programming language that debuted in 1991. While Python 3 is the current standard, you might encounter Python 2 code in older resources. The language offers flexibility in how you interact with it - you can choose from various interfaces, and run multiple independent instances (called **kernels**) simultaneously on your computer.\n",
    "\n",
    "One important detail to remember: Python is case **sensitive**. For example, the built-in function `type` (lowercase) tells you what kind of object you're working with, but writing it as `Type` will trigger an error because Python treats uppercase and lowercase letters as distinct characters.\n",
    "\n",
    "\n",
    "## The Anaconda distribution\n",
    "\n",
    "There are many distributions of Python, but **Anaconda** (`anaconda.com`) is the preferred choice in the data science community. Anaconda comes pre-packaged with most resources needed for this course. When installing Anaconda, select Python 3, and you'll get access to the **Anaconda Navigator** - a browser-based interface for launching various Python environments. For those who prefer command-line tools, you can bypass the Navigator using a **command-line interface** (CLI): Terminal on Mac or the Anaconda prompt on Windows.\n",
    "\n",
    "Historically, developers favored the **Jupyter Qt console** or **IPython** (Interactive Python). IPython enhanced the basic Python shell with additional features, while the Qt console added a graphical interface with menus and mouse support using the Qt toolkit. IPython introduced **magic commands**, denoted by `%cmd` (like `%cd` for changing directories). While these commands aren't part of Python itself, they're still referenced in many tutorials. For a complete list of magic commands, use `%quickref`. Though you can omit the `%` prefix, we'll keep it to distinguish magic commands from standard Python code.\n",
    "\n",
    "Today's data scientists primarily use IPython's successor: Jupyter. The Jupyter ecosystem introduces the **notebook** paradigm, allowing seamless integration of code, output, and documentation. **Jupyter Notebook** leads this space, with **Apache Zeppelin** a notable alternatives. All of these platforms support multiple programming languages beyond Python, including R. These course materials were developed using a Python-based Jupyter notebook. The page that you are reading right now is a rendered notebook.\n",
    "\n",
    "Anaconda also includes two full-featured Integrated Development Environments (IDEs): **Spyder** and **Visual Studio Code**. These provide comprehensive development tools like consoles, text editors, debuggers, and variable inspectors. While we won't cover these advanced features, users familiar with IDEs (like RStudio for R) may prefer these environments. Feel free to use any tool you're comfortable with, though our instructions will assume you're using Jupyter Notebook, Jupyter Lab or Visual Studio Code - the concepts generally transfer to other interfaces with minimal adaptation.\n",
    "\n",
    "In case you are not able to install/run Anaconda on your own computer, it is recommended that you create a google account and use [Google Collab](https://colab.google/) instead (though it has some limitations).\n",
    "\n",
    "## Typing Python\n",
    "\n",
    "Code is typed into code cells like the one below, when you enter that cell and press Shift+Return the code will run and you will get the output underneath. Python returns either an output (preceded by [1]:), a (typically long and difficult) error message, or no answer at all. Here is a supersimple example"
   ]
  },
  {
   "cell_type": "code",
   "execution_count": 1,
   "id": "affbb937-f2ae-41c0-a381-c1ed22a98714",
   "metadata": {
    "tags": []
   },
   "outputs": [
    {
     "data": {
      "text/plain": [
       "4"
      ]
     },
     "execution_count": 1,
     "metadata": {},
     "output_type": "execute_result"
    }
   ],
   "source": [
    "2+2"
   ]
  },
  {
   "attachments": {},
   "cell_type": "markdown",
   "id": "35fd972b-93ef-4964-9ba1-ba8fbba5d75a",
   "metadata": {},
   "source": [
    "So, if you enter 2 + 2, the output will be the result of this calculation. But, when you want to store this\n",
    "result for later use (in the same session), you enter it with a name, as follows:"
   ]
  },
  {
   "cell_type": "code",
   "execution_count": 2,
   "id": "8f2a0560-0cb4-40ed-a329-c6b9ad2adc05",
   "metadata": {},
   "outputs": [],
   "source": [
    "a = 2 + 2"
   ]
  },
  {
   "attachments": {},
   "cell_type": "markdown",
   "id": "4edc15ab-7931-40f4-acb4-5087bbbe3d3b",
   "metadata": {},
   "source": [
    "This creates the **variable** a. Note that the value of 2 + 2 is not outputted now. But you can call it:"
   ]
  },
  {
   "cell_type": "code",
   "execution_count": 3,
   "id": "df887888-63d6-4278-b8d8-15c522fc8382",
   "metadata": {},
   "outputs": [
    {
     "data": {
      "text/plain": [
       "4"
      ]
     },
     "execution_count": 3,
     "metadata": {},
     "output_type": "execute_result"
    }
   ],
   "source": [
    "a"
   ]
  },
  {
   "attachments": {},
   "cell_type": "markdown",
   "id": "1a0adae6-d499-4f99-b4e2-0f21c07d162d",
   "metadata": {},
   "source": [
    "In Python, when you assign a value to a variable that has already been created, the previous assignment is\n",
    "forgotten. So:"
   ]
  },
  {
   "cell_type": "code",
   "execution_count": 4,
   "id": "3cb1364e-a847-47ad-9e37-6a4b4177cb58",
   "metadata": {},
   "outputs": [
    {
     "data": {
      "text/plain": [
       "5"
      ]
     },
     "execution_count": 4,
     "metadata": {},
     "output_type": "execute_result"
    }
   ],
   "source": [
    "a = 7 - 2\n",
    "a"
   ]
  },
  {
   "attachments": {},
   "cell_type": "markdown",
   "id": "0dd93dcd-9fe3-4b7d-92ae-f8bf41f5ec7f",
   "metadata": {},
   "source": [
    "If you copypaste in the console code chunks that you edit in a text editor, you can input several code lines at\n",
    "once. In that case, you will only get the output for the last line. If the cursor is not at the end of the last\n",
    "line, you have to press Shift+Return to get the output. Here is a simple example:"
   ]
  },
  {
   "cell_type": "code",
   "execution_count": 5,
   "id": "01d7325a-b2a8-4a32-a9d4-ba688050b767",
   "metadata": {},
   "outputs": [
    {
     "data": {
      "text/plain": [
       "36"
      ]
     },
     "execution_count": 5,
     "metadata": {},
     "output_type": "execute_result"
    }
   ],
   "source": [
    "b = 2 * 3\n",
    "b - 1\n",
    "b**2"
   ]
  },
  {
   "attachments": {},
   "cell_type": "markdown",
   "id": "d7615eff-30b8-4447-aaa8-5eefede49403",
   "metadata": {},
   "source": [
    "Note. You would probably have written bˆ2 for the square of 2, but the caret symbol (ˆ) plays a different\n",
    "role in Python."
   ]
  },
  {
   "attachments": {},
   "cell_type": "markdown",
   "id": "6e607098-9363-4dd5-8368-6496f4ecd359",
   "metadata": {},
   "source": [
    "## Python Packages\n",
    "\n",
    "When you start a new kernel, only a core set of Python resources is initially available. You'll need to import additional packages for most data science tasks, as these core resources are intentionally kept minimal. These extra resources come in **packages**, which themselves are split into different **modules**. Python can be extended by more than 200,000 packages. Some large packages, like scikit-learn, are collections of modules called **subpackages**.\n",
    "\n",
    "For example, if you need to calculate the square root of 2, you would import the `math` package, which includes various mathematical functions. Once imported, all its functions become available. The notation `math.sqrt` indicates that `sqrt` is a function from the `math` package."
   ]
  },
  {
   "cell_type": "code",
   "execution_count": 6,
   "id": "195f7452-9fff-43b2-b0a5-01a1ae939b6a",
   "metadata": {},
   "outputs": [
    {
     "data": {
      "text/plain": [
       "1.4142135623730951"
      ]
     },
     "execution_count": 6,
     "metadata": {},
     "output_type": "execute_result"
    }
   ],
   "source": [
    "import math\n",
    "math.sqrt(2)"
   ]
  },
  {
   "attachments": {},
   "cell_type": "markdown",
   "id": "8efda88a-d410-4df1-8641-503377f2b1fe",
   "metadata": {},
   "source": [
    "Alternatively, you can import only the functions that you plan to use:\n"
   ]
  },
  {
   "cell_type": "code",
   "execution_count": 7,
   "id": "92240151-634e-49c0-93eb-de0373ccb65b",
   "metadata": {},
   "outputs": [
    {
     "data": {
      "text/plain": [
       "1.4142135623730951"
      ]
     },
     "execution_count": 7,
     "metadata": {},
     "output_type": "execute_result"
    }
   ],
   "source": [
    "from math import sqrt\n",
    "sqrt(2)"
   ]
  },
  {
   "attachments": {},
   "cell_type": "markdown",
   "id": "41876f96-739f-4c67-8b11-3448ac33d4fb",
   "metadata": {},
   "source": [
    "The following example generates a random number according to a normal distribution by calling a function in the `random` package of `numpy` module."
   ]
  },
  {
   "cell_type": "code",
   "execution_count": 8,
   "id": "915a1784-9444-48e0-832b-f487b166220d",
   "metadata": {},
   "outputs": [
    {
     "data": {
      "text/plain": [
       "-1.0764016072133342"
      ]
     },
     "execution_count": 8,
     "metadata": {},
     "output_type": "execute_result"
    }
   ],
   "source": [
    "import numpy.random as rnd\n",
    "rnd.randn()"
   ]
  },
  {
   "attachments": {},
   "cell_type": "markdown",
   "id": "c79fc2d4-a976-433c-9871-141c42d0238e",
   "metadata": {},
   "source": [
    "### Installing packages\n",
    "\n",
    "Packages must be installed on your computer before they can be imported, and these imports only last for the current kernel session. The `math` package, being part of the **Python Standard Library**, is always available by default.\n",
    "\n",
    "If you use the Anaconda distribution, most packages used in this course are already available and can be directly imported. If it is not the case, you have to **install** the package (only once). If you need additional packages, you have two installation options:\n",
    "\n",
    "* **pip**: The basic Python package installer (`pypi.org/project/pip`), though it may encounter version conflicts between related packages\n",
    "* **conda**: The recommended installer for Anaconda users, as it better manages package dependencies and version conflicts\n",
    "\n",
    "Both `pip` and `conda` can be run directly from Jupyter notebooks, which we'll explore later as the need comes up.\n",
    "\n",
    "This course approaches Python from a data science perspective, we therefore focus on its four core packages:\n",
    "\n",
    "* **NumPy** (1995): Provides support for large vectors and matrices (called **arrays**) - the foundation for scientific computing in Python\n",
    "\n",
    "* **Matplotlib**: Built on NumPy, this is Python's primary visualization library\n",
    "\n",
    "* **Pandas**: A powerful data management library inspired by R, built on top of NumPy and Matplotlib. Its introduction has significantly increased Python's popularity in data science, making Python/Pandas a common alternative to R\n",
    "\n",
    "* **scikit-learn** (2008): A comprehensive machine learning library that works with both NumPy arrays and Pandas objects (though it always returns NumPy arrays)"
   ]
  },
  {
   "attachments": {},
   "cell_type": "markdown",
   "id": "488e1695-816e-4cd8-bf54-239d3c956e3f",
   "metadata": {},
   "source": [
    "## Data Types\n",
    "\n",
    "The **data types** in Python are similar to those of other languages. The type can be learned with the function `type`. The main data types are:\n",
    "\n",
    "* First, we have **integer numbers** (type `int`). There are subdivisions of this basic type, such as `int64`, but you don't need to know about that to start your Python trip.\n",
    "\n",
    "* We can also have **floating-point** numbers (type `float`), that is, numbers with decimals. We also have subdivisions here, such as `float64`.\n",
    "\n",
    "* Under type `bool`, Python admits **Boolean** values, which are either `True` or `False`. In Python, Boolean variables are converted to type `int` or `float` by applying a mathematical operator.\n",
    "\n",
    "* Besides numbers, we can also manage **strings**, with type `str`. Strings come in Python with many methods attached. They will be discussed, in the Pandas context, in a specific chapter.\n",
    "\n",
    "* Python also has type `datetime` for dealing with **dates and times**. This will also be discussed later in a specific chapter."
   ]
  },
  {
   "attachments": {},
   "cell_type": "markdown",
   "id": "bd91fb06-f66c-4269-9429-7b0e85d5c95a",
   "metadata": {},
   "source": [
    "### Numeric types\n",
    "\n",
    "As in other languages, data can have different **data types** in Python. The data type can be learned with the function `type`. Let me start with the numeric types. For the variable a defined above:"
   ]
  },
  {
   "cell_type": "code",
   "execution_count": 9,
   "id": "6b9101aa-2621-46e1-9eab-7e9996a078de",
   "metadata": {},
   "outputs": [
    {
     "data": {
      "text/plain": [
       "int"
      ]
     },
     "execution_count": 9,
     "metadata": {},
     "output_type": "execute_result"
    }
   ],
   "source": [
    "type(a)"
   ]
  },
  {
   "attachments": {},
   "cell_type": "markdown",
   "id": "2c809115-81c6-42b9-bc17-2dd1ff2e6f85",
   "metadata": {},
   "source": [
    "So, a has type int (meaning integer). Another numeric type is that of **floating-point** numbers (`float`), which have decimals:"
   ]
  },
  {
   "cell_type": "code",
   "execution_count": 10,
   "id": "a7726ae9-b7e1-4a7d-ae39-ee975da82766",
   "metadata": {},
   "outputs": [
    {
     "data": {
      "text/plain": [
       "float"
      ]
     },
     "execution_count": 10,
     "metadata": {},
     "output_type": "execute_result"
    }
   ],
   "source": [
    "b = math.sqrt(2)\n",
    "type(b)"
   ]
  },
  {
   "attachments": {},
   "cell_type": "markdown",
   "id": "ad594fa6-8626-4743-91a1-32901b95f799",
   "metadata": {},
   "source": [
    "There are subdivisions of these two basic types (such as `int64`), but I skip them in this brief tutorial. Note\n",
    "that, in Python, integers are not, as in the mathematics textbook, a subset of the real numbers, but a different\n",
    "type:"
   ]
  },
  {
   "cell_type": "code",
   "execution_count": 11,
   "id": "3f77db93-b57d-4a15-af3a-88b6884d2588",
   "metadata": {},
   "outputs": [
    {
     "data": {
      "text/plain": [
       "int"
      ]
     },
     "execution_count": 11,
     "metadata": {},
     "output_type": "execute_result"
    }
   ],
   "source": [
    "type(2)"
   ]
  },
  {
   "cell_type": "code",
   "execution_count": 12,
   "id": "fa20848c-d3d8-49db-8a30-b386dd2e964f",
   "metadata": {},
   "outputs": [
    {
     "data": {
      "text/plain": [
       "float"
      ]
     },
     "execution_count": 12,
     "metadata": {},
     "output_type": "execute_result"
    }
   ],
   "source": [
    "type(2.0)"
   ]
  },
  {
   "attachments": {},
   "cell_type": "markdown",
   "id": "43414652-20da-41e6-aba4-a7a97e4f0b0d",
   "metadata": {},
   "source": [
    "In the above square root calculation, `b` got type `float` because this is what the `math` function `sqrt` returns.\n",
    "The functions `int` and `float` can be used to convert numbers from one type to another type (sometimes at a\n",
    "loss):"
   ]
  },
  {
   "cell_type": "code",
   "execution_count": 13,
   "id": "ad7aa5c5-b40f-463f-843f-c4bdc415de2b",
   "metadata": {},
   "outputs": [
    {
     "data": {
      "text/plain": [
       "2.0"
      ]
     },
     "execution_count": 13,
     "metadata": {},
     "output_type": "execute_result"
    }
   ],
   "source": [
    "float(2)"
   ]
  },
  {
   "cell_type": "code",
   "execution_count": 14,
   "id": "2f0718c3-bccd-4581-9108-ca960118337d",
   "metadata": {},
   "outputs": [
    {
     "data": {
      "text/plain": [
       "2"
      ]
     },
     "execution_count": 14,
     "metadata": {},
     "output_type": "execute_result"
    }
   ],
   "source": [
    "int(2.3)"
   ]
  },
  {
   "attachments": {},
   "cell_type": "markdown",
   "id": "d3ec15b9-3b0a-462e-bef1-ef3aeca51a9e",
   "metadata": {},
   "source": [
    "### Boolean Data"
   ]
  },
  {
   "attachments": {},
   "cell_type": "markdown",
   "id": "75933b3d-fce3-4a8e-8e03-0e387aeafb02",
   "metadata": {},
   "source": [
    "We also have **Boolean** (`bool`) variables, whose value is either `True` or `False`:"
   ]
  },
  {
   "cell_type": "code",
   "execution_count": 15,
   "id": "4c89809e-8f6d-4a61-9375-133113fb6a50",
   "metadata": {},
   "outputs": [
    {
     "data": {
      "text/plain": [
       "False"
      ]
     },
     "execution_count": 15,
     "metadata": {},
     "output_type": "execute_result"
    }
   ],
   "source": [
    "d = 5 < a\n",
    "d"
   ]
  },
  {
   "cell_type": "code",
   "execution_count": 16,
   "id": "8d91cb56-d1ef-490d-85b7-428a15e901eb",
   "metadata": {},
   "outputs": [
    {
     "data": {
      "text/plain": [
       "bool"
      ]
     },
     "execution_count": 16,
     "metadata": {},
     "output_type": "execute_result"
    }
   ],
   "source": [
    "type(d)"
   ]
  },
  {
   "attachments": {},
   "cell_type": "markdown",
   "id": "3cb07547-f8a1-43b7-a626-20658262c90f",
   "metadata": {},
   "source": [
    "Even if they don’t appear explicitly, Booleans are always under the hood. When you enter an expression\n",
    "involving a comparison such as `5 &lt; a`, the Python interpreter evaluates it, returning either `True` or `False`.\n",
    "\n",
    "Here, I have defined a variable by means of such an expression, so I got a Boolean variable. Warning: as a\n",
    "comparison operator, equality is denoted by two equal signs. This may surprise you."
   ]
  },
  {
   "cell_type": "code",
   "execution_count": 17,
   "id": "e225c670-f60a-4d99-9a3c-ae34beee160d",
   "metadata": {},
   "outputs": [
    {
     "data": {
      "text/plain": [
       "False"
      ]
     },
     "execution_count": 17,
     "metadata": {},
     "output_type": "execute_result"
    }
   ],
   "source": [
    "a == 4"
   ]
  },
  {
   "attachments": {},
   "cell_type": "markdown",
   "id": "2a04f8e3-ecfc-4405-81d0-fc49a9e47b45",
   "metadata": {},
   "source": [
    "Boolean variables can be converted to `int` and `float` type with the functions mentioned above, but also by\n",
    "applying a mathematical operator:"
   ]
  },
  {
   "cell_type": "code",
   "execution_count": 18,
   "id": "b45c4222-25b9-44fe-9123-1c4267b027ad",
   "metadata": {},
   "outputs": [
    {
     "data": {
      "text/plain": [
       "0.0"
      ]
     },
     "execution_count": 18,
     "metadata": {},
     "output_type": "execute_result"
    }
   ],
   "source": [
    "math.sqrt(d)"
   ]
  },
  {
   "cell_type": "code",
   "execution_count": 19,
   "id": "717a2caa-4517-4a60-b5b2-ff3058a87e3b",
   "metadata": {},
   "outputs": [
    {
     "data": {
      "text/plain": [
       "1"
      ]
     },
     "execution_count": 19,
     "metadata": {},
     "output_type": "execute_result"
    }
   ],
   "source": [
    "1 - d"
   ]
  },
  {
   "attachments": {},
   "cell_type": "markdown",
   "id": "4355b516-9ad8-4f9f-b760-248932b462ff",
   "metadata": {},
   "source": [
    "### Strings"
   ]
  },
  {
   "attachments": {},
   "cell_type": "markdown",
   "id": "1133451e-d416-4fb4-b603-9407a71d0824",
   "metadata": {},
   "source": [
    "Besides numbers, we can also manage **strings** with type `str`:"
   ]
  },
  {
   "cell_type": "code",
   "execution_count": 20,
   "id": "1f0e20be-9e27-44a6-bbdc-ce14aed6e873",
   "metadata": {},
   "outputs": [
    {
     "data": {
      "text/plain": [
       "str"
      ]
     },
     "execution_count": 20,
     "metadata": {},
     "output_type": "execute_result"
    }
   ],
   "source": [
    "c = 'Lovelace'\n",
    "type(c)"
   ]
  },
  {
   "attachments": {},
   "cell_type": "markdown",
   "id": "6b05a963-d145-452d-a1ff-8876608f1830",
   "metadata": {},
   "source": [
    "The quote marks indicate type `str`. You can use single or double quotes, but take care of using the same\n",
    "on both sides of the string. Strings come in Python with many methods attached. These methods will be\n",
    "discussed later in this course"
   ]
  },
  {
   "attachments": {},
   "cell_type": "markdown",
   "id": "9c1230ee-772b-49f7-a6df-aca43e660a09",
   "metadata": {},
   "source": [
    "## Data Containers"
   ]
  },
  {
   "attachments": {},
   "cell_type": "markdown",
   "id": "1a29d9c1-c5da-4414-8f63-b1a0af0e1e4b",
   "metadata": {},
   "source": [
    "### Lists"
   ]
  },
  {
   "attachments": {},
   "cell_type": "markdown",
   "id": "b2c745bc-0af8-410f-bfca-c9cc8c7ad4cb",
   "metadata": {},
   "source": [
    "Python has several types for objects that work as **data containers**. The most versatile is the **list**, which\n",
    "is represented as a sequence of comma-separated values inside square brackets. \n",
    "\n",
    "Lists can contain items of different type. A simple example of a list, of length 4, follows."
   ]
  },
  {
   "cell_type": "code",
   "execution_count": 21,
   "id": "faf9df90-64f3-42e0-818e-4104ee6e8ff8",
   "metadata": {},
   "outputs": [],
   "source": [
    "mylist = ['Lovelace', 'Babbage', 'Shannon', 'Turing']"
   ]
  },
  {
   "cell_type": "code",
   "execution_count": 22,
   "id": "e6259dd2-9a63-4be4-ad1a-8b9222bac873",
   "metadata": {},
   "outputs": [
    {
     "data": {
      "text/plain": [
       "4"
      ]
     },
     "execution_count": 22,
     "metadata": {},
     "output_type": "execute_result"
    }
   ],
   "source": [
    "len(mylist)"
   ]
  },
  {
   "attachments": {},
   "cell_type": "markdown",
   "id": "6c6339d3-8473-49b1-8fa3-00d0456d17b7",
   "metadata": {},
   "source": [
    "Lists can be concatenated in a very simple way in Python:"
   ]
  },
  {
   "cell_type": "code",
   "execution_count": 23,
   "id": "f6e14efb-d46e-45b6-b99d-81d3fc99e37a",
   "metadata": {},
   "outputs": [
    {
     "data": {
      "text/plain": [
       "['Lovelace', 'Babbage', 'Shannon', 'Turing', 2, 3]"
      ]
     },
     "execution_count": 23,
     "metadata": {},
     "output_type": "execute_result"
    }
   ],
   "source": [
    "newlist = mylist + [2, 3]\n",
    "newlist"
   ]
  },
  {
   "attachments": {},
   "cell_type": "markdown",
   "id": "d0047a8b-5e5f-49d4-92a7-1a9177a7346a",
   "metadata": {},
   "source": [
    "Now, the length of `newlist` is 6:"
   ]
  },
  {
   "cell_type": "code",
   "execution_count": 24,
   "id": "fc4a865a-13f8-4875-b9cd-a88d0e36c07e",
   "metadata": {},
   "outputs": [
    {
     "data": {
      "text/plain": [
       "6"
      ]
     },
     "execution_count": 24,
     "metadata": {},
     "output_type": "execute_result"
    }
   ],
   "source": [
    "len(newlist)"
   ]
  },
  {
   "attachments": {},
   "cell_type": "markdown",
   "id": "82f1e87c-043f-4853-9101-f11aabbcb8b1",
   "metadata": {},
   "source": [
    "The first item of mylist can be extracted as `mylist[0]`, the second item as `mylist[1]`, etc. The last item\n",
    "can be extracted either as `mylist[3]` or as `mylist[-1]`. Sublists can be extracted by using a colon inside\n",
    "the brackets, as in:"
   ]
  },
  {
   "cell_type": "code",
   "execution_count": 25,
   "id": "2ad39848-a1f3-4878-a68b-93c93fbd21d2",
   "metadata": {},
   "outputs": [
    {
     "data": {
      "text/plain": [
       "['Lovelace', 'Babbage']"
      ]
     },
     "execution_count": 25,
     "metadata": {},
     "output_type": "execute_result"
    }
   ],
   "source": [
    "mylist[0:2]"
   ]
  },
  {
   "attachments": {},
   "cell_type": "markdown",
   "id": "5f9d2855-28b5-4c54-8473-48d6310a4d33",
   "metadata": {},
   "source": [
    "Note that `0:2` includes `0` but not `2`. This is a general rule for indexing in Python. Other examples:"
   ]
  },
  {
   "cell_type": "code",
   "execution_count": 26,
   "id": "26bc65c8-3379-426c-a4f0-b5e819f29974",
   "metadata": {},
   "outputs": [
    {
     "data": {
      "text/plain": [
       "['Shannon', 'Turing']"
      ]
     },
     "execution_count": 26,
     "metadata": {},
     "output_type": "execute_result"
    }
   ],
   "source": [
    "mylist[2:]"
   ]
  },
  {
   "cell_type": "code",
   "execution_count": 27,
   "id": "ed665ef5-3b07-418e-a472-f9c6b238a744",
   "metadata": {},
   "outputs": [
    {
     "data": {
      "text/plain": [
       "['Lovelace', 'Babbage', 'Shannon']"
      ]
     },
     "execution_count": 27,
     "metadata": {},
     "output_type": "execute_result"
    }
   ],
   "source": [
    "mylist[:3]"
   ]
  },
  {
   "cell_type": "code",
   "execution_count": 28,
   "id": "c735966b-413d-4244-9104-e48c19ad6a29",
   "metadata": {},
   "outputs": [
    {
     "data": {
      "text/plain": [
       "['Lovelace', 'Babbage', 'Shannon']"
      ]
     },
     "execution_count": 28,
     "metadata": {},
     "output_type": "execute_result"
    }
   ],
   "source": [
    "mylist[:-1]"
   ]
  },
  {
   "attachments": {},
   "cell_type": "markdown",
   "id": "735ceeed-ec1c-493b-bbb7-4c38a385b007",
   "metadata": {},
   "source": [
    "The items of a list are ordered, and can be repeated. This is not so in other data containers."
   ]
  },
  {
   "attachments": {},
   "cell_type": "markdown",
   "id": "abdaae84-7f58-4a00-b591-970d3f093e0f",
   "metadata": {},
   "source": [
    "### Set"
   ]
  },
  {
   "attachments": {},
   "cell_type": "markdown",
   "id": "5616d84e-5b5e-4c48-9c86-d577d8fbfe51",
   "metadata": {},
   "source": [
    "A **set** is represented in the same way as a list, but with curly braces replacing the square brackets:"
   ]
  },
  {
   "cell_type": "code",
   "execution_count": 29,
   "id": "4b893372-ba61-44a8-b6a8-710c29c27c01",
   "metadata": {},
   "outputs": [],
   "source": [
    "myset = {'Messi', 'Cristiano', 'Neymar', 'Coutinho'}"
   ]
  },
  {
   "attachments": {},
   "cell_type": "markdown",
   "id": "100b338b-cbde-4195-9b9c-c4a1a04fb531",
   "metadata": {},
   "source": [
    "A difference between the list and the set is that the elements of a set are not ordered, and repetition is ignored."
   ]
  },
  {
   "attachments": {},
   "cell_type": "markdown",
   "id": "e1d770cc-413a-48a5-a74a-3cbd6b952a93",
   "metadata": {},
   "source": [
    "### Tuple"
   ]
  },
  {
   "attachments": {},
   "cell_type": "markdown",
   "id": "291b299d-2dff-4f4a-8ef6-62142541d0eb",
   "metadata": {},
   "source": [
    "A **tuple** is like a list, represented with parentheses instead of square brackets:"
   ]
  },
  {
   "cell_type": "code",
   "execution_count": 30,
   "id": "ece53c09-f16f-48c6-b2f7-219b265f10ba",
   "metadata": {},
   "outputs": [],
   "source": [
    "mytuple = ('Messi', 'Cristiano', 'Neymar', 'Coutinho')"
   ]
  },
  {
   "attachments": {},
   "cell_type": "markdown",
   "id": "e3290a9c-740a-41a6-bd9d-03f989121cb9",
   "metadata": {},
   "source": [
    "### Ranges"
   ]
  },
  {
   "attachments": {},
   "cell_type": "markdown",
   "id": "c60f1981-8541-4411-9f8a-6f3b77469b20",
   "metadata": {},
   "source": [
    "A **range** is a sequence of integers which in many aspects works as a list, but the terms of the sequence are not\n",
    "saved as in a list. Instead, only the procedure to create the sequence is saved. The syntax is `range(start,\n",
    "end, step)`. Example:"
   ]
  },
  {
   "cell_type": "code",
   "execution_count": 31,
   "id": "fdf74654-fbb9-4d5c-9ed1-013a7d10dbb8",
   "metadata": {},
   "outputs": [
    {
     "data": {
      "text/plain": [
       "[0, 2, 4, 6, 8]"
      ]
     },
     "execution_count": 31,
     "metadata": {},
     "output_type": "execute_result"
    }
   ],
   "source": [
    "myrange = range(0, 10, 2)\n",
    "list(myrange)"
   ]
  },
  {
   "attachments": {},
   "cell_type": "markdown",
   "id": "097d1601-a8c0-4e72-9db0-17deb0edf81f",
   "metadata": {},
   "source": [
    "Note that the items from a range cannot printed directly. So, I have converted the range to a list here with\n",
    "the function `list`. If the step is omitted, it is assumed to be 1:"
   ]
  },
  {
   "cell_type": "code",
   "execution_count": 32,
   "id": "10aa09ae-1dfd-48ce-a9d6-bf5892446455",
   "metadata": {},
   "outputs": [
    {
     "data": {
      "text/plain": [
       "[5, 6, 7, 8, 9, 10, 11]"
      ]
     },
     "execution_count": 32,
     "metadata": {},
     "output_type": "execute_result"
    }
   ],
   "source": [
    "list(range(5, 12))"
   ]
  },
  {
   "attachments": {},
   "cell_type": "markdown",
   "id": "a6c13e91-9a41-45b6-8491-d0f47ab2744c",
   "metadata": {},
   "source": [
    "If the start is also omitted, it is assumed to be 0:"
   ]
  },
  {
   "cell_type": "code",
   "execution_count": 33,
   "id": "b24073f7-7523-4894-8f84-3650ef8e12d9",
   "metadata": {},
   "outputs": [
    {
     "data": {
      "text/plain": [
       "[0, 1, 2, 3, 4, 5, 6, 7, 8, 9]"
      ]
     },
     "execution_count": 33,
     "metadata": {},
     "output_type": "execute_result"
    }
   ],
   "source": [
    "list(range(10))"
   ]
  },
  {
   "attachments": {},
   "cell_type": "markdown",
   "id": "d2fcfaec-b098-4cfc-9d64-d65fcf24ad84",
   "metadata": {},
   "source": [
    "### Dictionaries"
   ]
  },
  {
   "attachments": {},
   "cell_type": "markdown",
   "id": "f9aed411-13b2-40e0-b30e-556739465a49",
   "metadata": {},
   "source": [
    "A dictionary is a set of **pairs key/value**. For instance, the following dictionary contains three features of\n",
    "an individual:"
   ]
  },
  {
   "cell_type": "code",
   "execution_count": 34,
   "id": "18861525-4277-4549-af12-8a7da47ad602",
   "metadata": {},
   "outputs": [],
   "source": [
    "my_dict = {'name': 'Joan', 'gender': 'F', 'age': 32}"
   ]
  },
  {
   "attachments": {},
   "cell_type": "markdown",
   "id": "fa9476f0-8bb1-4061-a1fb-e3eca0fb25fc",
   "metadata": {},
   "source": [
    "The keys can be listed:"
   ]
  },
  {
   "cell_type": "code",
   "execution_count": 35,
   "id": "618dcf13-1abf-499c-a286-1e7dcf2750c2",
   "metadata": {},
   "outputs": [
    {
     "data": {
      "text/plain": [
       "dict_keys(['name', 'gender', 'age'])"
      ]
     },
     "execution_count": 35,
     "metadata": {},
     "output_type": "execute_result"
    }
   ],
   "source": [
    "my_dict.keys()"
   ]
  },
  {
   "attachments": {},
   "cell_type": "markdown",
   "id": "86223974-cba9-4ca0-a359-6fc264e9a9c4",
   "metadata": {},
   "source": [
    "In the dictionary, a value is not extracted using an index which indicates its order in a sequence, as in the\n",
    "list, but using the corresponding key:"
   ]
  },
  {
   "cell_type": "code",
   "execution_count": 36,
   "id": "5fad974c-ce00-4a80-967a-1d15c2eb3f78",
   "metadata": {},
   "outputs": [
    {
     "data": {
      "text/plain": [
       "'Joan'"
      ]
     },
     "execution_count": 36,
     "metadata": {},
     "output_type": "execute_result"
    }
   ],
   "source": [
    "my_dict['name']"
   ]
  },
  {
   "attachments": {},
   "cell_type": "markdown",
   "id": "77bacf6f-4b09-4e01-826e-4cf998e01463",
   "metadata": {},
   "source": [
    "**Example**\n",
    "\n",
    "Note: if you want to run this example you will need to install the `dload` library.\n",
    "\n",
    "Dictionaries are important because a lot of real life data comes in the form of dictionaries. Let's say you want to get the latests information on bitcoin. You may want to call the [CoinGecko](http://coingecko.com) API (Application Programming Interface) to obtain that data.\n",
    "\n",
    "Typically, these API's are essentially just websites that you visit. In this case:\n",
    "\n",
    "https://api.coingecko.com/api/v3/coins/markets?vs_currency=usd&ids=bitcoin&order=market_cap_desc&per_page=100&page=1&sparkline=false&locale=en"
   ]
  },
  {
   "cell_type": "code",
   "execution_count": 46,
   "id": "3447eae5-6beb-4d16-8133-8cb9028ab8ab",
   "metadata": {},
   "outputs": [
    {
     "data": {
      "text/plain": [
       "{'id': 'bitcoin',\n",
       " 'symbol': 'btc',\n",
       " 'name': 'Bitcoin',\n",
       " 'image': 'https://assets.coingecko.com/coins/images/1/large/bitcoin.png?1547033579',\n",
       " 'current_price': 29016,\n",
       " 'market_cap': 563323025278,\n",
       " 'market_cap_rank': 1,\n",
       " 'fully_diluted_valuation': 610914958763,\n",
       " 'total_volume': 21563774846,\n",
       " 'high_24h': 29434,\n",
       " 'low_24h': 28191,\n",
       " 'price_change_24h': 766.32,\n",
       " 'price_change_percentage_24h': 2.71267,\n",
       " 'market_cap_change_24h': 16194739000,\n",
       " 'market_cap_change_percentage_24h': 2.95995,\n",
       " 'circulating_supply': 19364043.0,\n",
       " 'total_supply': 21000000.0,\n",
       " 'max_supply': 21000000.0,\n",
       " 'ath': 69045,\n",
       " 'ath_change_percentage': -57.8662,\n",
       " 'ath_date': '2021-11-10T14:24:11.849Z',\n",
       " 'atl': 67.81,\n",
       " 'atl_change_percentage': 42801.66278,\n",
       " 'atl_date': '2013-07-06T00:00:00.000Z',\n",
       " 'roi': None,\n",
       " 'last_updated': '2023-05-04T13:29:17.410Z'}"
      ]
     },
     "execution_count": 46,
     "metadata": {},
     "output_type": "execute_result"
    }
   ],
   "source": [
    "import dload\n",
    "\n",
    "api_url = 'https://api.coingecko.com/api/v3/coins/markets?vs_currency=usd&ids=bitcoin&order=market_cap_desc&per_page=100&page=1&sparkline=false&locale=en'\n",
    "data = dload.json(api_url)[0]\n",
    "\n",
    "data"
   ]
  },
  {
   "attachments": {},
   "cell_type": "markdown",
   "id": "6bbf7686-f48d-4070-9fb7-f639d8ad2bd6",
   "metadata": {},
   "source": [
    "## Functions"
   ]
  },
  {
   "attachments": {},
   "cell_type": "markdown",
   "id": "72febfc5-c11b-412d-951d-8e7034bed00f",
   "metadata": {},
   "source": [
    "A **function** takes a collection of **arguments** and performs an action. Let me present a couple of examples of\n",
    "value-returning functions. They are easily distinguished from other functions, because the definition’s last\n",
    "line is a `return` clause.\n",
    "\n",
    "A first example follows. Note the **indentation** after the colon."
   ]
  },
  {
   "cell_type": "code",
   "execution_count": 48,
   "id": "e14eb248-93bf-46a0-9778-abeef94c9fe2",
   "metadata": {},
   "outputs": [],
   "source": [
    "def f(x):\n",
    "    y = 1/(1 - x**2)\n",
    "    return y"
   ]
  },
  {
   "attachments": {},
   "cell_type": "markdown",
   "id": "cb251b35-7b70-41c4-95cf-b1667cfd02e7",
   "metadata": {},
   "source": [
    "When we define a function, Python just takes note of the definition, accepting it when it is syntactically\n",
    "correct (parentheses, commas, etc). The function can be applied later to different arguments."
   ]
  },
  {
   "cell_type": "code",
   "execution_count": 49,
   "id": "8320692d-6f64-4b51-81fa-172d5ebf1053",
   "metadata": {},
   "outputs": [
    {
     "data": {
      "text/plain": [
       "-0.3333333333333333"
      ]
     },
     "execution_count": 49,
     "metadata": {},
     "output_type": "execute_result"
    }
   ],
   "source": [
    "f(2)"
   ]
  },
  {
   "attachments": {},
   "cell_type": "markdown",
   "id": "e9de45d1-849d-40b1-821b-b8590d7f8595",
   "metadata": {},
   "source": [
    "If we apply the function to an argument for which it does not make sense, Python will return an error message\n",
    "which depends on the values supplied for the argument."
   ]
  },
  {
   "cell_type": "code",
   "execution_count": 50,
   "id": "2055fc0a-13d8-4d58-a1fc-4240fbb43735",
   "metadata": {},
   "outputs": [
    {
     "ename": "ZeroDivisionError",
     "evalue": "division by zero",
     "output_type": "error",
     "traceback": [
      "\u001b[1;31m---------------------------------------------------------------------------\u001b[0m",
      "\u001b[1;31mZeroDivisionError\u001b[0m                         Traceback (most recent call last)",
      "Cell \u001b[1;32mIn[50], line 1\u001b[0m\n\u001b[1;32m----> 1\u001b[0m f(\u001b[39m1\u001b[39;49m)\n",
      "Cell \u001b[1;32mIn[48], line 2\u001b[0m, in \u001b[0;36mf\u001b[1;34m(x)\u001b[0m\n\u001b[0;32m      1\u001b[0m \u001b[39mdef\u001b[39;00m \u001b[39mf\u001b[39m(x):\n\u001b[1;32m----> 2\u001b[0m     y \u001b[39m=\u001b[39m \u001b[39m1\u001b[39;49m\u001b[39m/\u001b[39;49m(\u001b[39m1\u001b[39;49m \u001b[39m-\u001b[39;49m x\u001b[39m*\u001b[39;49m\u001b[39m*\u001b[39;49m\u001b[39m2\u001b[39;49m)\n\u001b[0;32m      3\u001b[0m     \u001b[39mreturn\u001b[39;00m y\n",
      "\u001b[1;31mZeroDivisionError\u001b[0m: division by zero"
     ]
    }
   ],
   "source": [
    "f(1)"
   ]
  },
  {
   "cell_type": "code",
   "execution_count": 51,
   "id": "c6ba81e5-53db-4e9c-947f-b7b89e151e0e",
   "metadata": {},
   "outputs": [
    {
     "ename": "TypeError",
     "evalue": "unsupported operand type(s) for ** or pow(): 'str' and 'int'",
     "output_type": "error",
     "traceback": [
      "\u001b[1;31m---------------------------------------------------------------------------\u001b[0m",
      "\u001b[1;31mTypeError\u001b[0m                                 Traceback (most recent call last)",
      "Cell \u001b[1;32mIn[51], line 1\u001b[0m\n\u001b[1;32m----> 1\u001b[0m f(\u001b[39m'\u001b[39;49m\u001b[39mMary\u001b[39;49m\u001b[39m'\u001b[39;49m)\n",
      "Cell \u001b[1;32mIn[48], line 2\u001b[0m, in \u001b[0;36mf\u001b[1;34m(x)\u001b[0m\n\u001b[0;32m      1\u001b[0m \u001b[39mdef\u001b[39;00m \u001b[39mf\u001b[39m(x):\n\u001b[1;32m----> 2\u001b[0m     y \u001b[39m=\u001b[39m \u001b[39m1\u001b[39m\u001b[39m/\u001b[39m(\u001b[39m1\u001b[39m \u001b[39m-\u001b[39m x\u001b[39m*\u001b[39;49m\u001b[39m*\u001b[39;49m\u001b[39m2\u001b[39;49m)\n\u001b[0;32m      3\u001b[0m     \u001b[39mreturn\u001b[39;00m y\n",
      "\u001b[1;31mTypeError\u001b[0m: unsupported operand type(s) for ** or pow(): 'str' and 'int'"
     ]
    }
   ],
   "source": [
    "f('Mary')"
   ]
  },
  {
   "attachments": {},
   "cell_type": "markdown",
   "id": "f0c75b82-df43-48a0-90bc-56ac8079144f",
   "metadata": {},
   "source": [
    "Short functions can be defined on a single line:"
   ]
  },
  {
   "cell_type": "code",
   "execution_count": 52,
   "id": "c80845d6-e96b-44c8-9e90-4c1c223f4be2",
   "metadata": {},
   "outputs": [
    {
     "data": {
      "text/plain": [
       "9"
      ]
     },
     "execution_count": 52,
     "metadata": {},
     "output_type": "execute_result"
    }
   ],
   "source": [
    "def g(x): return x**2\n",
    "g(3)"
   ]
  },
  {
   "attachments": {},
   "cell_type": "markdown",
   "id": "955586b5-9b50-4646-a0dd-f13286fd1d16",
   "metadata": {},
   "source": [
    "Sometimes, you will see them written in an even shorter way called **lambda functions**:"
   ]
  },
  {
   "cell_type": "code",
   "execution_count": 53,
   "id": "f3958232-f691-4d66-8ba8-c871e738ebe1",
   "metadata": {},
   "outputs": [
    {
     "data": {
      "text/plain": [
       "9"
      ]
     },
     "execution_count": 53,
     "metadata": {},
     "output_type": "execute_result"
    }
   ],
   "source": [
    "g = lambda x : x**2\n",
    "g(3)"
   ]
  },
  {
   "attachments": {},
   "cell_type": "markdown",
   "id": "98e1d2e3-ce1e-4cc7-ad6a-87b7ed4a47af",
   "metadata": {},
   "source": [
    "Functions can have more than one argument, as in:"
   ]
  },
  {
   "cell_type": "code",
   "execution_count": 54,
   "id": "28a9dacf-9932-4890-af1e-6182eb846a09",
   "metadata": {},
   "outputs": [
    {
     "data": {
      "text/plain": [
       "0.5"
      ]
     },
     "execution_count": 54,
     "metadata": {},
     "output_type": "execute_result"
    }
   ],
   "source": [
    "def g(x, y): return x*y/(x**2 + y**2)\n",
    "g(1, 1)"
   ]
  },
  {
   "attachments": {},
   "cell_type": "markdown",
   "id": "b17f8cd2-47a2-4bf1-87ea-71d994f968f9",
   "metadata": {},
   "source": [
    "## Loops and conditional logic\n",
    "\n",
    "**Loops** are used in practically all programming languages, so, if you have seen them if you have any kind of experience in programming. In particular, `for` loops are used to avoid repetition. Suppose that you wish to extract the first letter of the names of the list `mylist`, storing them in a new list. You can use the `for` loop to iterate the extraction:"
   ]
  },
  {
   "cell_type": "code",
   "execution_count": 55,
   "id": "8f70d608-dd0d-47bd-a9aa-5ea8fada7b21",
   "metadata": {},
   "outputs": [
    {
     "data": {
      "text/plain": [
       "['L', 'B', 'S', 'T']"
      ]
     },
     "execution_count": 55,
     "metadata": {},
     "output_type": "execute_result"
    }
   ],
   "source": [
    "inilist = [name[0] for name in mylist]\n",
    "inilist"
   ]
  },
  {
   "attachments": {},
   "cell_type": "markdown",
   "id": "2d6395a6-e7fd-48dd-8692-44689bb4118f",
   "metadata": {},
   "source": [
    "Loops are much less frequent in the data science practice, because NumPy and Pandas provide **vectorized functions**, that, when applied to a data container such as a Pandas series, return a data container with same shape, whose terms are the values of the function on the corresponding terms of the original data container. Nevertheless, we may use occasionally a `for` loop in this course.  \n",
    "\n",
    "Also ubiquitous in programming is **conditional logic**, operationalized through **if-then-else** commands. You also have this in Python. For instance, if you wish to create a dummy flag for names with more than 5 letters in the list `mylist`, you can do it with:"
   ]
  },
  {
   "cell_type": "code",
   "execution_count": 56,
   "id": "878883a8-9c9f-494f-b422-f772f61bd8a0",
   "metadata": {},
   "outputs": [
    {
     "data": {
      "text/plain": [
       "[1, 1, 1, 1]"
      ]
     },
     "execution_count": 56,
     "metadata": {},
     "output_type": "execute_result"
    }
   ],
   "source": [
    "flaglist = [1 if len(name) > 5 else 0 for name in mylist]\n",
    "flaglist"
   ]
  },
  {
   "attachments": {},
   "cell_type": "markdown",
   "id": "5b690e6f-ba43-4b5f-8561-69223e3b38ab",
   "metadata": {},
   "source": [
    "It is also rare to find explicit if-the-else arguments in data science, since \"vectorial\" syntax is preferred (and typically leads to a faster execution). "
   ]
  },
  {
   "attachments": {},
   "cell_type": "markdown",
   "id": "8d9b3733-3d95-4c15-a5e0-db072d70c689",
   "metadata": {},
   "source": [
    "**You try it**\n",
    "\n",
    "a) Create a phone book using a `dict` where you have 5 names of your friends as a key and their phone number as the values.\n",
    "\n",
    "b) Then, also create a reverse mapping so that you can find out who's calling you based on the number.\n",
    "\n",
    "c) Define a function called `find_caller_id` that returns the name of the person who's calling you based on the number, use the reverse mapping."
   ]
  },
  {
   "cell_type": "code",
   "execution_count": null,
   "id": "9123c4c6-ddd9-468c-9b21-1a493e71e954",
   "metadata": {
    "tags": []
   },
   "outputs": [],
   "source": [
    "phonebook = {   \n",
    "    'John'     : '+12345',\n",
    "    'Gerald'   : '+15345',\n",
    "    'Mary'     : '+12385',\n",
    "    'Yennefer' : '+19345',\n",
    "    'Rience'   : '+12315',\n",
    "}"
   ]
  },
  {
   "cell_type": "code",
   "execution_count": 14,
   "id": "8b05d261-798d-4b67-a313-a440a159aaed",
   "metadata": {},
   "outputs": [
    {
     "data": {
      "text/plain": [
       "[('John', '+12345'),\n",
       " ('Gerald', '+15345'),\n",
       " ('Mary', '+12385'),\n",
       " ('Yennefer', '+19345'),\n",
       " ('Rience', '+12315')]"
      ]
     },
     "execution_count": 14,
     "metadata": {},
     "output_type": "execute_result"
    }
   ],
   "source": [
    "#| code-fold: true\n",
    "#| code-summary: \"Solution B\"\n",
    "\n",
    "phonebook_items = phonebook.items()\n",
    "list(phonebook_items)"
   ]
  },
  {
   "cell_type": "code",
   "execution_count": 21,
   "id": "82917e73-60e4-4df0-b3dc-1ef35d49b16e",
   "metadata": {},
   "outputs": [
    {
     "name": "stdout",
     "output_type": "stream",
     "text": [
      "('John', '+12345')\n",
      "('Gerald', '+15345')\n",
      "('Mary', '+12385')\n",
      "('Yennefer', '+19345')\n",
      "('Rience', '+12315')\n"
     ]
    },
    {
     "data": {
      "text/plain": [
       "tuple"
      ]
     },
     "execution_count": 21,
     "metadata": {},
     "output_type": "execute_result"
    }
   ],
   "source": [
    "#| code-fold: true\n",
    "#| code-summary: \"Solution C\"\n",
    "\n",
    "for item in phonebook.items():\n",
    "    print(item)\n",
    "    \n",
    "type(item)"
   ]
  },
  {
   "cell_type": "code",
   "execution_count": 20,
   "id": "74009f85-1a51-4f11-8dac-203397381bd3",
   "metadata": {},
   "outputs": [
    {
     "name": "stdout",
     "output_type": "stream",
     "text": [
      "John +12345\n",
      "Gerald +15345\n",
      "Mary +12385\n",
      "Yennefer +19345\n",
      "Rience +12315\n"
     ]
    }
   ],
   "source": [
    "for one,two in phonebook.items():\n",
    "    print(one,two)"
   ]
  },
  {
   "cell_type": "code",
   "execution_count": 2,
   "id": "1434a3ae-3fc5-4d8d-923e-39eace90a77c",
   "metadata": {},
   "outputs": [
    {
     "data": {
      "text/plain": [
       "{'+12345': 'John',\n",
       " '+15345': 'Gerald',\n",
       " '+12385': 'Mary',\n",
       " '+19345': 'Yennefer',\n",
       " '+12315': 'Rience'}"
      ]
     },
     "execution_count": 2,
     "metadata": {},
     "output_type": "execute_result"
    }
   ],
   "source": [
    "reverse_phonebook = dict([ (val,key) for key,val in phonebook.items() ])\n",
    "reverse_phonebook"
   ]
  },
  {
   "cell_type": "code",
   "execution_count": 7,
   "id": "36b77c22-d043-4c0d-9f34-03c4e64dbfbc",
   "metadata": {},
   "outputs": [
    {
     "name": "stdout",
     "output_type": "stream",
     "text": [
      "The person who called you was John\n"
     ]
    }
   ],
   "source": [
    "def find_caller_id(number):\n",
    "    return reverse_phonebook[number]\n",
    "\n",
    "print(f\"The person who called you was {find_caller_id('+12345')}\")"
   ]
  },
  {
   "attachments": {},
   "cell_type": "markdown",
   "id": "223eb7dc",
   "metadata": {},
   "source": [
    "## Asking ChatGPT for help"
   ]
  },
  {
   "attachments": {},
   "cell_type": "markdown",
   "id": "3942cd63",
   "metadata": {},
   "source": [
    "You are allowed to use ChatGPT or other LLMs in this course. However, I recommend using it as a last resort or when exploring some feature of the python language that you are not familiar with. Then, make sure to lookup the relevant libraries to verifiy that you're using them correctly. ChaptGPT 4 is substantially better than ChatGPT3.5 and has a dedicated tool to help you to write code. Even so the advice here will be general to ensure it works with every LLM."
   ]
  },
  {
   "attachments": {},
   "cell_type": "markdown",
   "id": "6d9e94b9",
   "metadata": {},
   "source": [
    "### Prompt Suggestions"
   ]
  },
  {
   "attachments": {},
   "cell_type": "markdown",
   "id": "e5535101",
   "metadata": {},
   "source": [
    "Don't ask for general prompts, instead ask specific questions and show ChatGPT some data so it knows what you're dealing with. These examples contain concepts and libraries that we didn't cover yet at this point but the general style of asking tends to work for problems encountered in this course.\n",
    "\n",
    "##### Example 1:\n",
    "\n",
    "**Prompt:**\n",
    "\n",
    "> I want you to act as a coder. Please write me a regex in Python that extracts the email from the following pandas Series: s = pd.Series('Enric <enric@iese.edu>', 'Franz <franz@iese.edu>')."
   ]
  },
  {
   "attachments": {},
   "cell_type": "markdown",
   "id": "10e89dca",
   "metadata": {},
   "source": [
    "**Response:**\n",
    "\n",
    "> Here's a Python code snippet using pandas and regular expression to extract emails:"
   ]
  },
  {
   "cell_type": "code",
   "execution_count": null,
   "id": "76171e96",
   "metadata": {},
   "outputs": [
    {
     "name": "stdout",
     "output_type": "stream",
     "text": [
      "                0\n",
      "0  enric@iese.edu\n",
      "1  franz@iese.edu\n"
     ]
    }
   ],
   "source": [
    "import pandas as pd\n",
    "import re\n",
    "\n",
    "s = pd.Series(['Enric <enric@iese.edu>', 'Franz <franz@iese.edu>'])\n",
    "email_pattern = r'<(.*?)>'\n",
    "s_extracted = s.str.extract(email_pattern)\n",
    "\n",
    "print(s_extracted)"
   ]
  },
  {
   "attachments": {},
   "cell_type": "markdown",
   "id": "eeb9eb6d",
   "metadata": {},
   "source": [
    "> This will output a new Series with just the email addresses."
   ]
  },
  {
   "attachments": {},
   "cell_type": "markdown",
   "id": "ed5e53dc",
   "metadata": {},
   "source": [
    "Note how it (a) corrected a bug in my original code, but (b) introduced a redundancy as it's importing a package (`re`) that it's not using ..."
   ]
  },
  {
   "attachments": {},
   "cell_type": "markdown",
   "id": "e07c8bdc",
   "metadata": {},
   "source": [
    "#### Example 2\n",
    "\n",
    "**Prompt:**\n",
    "\n",
    "> I have the following dataframe called df_aapl, plot the rolling average of the Open price over time using just pandas, no matplotlib or numpy. Make it look professional and add a title:\n",
    "> <pre>\n",
    "> \tOpen\tHigh\tLow\tClose\tAdj Close\tVolume\n",
    "> 2023-08-01\t196.240005\t196.729996\t195.279999\t195.610001\t195.346207\t35175100\n",
    "> 2023-08-02\t195.039993\t195.179993\t191.850006\t192.580002\t192.320297\t50389300\n",
    "> 2023-08-03\t191.570007\t192.369995\t190.690002\t191.169998\t190.912201\t61235200\n",
    "> </pre>"
   ]
  },
  {
   "attachments": {},
   "cell_type": "markdown",
   "id": "66f6d467",
   "metadata": {},
   "source": [
    "**Response:**"
   ]
  },
  {
   "attachments": {},
   "cell_type": "markdown",
   "id": "195d1bc8",
   "metadata": {},
   "source": [
    "You can plot the rolling average of the \"Open\" price using Pandas directly like this:"
   ]
  },
  {
   "cell_type": "code",
   "execution_count": 3,
   "id": "9aaf6ec3",
   "metadata": {},
   "outputs": [
    {
     "data": {
      "image/png": "[encoded data removed]",
      "text/plain": [
       "<Figure size 640x480 with 1 Axes>"
      ]
     },
     "metadata": {},
     "output_type": "display_data"
    }
   ],
   "source": [
    "import pandas as pd\n",
    "\n",
    "data = {\n",
    "    'Open': [196.24, 195.039993, 191.570007],\n",
    "    'High': [196.729996, 195.179993, 192.369995],\n",
    "    'Low': [195.279999, 191.850006, 190.690002],\n",
    "    'Close': [195.610001, 192.580002, 191.169998],\n",
    "    'Adj Close': [195.346207, 192.320297, 190.912201],\n",
    "    'Volume': [35175100, 50389300, 61235200]\n",
    "}\n",
    "index = pd.to_datetime(['2023-08-01', '2023-08-02', '2023-08-03'])\n",
    "df_aapl = pd.DataFrame(data, index=index)\n",
    "\n",
    "df_aapl['Open'].rolling(window=2).mean().plot(title='Rolling Average of Open Price', grid=True);"
   ]
  },
  {
   "attachments": {},
   "cell_type": "markdown",
   "id": "ca01e661",
   "metadata": {},
   "source": [
    "The code works but as it didn't know your data it made up its own, simply replace data with your own variable name and you should be good to go."
   ]
  },
  {
   "attachments": {},
   "cell_type": "markdown",
   "id": "8e97ee6f-6ad5-4220-9458-51b7f20473d2",
   "metadata": {
    "tags": []
   },
   "source": [
    "## Additional Resources\n",
    "\n",
    "There are many books for learning about Python, but some of them would not be appropriate for learning how to work with data in Python. It can even happen that you do not find anything about data in many of them. Mind that Python has so many applications that the intersection of the know-how of all Python users is relatively narrow. For an introduction to Python as a programming language, in a computer science context, I would recommend Zelle (2010). For the self-learning data scientist, McKinney (2017) and VanderPlas (2017) are both worth their price. \n",
    "\n",
    "There is also plenty of learning materials in Internet, including MOOC's. For instance, **Coursera** has a pack of courses on Python (see `coursera.org/courses?query=python`). But, probably, the most attractive marketplace for data science courses is **DataCamp**. They offer, under subscription or academic license, an impressive collection of courses, most of them focused on either R or Python. In addition to follow DataCamp courses, you can also benefit from the **DataCamp Community Tutorials**, which are free and cover a wide range of topics. Finally, a good place to start is [CS dojo](https://www.youtube.com/watch?v=Z1Yd7upQsXY&list=PLBZBJbE_rGRWeh5mIBhD-hhDwSEDxogDg&index=1).\n"
   ]
  },
  {
   "attachments": {},
   "cell_type": "markdown",
   "id": "17ee75c2",
   "metadata": {},
   "source": [
    "### References\n",
    "\n",
    "Adapted from: Miguel Ángel Canela"
   ]
  }
 ],
 "metadata": {
  "kernelspec": {
   "display_name": "dsfb",
   "language": "python",
   "name": "python3"
  },
  "language_info": {
   "codemirror_mode": {
    "name": "ipython",
    "version": 3
   },
   "file_extension": ".py",
   "mimetype": "text/x-python",
   "name": "python",
   "nbconvert_exporter": "python",
   "pygments_lexer": "ipython3",
   "version": "3.11.9"
  },
  "widgets": {
   "application/vnd.jupyter.widget-state+json": {
    "state": {},
    "version_major": 2,
    "version_minor": 0
   }
  }
 },
 "nbformat": 4,
 "nbformat_minor": 5
}
