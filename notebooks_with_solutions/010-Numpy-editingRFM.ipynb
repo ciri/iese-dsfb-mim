{
 "cells": [
  {
   "attachments": {},
   "cell_type": "markdown",
   "id": "3aeec9d0-f0fb-448b-8bb8-68e2e4e3813b",
   "metadata": {
    "tags": []
   },
   "source": [
    "[![Open In Colab](https://colab.research.google.com/assets/colab-badge.svg)](https://colab.research.google.com/github/ciri/iese-dsfb/blob/main/notebooks/010-Numpy.ipynb)\n",
    "\n",
    "# NumPy: Numerical Python\n",
    "\n",
    "## Why learn Numpy?\n",
    "\n",
    "In today's data-driven world, everything can be quantified and represented as numbers—from user behavior on websites to patterns in medical data. Understanding these numerical representations is essential for machine learning, data analysis, and scientific computing. NumPy serves as the foundational package for numerical operations in Python, making it easier for you to delve into these domains.\n",
    "\n",
    "\n",
    "## Numpy Arrays\n",
    "\n",
    "This tutorial introduces you to NumPy's data containers, offering a quick look at how to manage data sets in Python. In the realm of mathematics, **vectors** and **matrices** are fundamental units represented as sequences and grids of numbers, respectively. They are integral to linear algebra, a crucial area in computational tasks underlying modern Machine Learning and Artificial Intelligence. In NumPy, these structures are simplified as one-dimensional (1D) and two-dimensional (2D) arrays, and the library even supports higher-dimensional arrays with ease.\n",
    "\n",
    "To get started, import NumPy like this:"
   ]
  },
  {
   "cell_type": "code",
   "execution_count": 21,
   "id": "1d8b585a-d65f-47cc-8a00-dc15dcb902c3",
   "metadata": {},
   "outputs": [],
   "source": [
    "import numpy as np"
   ]
  },
  {
   "attachments": {},
   "cell_type": "markdown",
   "id": "c3889f47-6041-4f3e-ac99-e1dfaf975e92",
   "metadata": {},
   "source": [
    "A 1D arrays can be created from a list with the NumPy function array. If the items of the list have different\n",
    "type, they are converted to a common type when creating the array. A simple example follows."
   ]
  },
  {
   "cell_type": "code",
   "execution_count": 22,
   "id": "3b4cb4d4-ed03-4995-a934-8e1f3edf1cba",
   "metadata": {},
   "outputs": [
    {
     "data": {
      "text/plain": [
       "[2, 7, 14, 5, 9]"
      ]
     },
     "execution_count": 22,
     "metadata": {},
     "output_type": "execute_result"
    }
   ],
   "source": [
    "mylist = [2, 7, 14, 5, 9]\n",
    "mylist"
   ]
  },
  {
   "cell_type": "code",
   "execution_count": 23,
   "id": "cfe4e0e8-ea21-4ec3-a4e8-61aff3f3f932",
   "metadata": {},
   "outputs": [
    {
     "data": {
      "text/plain": [
       "list"
      ]
     },
     "execution_count": 23,
     "metadata": {},
     "output_type": "execute_result"
    }
   ],
   "source": [
    "type(mylist)"
   ]
  },
  {
   "cell_type": "code",
   "execution_count": 24,
   "id": "a6abd65d",
   "metadata": {},
   "outputs": [
    {
     "data": {
      "text/plain": [
       "array([1, 2, 3, 4])"
      ]
     },
     "execution_count": 24,
     "metadata": {},
     "output_type": "execute_result"
    }
   ],
   "source": [
    "arr1 = np.array([1,2,3,4])\n",
    "arr1"
   ]
  },
  {
   "cell_type": "markdown",
   "id": "33aeeaf8",
   "metadata": {},
   "source": [
    "This looks the same, but it's a very different beast! The constraint that everything has the same type is a useful one as it allows us to operate on the array more naturally. Try these for comparison:"
   ]
  },
  {
   "cell_type": "code",
   "execution_count": 25,
   "id": "64766914",
   "metadata": {
    "tags": [
     "remove_output"
    ]
   },
   "outputs": [
    {
     "data": {
      "text/plain": [
       "[2, 7, 14, 5, 9, 2, 7, 14, 5, 9]"
      ]
     },
     "execution_count": 25,
     "metadata": {},
     "output_type": "execute_result"
    }
   ],
   "source": [
    "arr1 + 1\n",
    "mylist + [1]\n",
    "arr1 * 2\n",
    "mylist * 2"
   ]
  },
  {
   "cell_type": "markdown",
   "id": "89b62e0e",
   "metadata": {},
   "source": [
    "In case of mixed types (never do this!) you will get unexpected results:"
   ]
  },
  {
   "cell_type": "code",
   "execution_count": 26,
   "id": "a2f23282",
   "metadata": {},
   "outputs": [
    {
     "data": {
      "text/plain": [
       "array(['1', 'a', '3', '4'], dtype='<U21')"
      ]
     },
     "execution_count": 26,
     "metadata": {},
     "output_type": "execute_result"
    }
   ],
   "source": [
    "arr1 = np.array([1,'a',3,4])\n",
    "arr1"
   ]
  },
  {
   "attachments": {},
   "cell_type": "markdown",
   "id": "49112a43",
   "metadata": {},
   "source": [
    "There are two types involves with arrays. The type of the array is `array`, its elements also have a type which can be checked using `myarray.dtype`:"
   ]
  },
  {
   "cell_type": "code",
   "execution_count": 27,
   "id": "c3156e84",
   "metadata": {},
   "outputs": [
    {
     "data": {
      "text/plain": [
       "numpy.ndarray"
      ]
     },
     "execution_count": 27,
     "metadata": {},
     "output_type": "execute_result"
    }
   ],
   "source": [
    "type(arr1)"
   ]
  },
  {
   "cell_type": "code",
   "execution_count": 28,
   "id": "ae38d2c6",
   "metadata": {},
   "outputs": [
    {
     "data": {
      "text/plain": [
       "dtype('<U21')"
      ]
     },
     "execution_count": 28,
     "metadata": {},
     "output_type": "execute_result"
    }
   ],
   "source": [
    "arr1.dtype"
   ]
  },
  {
   "attachments": {},
   "cell_type": "markdown",
   "id": "0b5689b1-f638-4c22-a201-a049a21dfa16",
   "metadata": {},
   "source": [
    "A 2D array can be directly created from a list of lists of equal length. The terms are entered row-by-row:"
   ]
  },
  {
   "cell_type": "code",
   "execution_count": 29,
   "id": "851ee2b6-cc43-436f-a63a-65f199c5fe0d",
   "metadata": {},
   "outputs": [
    {
     "data": {
      "text/plain": [
       "[[0, 7, 2, 3], [3, 9, -5, 1]]"
      ]
     },
     "execution_count": 29,
     "metadata": {},
     "output_type": "execute_result"
    }
   ],
   "source": [
    "my_list_of_lists = [\n",
    "    [0, 7, 2, 3], \n",
    "    [3, 9, -5, 1]\n",
    "]\n",
    "my_list_of_lists"
   ]
  },
  {
   "cell_type": "code",
   "execution_count": 30,
   "id": "656088c0-ff92-4987-aa21-61377e10e28b",
   "metadata": {},
   "outputs": [
    {
     "data": {
      "text/plain": [
       "array([[ 0,  7,  2,  3],\n",
       "       [ 3,  9, -5,  1]])"
      ]
     },
     "execution_count": 30,
     "metadata": {},
     "output_type": "execute_result"
    }
   ],
   "source": [
    "arr2 = np.array(my_list_of_lists)\n",
    "arr2"
   ]
  },
  {
   "attachments": {},
   "cell_type": "markdown",
   "id": "3586605a-6312-4e79-990e-98d70d288fc1",
   "metadata": {},
   "source": [
    "Although we visualize a vector as a column (or as a row) and a matrix as a rectangular arrangement, with rows and columns, it is not so in the computer. The 1d array is just a sequence of elements of the same type, neither horizontal nor vertical. It has one **axis**, which is the 0-axis.\n",
    "\n",
    "In a similar way, a 2d array is a sequence of 1d arrays of the same length and type. It has two axes. When we visualize it as rows and columns, `axis=0` means *across rows*, while `axis=1` means *across columns*.\n",
    "\n",
    "The number of terms stored along an axis is the **dimension** of that axis. The dimensions are collected in the attribute `shape`:"
   ]
  },
  {
   "cell_type": "code",
   "execution_count": 31,
   "id": "ea9d4648-a419-4148-87a0-7a6883b418fc",
   "metadata": {},
   "outputs": [
    {
     "data": {
      "text/plain": [
       "(4,)"
      ]
     },
     "execution_count": 31,
     "metadata": {},
     "output_type": "execute_result"
    }
   ],
   "source": [
    "arr1.shape"
   ]
  },
  {
   "cell_type": "code",
   "execution_count": 32,
   "id": "c372fec7-165b-4730-97f8-28ada8422a3b",
   "metadata": {},
   "outputs": [
    {
     "data": {
      "text/plain": [
       "(2, 4)"
      ]
     },
     "execution_count": 32,
     "metadata": {},
     "output_type": "execute_result"
    }
   ],
   "source": [
    "arr2.shape"
   ]
  },
  {
   "cell_type": "code",
   "execution_count": 33,
   "id": "37aa4e0e-6328-4d63-98c6-d76ccbe9f0ec",
   "metadata": {},
   "outputs": [
    {
     "data": {
      "text/plain": [
       "(2, 3, 4)"
      ]
     },
     "execution_count": 33,
     "metadata": {},
     "output_type": "execute_result"
    }
   ],
   "source": [
    "arr3 = np.random.randn(2,3,4)\n",
    "arr3.shape"
   ]
  },
  {
   "attachments": {},
   "cell_type": "markdown",
   "id": "061ab948-9424-40a1-930a-c19f9b5f4b29",
   "metadata": {},
   "source": [
    "This is a tuple, meaning that you can extract one of the elements, but you cannot reassign it."
   ]
  },
  {
   "cell_type": "code",
   "execution_count": 34,
   "id": "16089b33-6777-4ca0-b24d-1369964baa31",
   "metadata": {},
   "outputs": [
    {
     "name": "stdout",
     "output_type": "stream",
     "text": [
      "2\n"
     ]
    }
   ],
   "source": [
    "print(arr2.shape[0])"
   ]
  },
  {
   "cell_type": "code",
   "execution_count": 35,
   "id": "bdeb86de-dec3-4d99-a934-6cbb89463aaa",
   "metadata": {},
   "outputs": [
    {
     "ename": "TypeError",
     "evalue": "'tuple' object does not support item assignment",
     "output_type": "error",
     "traceback": [
      "\u001b[0;31m---------------------------------------------------------------------------\u001b[0m",
      "\u001b[0;31mTypeError\u001b[0m                                 Traceback (most recent call last)",
      "Cell \u001b[0;32mIn[35], line 1\u001b[0m\n\u001b[0;32m----> 1\u001b[0m arr2\u001b[38;5;241m.\u001b[39mshape[\u001b[38;5;241m0\u001b[39m] \u001b[38;5;241m=\u001b[39m \u001b[38;5;241m123\u001b[39m\n",
      "\u001b[0;31mTypeError\u001b[0m: 'tuple' object does not support item assignment"
     ]
    }
   ],
   "source": [
    "arr2.shape[0] = 123"
   ]
  },
  {
   "cell_type": "markdown",
   "id": "2211b460",
   "metadata": {},
   "source": [
    "**You try it:**\n",
    "\n",
    "1. Create a prediction function `price` that predicts the price of an appartment based on its surface:\n",
    "\n",
    "    Price = 100,000 + 50,000 x (surf in m2)\n",
    "\n",
    "2. Calculate the price of a house of 130 m2.\n",
    "3. Calculate the price over a range of surfaces 50,60,..,130"
   ]
  },
  {
   "cell_type": "code",
   "execution_count": null,
   "id": "7896edac",
   "metadata": {},
   "outputs": [],
   "source": []
  },
  {
   "cell_type": "code",
   "execution_count": null,
   "id": "f0904b97",
   "metadata": {
    "tags": [
     "remove_output"
    ]
   },
   "outputs": [
    {
     "name": "stdout",
     "output_type": "stream",
     "text": [
      "6600000\n"
     ]
    },
    {
     "data": {
      "text/plain": [
       "array([2600000, 3100000, 3600000, 4100000, 4600000, 5100000, 5600000,\n",
       "       6100000, 6600000])"
      ]
     },
     "execution_count": 37,
     "metadata": {},
     "output_type": "execute_result"
    }
   ],
   "source": [
    "#### SOLUTION\n",
    "def price(surf):\n",
    "    return 100000 + 50000 * surf\n",
    "\n",
    "\n",
    "print(price(130))\n",
    "\n",
    "surfaces = np.array([50,60,70,80,90,100,110,120,130]) # Don't use me\n",
    "surfaces = np.array(list(range(50,131,10)))   # This is better\n",
    "surfaces = np.arange(50,131,10)               # This is best\n",
    "prices   = price(surfaces)\n",
    "\n",
    "prices"
   ]
  },
  {
   "cell_type": "markdown",
   "id": "337d3493",
   "metadata": {},
   "source": [
    "## RFM\n",
    "\n",
    "As a running example to explore the fundamentals of NumPy we will perform RFM (Recency, Frequency, Monetary) analysis—a key technique in customer segmentation and marketing analytics.\n",
    "\n",
    "RFM analysis is a behavior-based technique used to segment customers by examining their transaction history. It evaluates customers based on three dimensions:\n",
    "\n",
    "- **Recency (R)**: How recently a customer has made a purchase.\n",
    "- **Frequency (F)**: How often a customer makes a purchase.\n",
    "- **Monetary Value (M)**: How much money a customer spends on purchases.\n",
    "\n",
    "The idea of this battle-tested technique is that it allows us to (a) categorize customers into distinct groups for targeted marketing (b) find out recent / frequent buyers which are more likely to respond to new offers (c) focus efforts on segments that are more likely to generate higher returns.\n",
    "\n",
    "Let's start with generating the dataset (you don't need to worry about this code for now).\n"
   ]
  },
  {
   "cell_type": "code",
   "execution_count": 32,
   "id": "29cacbbc",
   "metadata": {},
   "outputs": [],
   "source": [
    "import numpy as np\n",
    "\n",
    "def generate_rfm_aggregate_data(num_customers=100, max_days_since_last_purchase=365, max_frequency=25, max_monetary=10000):\n",
    "    \"\"\"\n",
    "    Generate synthetic aggregate RFM data for customers.\n",
    "\n",
    "    Parameters:\n",
    "    - num_customers: int, number of unique customers.\n",
    "    - max_days_since_last_purchase: int, maximum number of days since the last purchase.\n",
    "    - max_frequency: int, maximum number of transactions made by a customer.\n",
    "    - max_monetary: int, maximum total amount spent by a customer.\n",
    "\n",
    "    Returns:\n",
    "    - data: np.ndarray, 2D array with columns: CustomerID, Recency, Frequency, Monetary.\n",
    "    \"\"\"\n",
    "    np.random.seed(42)  # For reproducibility\n",
    "\n",
    "    recency   = np.random.randint(1, max_days_since_last_purchase + 1, num_customers)\n",
    "    frequency = np.random.randint(1, max_frequency + 1, num_customers)\n",
    "    monetary  = np.round(np.random.uniform(10.0, max_monetary, num_customers), 2)\n",
    "\n",
    "    data = np.column_stack((recency, frequency, monetary))\n",
    "\n",
    "    return data\n",
    "\n",
    "rfm_data = generate_rfm_aggregate_data(num_customers=1000)"
   ]
  },
  {
   "attachments": {},
   "cell_type": "markdown",
   "id": "d81f2555-a0e8-4a03-968e-13b67b30d340",
   "metadata": {},
   "source": [
    "## NumPy functions\n",
    "\n",
    "NumPy incorporates vectorized forms of the **mathematical functions** of the package `math`. A **vectorized function** is one that, when applied to an array, returns an array with same shape, whose terms are the values of the function on the corresponding terms of the original array. For instance, the NumPy square root function `np.max` takes the maximum of every term of a numeric array:"
   ]
  },
  {
   "cell_type": "code",
   "execution_count": 33,
   "id": "ebe28833",
   "metadata": {},
   "outputs": [
    {
     "data": {
      "text/plain": [
       "9994.14"
      ]
     },
     "execution_count": 33,
     "metadata": {},
     "output_type": "execute_result"
    }
   ],
   "source": [
    "np.max(rfm_data)"
   ]
  },
  {
   "cell_type": "markdown",
   "id": "4c1580da-1ae4-4513-b41d-8a2e3c222044",
   "metadata": {},
   "source": [
    "You can also tell `numpy` to do this calculation along the rows or columns using the `axis` parameter. Let's try calculating the mean for Females v.s. Males using the `np.mean()` function."
   ]
  },
  {
   "cell_type": "code",
   "execution_count": 34,
   "id": "464f298d",
   "metadata": {},
   "outputs": [
    {
     "data": {
      "text/plain": [
       "array([ 182.557  ,   12.914  , 5008.59354])"
      ]
     },
     "execution_count": 34,
     "metadata": {},
     "output_type": "execute_result"
    }
   ],
   "source": [
    "np.mean(rfm_data ,axis=0)"
   ]
  },
  {
   "attachments": {},
   "cell_type": "markdown",
   "id": "c1591966-dc38-4c55-b53e-da74d8d4ef30",
   "metadata": {},
   "source": [
    "NumPy also provides common mathematical and statistical functions, such as `median, max, sum, sqrt, std, quantile` etc.\n",
    "\n",
    "\n",
    "Functions that are defined in terms of vectorized functions are automatically vectorized. Let's try this with an exercise:"
   ]
  },
  {
   "cell_type": "markdown",
   "id": "0a3e4e4f",
   "metadata": {},
   "source": [
    "**You try it:**\n",
    "\n",
    "Given the recency, frequency and monetary value, calculate the RFM of the whole population. Remember that the formula for RFM is:\n",
    "\n",
    "$$\n",
    "    \\text{RFM} = \\\n",
    "$$"
   ]
  },
  {
   "cell_type": "code",
   "execution_count": 40,
   "id": "3db86b7d-8b4f-4654-a5f4-0865a04ac3e8",
   "metadata": {
    "tags": [
     "remove_output"
    ]
   },
   "outputs": [
    {
     "data": {
      "text/plain": [
       "Ellipsis"
      ]
     },
     "execution_count": 40,
     "metadata": {},
     "output_type": "execute_result"
    }
   ],
   "source": [
    "# Weights in kg [Female, Male]\n",
    "heights = np.array([[160, 175],\n",
    "                       [155, 180],\n",
    "                       [165, 170],\n",
    "                       [162, 178],\n",
    "                       [158, 172]])\n",
    "\n",
    "weights = np.array([[55, 70],\n",
    "                    [52, 77],\n",
    "                    [58, 68],\n",
    "                    [54, 75],\n",
    "                    [53, 72]])\n",
    "\n",
    "def bmi(height, weight):\n",
    "    # complete me ...\n",
    "    return 0\n",
    "\n",
    "# call your function\n",
    "...\n",
    "\n",
    "# compute the average\n",
    "..."
   ]
  },
  {
   "cell_type": "code",
   "execution_count": null,
   "id": "8da4be6e",
   "metadata": {
    "tags": [
     "remove_output"
    ]
   },
   "outputs": [
    {
     "data": {
      "text/plain": [
       "array([21.2478296 , 23.63214401])"
      ]
     },
     "execution_count": 41,
     "metadata": {},
     "output_type": "execute_result"
    }
   ],
   "source": [
    "#### SOLUTION\n",
    "\n",
    "# Heights in kg [Female, Male]\n",
    "heights = np.array([[160, 175],\n",
    "                    [155, 180],\n",
    "                    [165, 170],\n",
    "                    [162, 178],\n",
    "                    [158, 172]])\n",
    "# Weights in kg [Female, Male]\n",
    "weights = np.array([[55, 70],\n",
    "                    [52, 77],\n",
    "                    [58, 68],\n",
    "                    [54, 75],\n",
    "                    [53, 72]])\n",
    "\n",
    "# long version\n",
    "def bmi(height, weight):\n",
    "    return weight / ((height/100.)**2)\n",
    "\n",
    "# short version\n",
    "bmi = lambda height, weight: weight / ((height/100.)**2)\n",
    "\n",
    "all_bmis = bmi(heights, weights)\n",
    "\n",
    "np.mean(all_bmis,axis=0)"
   ]
  },
  {
   "attachments": {},
   "cell_type": "markdown",
   "id": "9bfe0c41-7f4f-442e-b5df-b40475cecbaf",
   "metadata": {},
   "source": [
    "## Subsetting arrays\n",
    "\n",
    "**Slicing** a 1D array is done the same as for a list:"
   ]
  },
  {
   "cell_type": "code",
   "execution_count": 42,
   "id": "0b1062dc",
   "metadata": {},
   "outputs": [
    {
     "data": {
      "text/plain": [
       "5"
      ]
     },
     "execution_count": 42,
     "metadata": {},
     "output_type": "execute_result"
    }
   ],
   "source": [
    "arr1 = np.array([5,4,2,41])\n",
    "arr1[0]"
   ]
  },
  {
   "cell_type": "code",
   "execution_count": 43,
   "id": "85531fb0-e2da-4a8f-a568-56dfe57d8de5",
   "metadata": {},
   "outputs": [
    {
     "data": {
      "text/plain": [
       "array([5, 4, 2])"
      ]
     },
     "execution_count": 43,
     "metadata": {},
     "output_type": "execute_result"
    }
   ],
   "source": [
    "arr1[:3]"
   ]
  },
  {
   "attachments": {},
   "cell_type": "markdown",
   "id": "315a5182-ae2e-464a-aadd-2b0578dfd610",
   "metadata": {},
   "source": [
    "The same applies to two-dimensional arrays, but we need two indexes within the square brackets. The first index selects the rows (`axis=0`), and the second index the columns (`axis=1`):"
   ]
  },
  {
   "cell_type": "code",
   "execution_count": 44,
   "id": "b2b7468f-e0d2-4ec2-8b05-fdd99df160a2",
   "metadata": {},
   "outputs": [
    {
     "data": {
      "text/plain": [
       "array([[155, 180],\n",
       "       [165, 170]])"
      ]
     },
     "execution_count": 44,
     "metadata": {},
     "output_type": "execute_result"
    }
   ],
   "source": [
    "heights[[1,2], :3]"
   ]
  },
  {
   "cell_type": "markdown",
   "id": "2b84c4ac",
   "metadata": {},
   "source": [
    "**Step intervals** can be used if we need to select only every n-th element of the array:"
   ]
  },
  {
   "cell_type": "code",
   "execution_count": 45,
   "id": "3b7df6eb",
   "metadata": {},
   "outputs": [
    {
     "data": {
      "text/plain": [
       "(array([ 5,  4,  2, 41]), array([5, 2]))"
      ]
     },
     "execution_count": 45,
     "metadata": {},
     "output_type": "execute_result"
    }
   ],
   "source": [
    "arr1, arr1[::2]"
   ]
  },
  {
   "cell_type": "markdown",
   "id": "da7416be",
   "metadata": {},
   "source": [
    "One special case of this which is used quite often is to use steps of -1, which is equivalent to reversing the array."
   ]
  },
  {
   "cell_type": "code",
   "execution_count": 46,
   "id": "c0b6ec5b",
   "metadata": {},
   "outputs": [
    {
     "data": {
      "text/plain": [
       "(array([ 5,  4,  2, 41]), array([41,  2,  4,  5]))"
      ]
     },
     "execution_count": 46,
     "metadata": {},
     "output_type": "execute_result"
    }
   ],
   "source": [
    "arr1, arr1[::-1]"
   ]
  },
  {
   "cell_type": "code",
   "execution_count": 47,
   "id": "ae225dcb",
   "metadata": {},
   "outputs": [
    {
     "data": {
      "text/plain": [
       "array([ 5,  4,  2, 41])"
      ]
     },
     "execution_count": 47,
     "metadata": {},
     "output_type": "execute_result"
    }
   ],
   "source": [
    "arr1"
   ]
  },
  {
   "cell_type": "code",
   "execution_count": 48,
   "id": "5b078f90",
   "metadata": {},
   "outputs": [
    {
     "data": {
      "text/plain": [
       "array([5, 2])"
      ]
     },
     "execution_count": 48,
     "metadata": {},
     "output_type": "execute_result"
    }
   ],
   "source": [
    "arr1[::2]"
   ]
  },
  {
   "cell_type": "markdown",
   "id": "120527a4",
   "metadata": {},
   "source": [
    "Here's an overview of common slicing operations from McKinney (2017):\n",
    "\n",
    "<center>\n",
    "    <img src='./resources/nparray-indexing.png' width='60%'>\n",
    "</center>"
   ]
  },
  {
   "attachments": {},
   "cell_type": "markdown",
   "id": "ae55ec85-c0c0-4479-ba4c-e14d83541179",
   "metadata": {},
   "source": [
    "**Filtering** Subsets of an array can also be extracted by means of expressions which acts as filters. Any expression involving an array is evaluated in Python as a Boolean array (called a **Boolean mask**):"
   ]
  },
  {
   "cell_type": "code",
   "execution_count": 49,
   "id": "044f3216-9113-4d30-b948-f153b0a0eac7",
   "metadata": {},
   "outputs": [
    {
     "data": {
      "text/plain": [
       "array([[False,  True],\n",
       "       [False,  True],\n",
       "       [ True,  True],\n",
       "       [ True,  True],\n",
       "       [False,  True]])"
      ]
     },
     "execution_count": 49,
     "metadata": {},
     "output_type": "execute_result"
    }
   ],
   "source": [
    "filter_tall = heights > 160\n",
    "filter_tall"
   ]
  },
  {
   "cell_type": "markdown",
   "id": "ccc5387d",
   "metadata": {},
   "source": [
    "We can use this as an index, and it will remove anyone in the dataset who is too tall:"
   ]
  },
  {
   "cell_type": "code",
   "execution_count": 50,
   "id": "c5b22e09-cbf7-444f-bac3-ecef77b749c6",
   "metadata": {},
   "outputs": [
    {
     "data": {
      "text/plain": [
       "array([175, 180, 165, 170, 162, 178, 172])"
      ]
     },
     "execution_count": 50,
     "metadata": {},
     "output_type": "execute_result"
    }
   ],
   "source": [
    "heights[filter_tall]"
   ]
  },
  {
   "cell_type": "markdown",
   "id": "2175bc5b",
   "metadata": {},
   "source": [
    "These can be combined into complex expressions as suited for the application:"
   ]
  },
  {
   "cell_type": "code",
   "execution_count": 51,
   "id": "e93d3f51-1d95-43f9-90e1-e9069a6f5914",
   "metadata": {},
   "outputs": [
    {
     "data": {
      "text/plain": [
       "array([175, 165, 170, 162, 178, 172])"
      ]
     },
     "execution_count": 51,
     "metadata": {},
     "output_type": "execute_result"
    }
   ],
   "source": [
    "filter_tall   = heights > 160\n",
    "filter_short  = heights < 180\n",
    "heights[filter_tall & filter_short ]"
   ]
  },
  {
   "cell_type": "markdown",
   "id": "5e74a45e",
   "metadata": {},
   "source": [
    "Since both heights and weights are of the same size, we can filter either on the other:"
   ]
  },
  {
   "cell_type": "code",
   "execution_count": 52,
   "id": "bf9d3e51",
   "metadata": {},
   "outputs": [
    {
     "data": {
      "text/plain": [
       "array([70, 77, 58, 68, 54, 75, 72])"
      ]
     },
     "execution_count": 52,
     "metadata": {},
     "output_type": "execute_result"
    }
   ],
   "source": [
    "weights[filter_tall]"
   ]
  },
  {
   "cell_type": "markdown",
   "id": "62e48955",
   "metadata": {},
   "source": [
    "### Extra exercises for home"
   ]
  },
  {
   "cell_type": "markdown",
   "id": "a3f601a6",
   "metadata": {},
   "source": [
    "**You try it**\n",
    "\n",
    "What is the average BMI of people taller than 170m?"
   ]
  },
  {
   "cell_type": "code",
   "execution_count": 36,
   "id": "e0c9f014",
   "metadata": {
    "tags": [
     "remove_output"
    ]
   },
   "outputs": [
    {
     "data": {
      "text/plain": [
       "Ellipsis"
      ]
     },
     "execution_count": 36,
     "metadata": {},
     "output_type": "execute_result"
    }
   ],
   "source": [
    "..."
   ]
  },
  {
   "cell_type": "code",
   "execution_count": 37,
   "id": "0e27105b",
   "metadata": {
    "tags": [
     "remove_output"
    ]
   },
   "outputs": [
    {
     "data": {
      "text/plain": [
       "23.65782707606685"
      ]
     },
     "execution_count": 37,
     "metadata": {},
     "output_type": "execute_result"
    }
   ],
   "source": [
    "#| code-fold: true \n",
    "#| code-summary: \"Solution\"\n",
    "\n",
    "all_bmis = bmi(heights, weights)\n",
    "\n",
    "filter_tall = heights > 170\n",
    "np.mean(all_bmis[filter_tall])"
   ]
  },
  {
   "cell_type": "markdown",
   "id": "5b9195bc",
   "metadata": {},
   "source": [
    "**You try it**\n",
    "\n",
    "Try to change the BMI function so that instead of given you your BMI, it returns a classification (string). The BMI classifications are:\n",
    "\n",
    "* Below 18.5\tUnderweight\n",
    "* 18.5 – 24.9\tHealthy Weight\n",
    "* 25.0 – 29.9\tOverweight\n",
    "* 30.0 and Above\tObesity"
   ]
  },
  {
   "cell_type": "code",
   "execution_count": null,
   "id": "b404835e",
   "metadata": {
    "tags": [
     "remove_output"
    ]
   },
   "outputs": [],
   "source": [
    "..."
   ]
  },
  {
   "cell_type": "code",
   "execution_count": 59,
   "id": "f6d7643d",
   "metadata": {
    "tags": [
     "remove_output"
    ]
   },
   "outputs": [
    {
     "data": {
      "text/plain": [
       "'Healthy Weight'"
      ]
     },
     "execution_count": 59,
     "metadata": {},
     "output_type": "execute_result"
    }
   ],
   "source": [
    "#| code-fold: true \n",
    "#| code-summary: \"Solution\"\n",
    "\n",
    "def bmi_classification(height, weight):\n",
    "    score = bmi(height, weight)\n",
    "\n",
    "    if(score < 18.5):\n",
    "        return \"Underweight\"\n",
    "    elif(score <= 24.9):\n",
    "        return \"Healthy Weight\"\n",
    "    elif(score <=29.9):\n",
    "        return \"Overweight\"\n",
    "    else:\n",
    "        return \"Above Obesity\"\n",
    "    \n",
    "bmi_classification(180,79)"
   ]
  },
  {
   "cell_type": "markdown",
   "id": "1c5cb89d",
   "metadata": {},
   "source": [
    "# AREA51"
   ]
  },
  {
   "cell_type": "code",
   "execution_count": 1,
   "id": "9cf2da8e",
   "metadata": {},
   "outputs": [],
   "source": [
    "import numpy as np\n",
    "\n",
    "# Parameters\n",
    "months = 12\n",
    "simulations = 1000\n",
    "\n",
    "# Fixed initial customers\n",
    "initial_customers = 500\n",
    "\n",
    "# Arrays to store simulation results\n",
    "customer_counts = np.zeros((simulations, months))\n",
    "\n",
    "# Run simulations\n",
    "for i in range(simulations):\n",
    "    customers = initial_customers\n",
    "    for month in range(months):\n",
    "        growth = np.random.normal(0.05, 0.02)  # Monthly growth rate\n",
    "        churn = np.random.normal(0.03, 0.01)   # Monthly churn rate\n",
    "        customers = customers * (1 + growth) * (1 - churn)\n",
    "        customer_counts[i, month] = customers\n"
   ]
  },
  {
   "cell_type": "code",
   "execution_count": 2,
   "id": "fe7aa0c9",
   "metadata": {},
   "outputs": [],
   "source": [
    "# Arrays to store revenue results\n",
    "revenues = np.zeros((simulations, months))\n",
    "\n",
    "for i in range(simulations):\n",
    "    for month in range(months):\n",
    "        ARPU = np.random.normal(50, 5)  # Average Revenue per User\n",
    "        revenues[i, month] = customer_counts[i, month] * ARPU\n"
   ]
  },
  {
   "cell_type": "code",
   "execution_count": 3,
   "id": "66b22388",
   "metadata": {},
   "outputs": [
    {
     "name": "stdout",
     "output_type": "stream",
     "text": [
      "Month 1: Mean Revenue = $25495.17, 10th Percentile = $22093.36, 90th Percentile = $29019.26\n",
      "Month 2: Mean Revenue = $25902.67, 10th Percentile = $22395.06, 90th Percentile = $29543.58\n",
      "Month 3: Mean Revenue = $26518.78, 10th Percentile = $23105.59, 90th Percentile = $30121.44\n",
      "Month 4: Mean Revenue = $26859.56, 10th Percentile = $22938.71, 90th Percentile = $30413.61\n",
      "Month 5: Mean Revenue = $27293.87, 10th Percentile = $23410.17, 90th Percentile = $31466.93\n",
      "Month 6: Mean Revenue = $27845.04, 10th Percentile = $24029.24, 90th Percentile = $31826.57\n",
      "Month 7: Mean Revenue = $28493.13, 10th Percentile = $24310.59, 90th Percentile = $32608.03\n",
      "Month 8: Mean Revenue = $29015.72, 10th Percentile = $24665.87, 90th Percentile = $33185.48\n",
      "Month 9: Mean Revenue = $29597.93, 10th Percentile = $25390.50, 90th Percentile = $34139.82\n",
      "Month 10: Mean Revenue = $29965.49, 10th Percentile = $25519.86, 90th Percentile = $34452.40\n",
      "Month 11: Mean Revenue = $30548.77, 10th Percentile = $25964.13, 90th Percentile = $35409.96\n",
      "Month 12: Mean Revenue = $31168.19, 10th Percentile = $26438.41, 90th Percentile = $36382.01\n"
     ]
    }
   ],
   "source": [
    "# Calculate mean and percentiles for each month\n",
    "mean_revenue = revenues.mean(axis=0)\n",
    "p10_revenue = np.percentile(revenues, 10, axis=0)\n",
    "p90_revenue = np.percentile(revenues, 90, axis=0)\n",
    "\n",
    "# Display results\n",
    "for month in range(months):\n",
    "    print(f\"Month {month+1}: Mean Revenue = ${mean_revenue[month]:.2f}, \"\n",
    "          f\"10th Percentile = ${p10_revenue[month]:.2f}, \"\n",
    "          f\"90th Percentile = ${p90_revenue[month]:.2f}\")\n"
   ]
  },
  {
   "cell_type": "code",
   "execution_count": 4,
   "id": "ac6169ef",
   "metadata": {},
   "outputs": [
    {
     "data": {
      "image/png": "[encoded data removed]",
      "text/plain": [
       "<Figure size 1000x600 with 1 Axes>"
      ]
     },
     "metadata": {},
     "output_type": "display_data"
    }
   ],
   "source": [
    "import matplotlib.pyplot as plt\n",
    "\n",
    "# Plotting the revenue forecast\n",
    "plt.figure(figsize=(10, 6))\n",
    "plt.plot(range(1, months + 1), mean_revenue, label='Mean Revenue')\n",
    "plt.fill_between(range(1, months + 1), p10_revenue, p90_revenue, color='gray', alpha=0.5, label='10th-90th Percentile Range')\n",
    "plt.title('Monthly Revenue Forecast')\n",
    "plt.xlabel('Month')\n",
    "plt.ylabel('Revenue ($)')\n",
    "plt.legend()\n",
    "plt.show()\n"
   ]
  }
 ],
 "metadata": {
  "kernelspec": {
   "display_name": "dsfb",
   "language": "python",
   "name": "python3"
  },
  "language_info": {
   "codemirror_mode": {
    "name": "ipython",
    "version": 3
   },
   "file_extension": ".py",
   "mimetype": "text/x-python",
   "name": "python",
   "nbconvert_exporter": "python",
   "pygments_lexer": "ipython3",
   "version": "3.11.11"
  },
  "widgets": {
   "application/vnd.jupyter.widget-state+json": {
    "state": {},
    "version_major": 2,
    "version_minor": 0
   }
  }
 },
 "nbformat": 4,
 "nbformat_minor": 5
}
