{
 "cells": [
  {
   "attachments": {},
   "cell_type": "markdown",
   "id": "3aeec9d0-f0fb-448b-8bb8-68e2e4e3813b",
   "metadata": {
    "tags": []
   },
   "source": [
    "# Pandas: Master Tabular Data\n",
    "\n",
    "**Tabular data sets** are datasets that look like Excel sheets. They can be imported into Pandas data frames from various file formats. "
   ]
  },
  {
   "cell_type": "markdown",
   "id": "9a9598c7",
   "metadata": {},
   "source": [
    "## Pandas data frames"
   ]
  },
  {
   "cell_type": "markdown",
   "id": "2389a9b2",
   "metadata": {},
   "source": [
    "**Pandas** provides a wide range of data wrangling tools. It is typically imported as:"
   ]
  },
  {
   "cell_type": "code",
   "execution_count": 34,
   "id": "eafb0220",
   "metadata": {},
   "outputs": [],
   "source": [
    "import pandas as pd\n",
    "pd.set_option('display.float_format', '{:.2f}'.format)"
   ]
  },
  {
   "cell_type": "code",
   "execution_count": 35,
   "id": "9f36a112",
   "metadata": {},
   "outputs": [],
   "source": [
    "df = pd.read_csv('https://raw.githubusercontent.com/ciri/iese-dsfb/main/resources/tabular/cars.csv')"
   ]
  },
  {
   "cell_type": "markdown",
   "id": "b00f48d2",
   "metadata": {},
   "source": [
    "index"
   ]
  },
  {
   "cell_type": "code",
   "execution_count": 36,
   "id": "158e265b-6289-435b-b9a1-e9a04cf7cc5f",
   "metadata": {},
   "outputs": [
    {
     "data": {
      "text/plain": [
       "Index(['introduction', 'group', 'brand', 'model_name', 'length', 'width',\n",
       "       'height', 'curb_weight', 'total_max_power_hp', 'price'],\n",
       "      dtype='object')"
      ]
     },
     "execution_count": 36,
     "metadata": {},
     "output_type": "execute_result"
    }
   ],
   "source": [
    "df.columns"
   ]
  },
  {
   "cell_type": "code",
   "execution_count": 37,
   "id": "aad371e8",
   "metadata": {},
   "outputs": [
    {
     "data": {
      "text/html": [
       "<div>\n",
       "<style scoped>\n",
       "    .dataframe tbody tr th:only-of-type {\n",
       "        vertical-align: middle;\n",
       "    }\n",
       "\n",
       "    .dataframe tbody tr th {\n",
       "        vertical-align: top;\n",
       "    }\n",
       "\n",
       "    .dataframe thead th {\n",
       "        text-align: right;\n",
       "    }\n",
       "</style>\n",
       "<table border=\"1\" class=\"dataframe\">\n",
       "  <thead>\n",
       "    <tr style=\"text-align: right;\">\n",
       "      <th></th>\n",
       "      <th>introduction</th>\n",
       "      <th>group</th>\n",
       "      <th>brand</th>\n",
       "      <th>model_name</th>\n",
       "      <th>length</th>\n",
       "      <th>width</th>\n",
       "      <th>height</th>\n",
       "      <th>curb_weight</th>\n",
       "      <th>total_max_power_hp</th>\n",
       "      <th>price</th>\n",
       "    </tr>\n",
       "  </thead>\n",
       "  <tbody>\n",
       "    <tr>\n",
       "      <th>0</th>\n",
       "      <td>2007</td>\n",
       "      <td>Fiat Chrysler Automobiles</td>\n",
       "      <td>Alfa Romeo</td>\n",
       "      <td>Alfa Romeo 147</td>\n",
       "      <td>4223</td>\n",
       "      <td>1729.00</td>\n",
       "      <td>1442.00</td>\n",
       "      <td>1185</td>\n",
       "      <td>105</td>\n",
       "      <td>21950</td>\n",
       "    </tr>\n",
       "    <tr>\n",
       "      <th>1</th>\n",
       "      <td>2008</td>\n",
       "      <td>Fiat Chrysler Automobiles</td>\n",
       "      <td>Alfa Romeo</td>\n",
       "      <td>Alfa Romeo 159</td>\n",
       "      <td>4661</td>\n",
       "      <td>1830.00</td>\n",
       "      <td>1422.00</td>\n",
       "      <td>1360</td>\n",
       "      <td>140</td>\n",
       "      <td>28450</td>\n",
       "    </tr>\n",
       "    <tr>\n",
       "      <th>2</th>\n",
       "      <td>2013</td>\n",
       "      <td>Fiat Chrysler Automobiles</td>\n",
       "      <td>Alfa Romeo</td>\n",
       "      <td>Alfa Romeo 4C</td>\n",
       "      <td>3990</td>\n",
       "      <td>1868.00</td>\n",
       "      <td>1184.00</td>\n",
       "      <td>895</td>\n",
       "      <td>240</td>\n",
       "      <td>75360</td>\n",
       "    </tr>\n",
       "    <tr>\n",
       "      <th>3</th>\n",
       "      <td>2008</td>\n",
       "      <td>Fiat Chrysler Automobiles</td>\n",
       "      <td>Alfa Romeo</td>\n",
       "      <td>Alfa Romeo 8C</td>\n",
       "      <td>4381</td>\n",
       "      <td>1894.00</td>\n",
       "      <td>1341.00</td>\n",
       "      <td>1560</td>\n",
       "      <td>450</td>\n",
       "      <td>220000</td>\n",
       "    </tr>\n",
       "    <tr>\n",
       "      <th>4</th>\n",
       "      <td>2009</td>\n",
       "      <td>Fiat Chrysler Automobiles</td>\n",
       "      <td>Alfa Romeo</td>\n",
       "      <td>Alfa Romeo Brera</td>\n",
       "      <td>4413</td>\n",
       "      <td>1830.00</td>\n",
       "      <td>1372.00</td>\n",
       "      <td>1420</td>\n",
       "      <td>200</td>\n",
       "      <td>40950</td>\n",
       "    </tr>\n",
       "    <tr>\n",
       "      <th>...</th>\n",
       "      <td>...</td>\n",
       "      <td>...</td>\n",
       "      <td>...</td>\n",
       "      <td>...</td>\n",
       "      <td>...</td>\n",
       "      <td>...</td>\n",
       "      <td>...</td>\n",
       "      <td>...</td>\n",
       "      <td>...</td>\n",
       "      <td>...</td>\n",
       "    </tr>\n",
       "    <tr>\n",
       "      <th>586</th>\n",
       "      <td>2007</td>\n",
       "      <td>Geely</td>\n",
       "      <td>Volvo</td>\n",
       "      <td>Volvo V70</td>\n",
       "      <td>4823</td>\n",
       "      <td>1861.00</td>\n",
       "      <td>1540.00</td>\n",
       "      <td>1467</td>\n",
       "      <td>145</td>\n",
       "      <td>39895</td>\n",
       "    </tr>\n",
       "    <tr>\n",
       "      <th>587</th>\n",
       "      <td>2020</td>\n",
       "      <td>Geely</td>\n",
       "      <td>Volvo</td>\n",
       "      <td>Volvo XC40</td>\n",
       "      <td>4425</td>\n",
       "      <td>1900.00</td>\n",
       "      <td>1652.00</td>\n",
       "      <td>2150</td>\n",
       "      <td>408</td>\n",
       "      <td>58775</td>\n",
       "    </tr>\n",
       "    <tr>\n",
       "      <th>588</th>\n",
       "      <td>2010</td>\n",
       "      <td>Geely</td>\n",
       "      <td>Volvo</td>\n",
       "      <td>Volvo XC60</td>\n",
       "      <td>4628</td>\n",
       "      <td>1891.00</td>\n",
       "      <td>1713.00</td>\n",
       "      <td>1610</td>\n",
       "      <td>203</td>\n",
       "      <td>49495</td>\n",
       "    </tr>\n",
       "    <tr>\n",
       "      <th>589</th>\n",
       "      <td>2004</td>\n",
       "      <td>Geely</td>\n",
       "      <td>Volvo</td>\n",
       "      <td>Volvo XC70</td>\n",
       "      <td>4733</td>\n",
       "      <td>1860.00</td>\n",
       "      <td>1562.00</td>\n",
       "      <td>1664</td>\n",
       "      <td>210</td>\n",
       "      <td>49815</td>\n",
       "    </tr>\n",
       "    <tr>\n",
       "      <th>590</th>\n",
       "      <td>2003</td>\n",
       "      <td>Geely</td>\n",
       "      <td>Volvo</td>\n",
       "      <td>Volvo XC90</td>\n",
       "      <td>4798</td>\n",
       "      <td>1898.00</td>\n",
       "      <td>1743.00</td>\n",
       "      <td>2023</td>\n",
       "      <td>210</td>\n",
       "      <td>56115</td>\n",
       "    </tr>\n",
       "  </tbody>\n",
       "</table>\n",
       "<p>591 rows × 10 columns</p>\n",
       "</div>"
      ],
      "text/plain": [
       "     introduction                      group       brand        model_name  \\\n",
       "0            2007  Fiat Chrysler Automobiles  Alfa Romeo    Alfa Romeo 147   \n",
       "1            2008  Fiat Chrysler Automobiles  Alfa Romeo    Alfa Romeo 159   \n",
       "2            2013  Fiat Chrysler Automobiles  Alfa Romeo     Alfa Romeo 4C   \n",
       "3            2008  Fiat Chrysler Automobiles  Alfa Romeo     Alfa Romeo 8C   \n",
       "4            2009  Fiat Chrysler Automobiles  Alfa Romeo  Alfa Romeo Brera   \n",
       "..            ...                        ...         ...               ...   \n",
       "586          2007                      Geely       Volvo         Volvo V70   \n",
       "587          2020                      Geely       Volvo        Volvo XC40   \n",
       "588          2010                      Geely       Volvo        Volvo XC60   \n",
       "589          2004                      Geely       Volvo        Volvo XC70   \n",
       "590          2003                      Geely       Volvo        Volvo XC90   \n",
       "\n",
       "     length   width  height  curb_weight  total_max_power_hp   price  \n",
       "0      4223 1729.00 1442.00         1185                 105   21950  \n",
       "1      4661 1830.00 1422.00         1360                 140   28450  \n",
       "2      3990 1868.00 1184.00          895                 240   75360  \n",
       "3      4381 1894.00 1341.00         1560                 450  220000  \n",
       "4      4413 1830.00 1372.00         1420                 200   40950  \n",
       "..      ...     ...     ...          ...                 ...     ...  \n",
       "586    4823 1861.00 1540.00         1467                 145   39895  \n",
       "587    4425 1900.00 1652.00         2150                 408   58775  \n",
       "588    4628 1891.00 1713.00         1610                 203   49495  \n",
       "589    4733 1860.00 1562.00         1664                 210   49815  \n",
       "590    4798 1898.00 1743.00         2023                 210   56115  \n",
       "\n",
       "[591 rows x 10 columns]"
      ]
     },
     "execution_count": 37,
     "metadata": {},
     "output_type": "execute_result"
    }
   ],
   "source": [
    "df"
   ]
  },
  {
   "cell_type": "markdown",
   "id": "25ad2e72",
   "metadata": {},
   "source": [
    "values"
   ]
  },
  {
   "cell_type": "code",
   "execution_count": 38,
   "id": "1b0acddd",
   "metadata": {},
   "outputs": [
    {
     "data": {
      "text/plain": [
       "array([[2007, 'Fiat Chrysler Automobiles', 'Alfa Romeo', ..., 1185, 105,\n",
       "        21950],\n",
       "       [2008, 'Fiat Chrysler Automobiles', 'Alfa Romeo', ..., 1360, 140,\n",
       "        28450],\n",
       "       [2013, 'Fiat Chrysler Automobiles', 'Alfa Romeo', ..., 895, 240,\n",
       "        75360],\n",
       "       ...,\n",
       "       [2010, 'Geely', 'Volvo', ..., 1610, 203, 49495],\n",
       "       [2004, 'Geely', 'Volvo', ..., 1664, 210, 49815],\n",
       "       [2003, 'Geely', 'Volvo', ..., 2023, 210, 56115]], dtype=object)"
      ]
     },
     "execution_count": 38,
     "metadata": {},
     "output_type": "execute_result"
    }
   ],
   "source": [
    "df.values"
   ]
  },
  {
   "cell_type": "markdown",
   "id": "fab74826",
   "metadata": {},
   "source": [
    "columns"
   ]
  },
  {
   "cell_type": "code",
   "execution_count": 39,
   "id": "6a051a10",
   "metadata": {},
   "outputs": [
    {
     "data": {
      "text/plain": [
       "Index(['introduction', 'group', 'brand', 'model_name', 'length', 'width',\n",
       "       'height', 'curb_weight', 'total_max_power_hp', 'price'],\n",
       "      dtype='object')"
      ]
     },
     "execution_count": 39,
     "metadata": {},
     "output_type": "execute_result"
    }
   ],
   "source": [
    "df.columns"
   ]
  },
  {
   "cell_type": "markdown",
   "id": "3ea95bb1",
   "metadata": {},
   "source": [
    "shape"
   ]
  },
  {
   "cell_type": "code",
   "execution_count": 40,
   "id": "d708077e",
   "metadata": {},
   "outputs": [
    {
     "data": {
      "text/plain": [
       "(591, 10)"
      ]
     },
     "execution_count": 40,
     "metadata": {},
     "output_type": "execute_result"
    }
   ],
   "source": [
    "df.shape"
   ]
  },
  {
   "cell_type": "markdown",
   "id": "493643f2",
   "metadata": {},
   "source": [
    "dtypes"
   ]
  },
  {
   "cell_type": "code",
   "execution_count": 41,
   "id": "15a360a9",
   "metadata": {},
   "outputs": [
    {
     "data": {
      "text/plain": [
       "introduction            int64\n",
       "group                  object\n",
       "brand                  object\n",
       "model_name             object\n",
       "length                  int64\n",
       "width                 float64\n",
       "height                float64\n",
       "curb_weight             int64\n",
       "total_max_power_hp      int64\n",
       "price                   int64\n",
       "dtype: object"
      ]
     },
     "execution_count": 41,
     "metadata": {},
     "output_type": "execute_result"
    }
   ],
   "source": [
    "df.dtypes"
   ]
  },
  {
   "attachments": {},
   "cell_type": "markdown",
   "id": "c28d8362-d43a-46af-83b2-055c804958ec",
   "metadata": {},
   "source": [
    "## Exploring Pandas objects\n",
    "\n",
    "`head` and `tail`"
   ]
  },
  {
   "cell_type": "code",
   "execution_count": 42,
   "id": "9562ecc2",
   "metadata": {},
   "outputs": [
    {
     "data": {
      "text/html": [
       "<div>\n",
       "<style scoped>\n",
       "    .dataframe tbody tr th:only-of-type {\n",
       "        vertical-align: middle;\n",
       "    }\n",
       "\n",
       "    .dataframe tbody tr th {\n",
       "        vertical-align: top;\n",
       "    }\n",
       "\n",
       "    .dataframe thead th {\n",
       "        text-align: right;\n",
       "    }\n",
       "</style>\n",
       "<table border=\"1\" class=\"dataframe\">\n",
       "  <thead>\n",
       "    <tr style=\"text-align: right;\">\n",
       "      <th></th>\n",
       "      <th>introduction</th>\n",
       "      <th>group</th>\n",
       "      <th>brand</th>\n",
       "      <th>model_name</th>\n",
       "      <th>length</th>\n",
       "      <th>width</th>\n",
       "      <th>height</th>\n",
       "      <th>curb_weight</th>\n",
       "      <th>total_max_power_hp</th>\n",
       "      <th>price</th>\n",
       "    </tr>\n",
       "  </thead>\n",
       "  <tbody>\n",
       "    <tr>\n",
       "      <th>0</th>\n",
       "      <td>2007</td>\n",
       "      <td>Fiat Chrysler Automobiles</td>\n",
       "      <td>Alfa Romeo</td>\n",
       "      <td>Alfa Romeo 147</td>\n",
       "      <td>4223</td>\n",
       "      <td>1729.00</td>\n",
       "      <td>1442.00</td>\n",
       "      <td>1185</td>\n",
       "      <td>105</td>\n",
       "      <td>21950</td>\n",
       "    </tr>\n",
       "    <tr>\n",
       "      <th>1</th>\n",
       "      <td>2008</td>\n",
       "      <td>Fiat Chrysler Automobiles</td>\n",
       "      <td>Alfa Romeo</td>\n",
       "      <td>Alfa Romeo 159</td>\n",
       "      <td>4661</td>\n",
       "      <td>1830.00</td>\n",
       "      <td>1422.00</td>\n",
       "      <td>1360</td>\n",
       "      <td>140</td>\n",
       "      <td>28450</td>\n",
       "    </tr>\n",
       "    <tr>\n",
       "      <th>2</th>\n",
       "      <td>2013</td>\n",
       "      <td>Fiat Chrysler Automobiles</td>\n",
       "      <td>Alfa Romeo</td>\n",
       "      <td>Alfa Romeo 4C</td>\n",
       "      <td>3990</td>\n",
       "      <td>1868.00</td>\n",
       "      <td>1184.00</td>\n",
       "      <td>895</td>\n",
       "      <td>240</td>\n",
       "      <td>75360</td>\n",
       "    </tr>\n",
       "  </tbody>\n",
       "</table>\n",
       "</div>"
      ],
      "text/plain": [
       "   introduction                      group       brand      model_name  \\\n",
       "0          2007  Fiat Chrysler Automobiles  Alfa Romeo  Alfa Romeo 147   \n",
       "1          2008  Fiat Chrysler Automobiles  Alfa Romeo  Alfa Romeo 159   \n",
       "2          2013  Fiat Chrysler Automobiles  Alfa Romeo   Alfa Romeo 4C   \n",
       "\n",
       "   length   width  height  curb_weight  total_max_power_hp  price  \n",
       "0    4223 1729.00 1442.00         1185                 105  21950  \n",
       "1    4661 1830.00 1422.00         1360                 140  28450  \n",
       "2    3990 1868.00 1184.00          895                 240  75360  "
      ]
     },
     "execution_count": 42,
     "metadata": {},
     "output_type": "execute_result"
    }
   ],
   "source": [
    "df.head(3)"
   ]
  },
  {
   "cell_type": "code",
   "execution_count": 43,
   "id": "ad646a4a-bfc2-4223-a6fb-c989afc692ba",
   "metadata": {},
   "outputs": [
    {
     "data": {
      "text/html": [
       "<div>\n",
       "<style scoped>\n",
       "    .dataframe tbody tr th:only-of-type {\n",
       "        vertical-align: middle;\n",
       "    }\n",
       "\n",
       "    .dataframe tbody tr th {\n",
       "        vertical-align: top;\n",
       "    }\n",
       "\n",
       "    .dataframe thead th {\n",
       "        text-align: right;\n",
       "    }\n",
       "</style>\n",
       "<table border=\"1\" class=\"dataframe\">\n",
       "  <thead>\n",
       "    <tr style=\"text-align: right;\">\n",
       "      <th></th>\n",
       "      <th>introduction</th>\n",
       "      <th>group</th>\n",
       "      <th>brand</th>\n",
       "      <th>model_name</th>\n",
       "      <th>length</th>\n",
       "      <th>width</th>\n",
       "      <th>height</th>\n",
       "      <th>curb_weight</th>\n",
       "      <th>total_max_power_hp</th>\n",
       "      <th>price</th>\n",
       "    </tr>\n",
       "  </thead>\n",
       "  <tbody>\n",
       "    <tr>\n",
       "      <th>588</th>\n",
       "      <td>2010</td>\n",
       "      <td>Geely</td>\n",
       "      <td>Volvo</td>\n",
       "      <td>Volvo XC60</td>\n",
       "      <td>4628</td>\n",
       "      <td>1891.00</td>\n",
       "      <td>1713.00</td>\n",
       "      <td>1610</td>\n",
       "      <td>203</td>\n",
       "      <td>49495</td>\n",
       "    </tr>\n",
       "    <tr>\n",
       "      <th>589</th>\n",
       "      <td>2004</td>\n",
       "      <td>Geely</td>\n",
       "      <td>Volvo</td>\n",
       "      <td>Volvo XC70</td>\n",
       "      <td>4733</td>\n",
       "      <td>1860.00</td>\n",
       "      <td>1562.00</td>\n",
       "      <td>1664</td>\n",
       "      <td>210</td>\n",
       "      <td>49815</td>\n",
       "    </tr>\n",
       "    <tr>\n",
       "      <th>590</th>\n",
       "      <td>2003</td>\n",
       "      <td>Geely</td>\n",
       "      <td>Volvo</td>\n",
       "      <td>Volvo XC90</td>\n",
       "      <td>4798</td>\n",
       "      <td>1898.00</td>\n",
       "      <td>1743.00</td>\n",
       "      <td>2023</td>\n",
       "      <td>210</td>\n",
       "      <td>56115</td>\n",
       "    </tr>\n",
       "  </tbody>\n",
       "</table>\n",
       "</div>"
      ],
      "text/plain": [
       "     introduction  group  brand  model_name  length   width  height  \\\n",
       "588          2010  Geely  Volvo  Volvo XC60    4628 1891.00 1713.00   \n",
       "589          2004  Geely  Volvo  Volvo XC70    4733 1860.00 1562.00   \n",
       "590          2003  Geely  Volvo  Volvo XC90    4798 1898.00 1743.00   \n",
       "\n",
       "     curb_weight  total_max_power_hp  price  \n",
       "588         1610                 203  49495  \n",
       "589         1664                 210  49815  \n",
       "590         2023                 210  56115  "
      ]
     },
     "execution_count": 43,
     "metadata": {},
     "output_type": "execute_result"
    }
   ],
   "source": [
    "df.tail(3)"
   ]
  },
  {
   "cell_type": "markdown",
   "id": "68bbc53a",
   "metadata": {},
   "source": [
    "info, describe"
   ]
  },
  {
   "cell_type": "code",
   "execution_count": 44,
   "id": "505543cd",
   "metadata": {
    "scrolled": true
   },
   "outputs": [
    {
     "name": "stdout",
     "output_type": "stream",
     "text": [
      "<class 'pandas.core.frame.DataFrame'>\n",
      "RangeIndex: 591 entries, 0 to 590\n",
      "Data columns (total 10 columns):\n",
      " #   Column              Non-Null Count  Dtype  \n",
      "---  ------              --------------  -----  \n",
      " 0   introduction        591 non-null    int64  \n",
      " 1   group               591 non-null    object \n",
      " 2   brand               591 non-null    object \n",
      " 3   model_name          591 non-null    object \n",
      " 4   length              591 non-null    int64  \n",
      " 5   width               590 non-null    float64\n",
      " 6   height              590 non-null    float64\n",
      " 7   curb_weight         591 non-null    int64  \n",
      " 8   total_max_power_hp  591 non-null    int64  \n",
      " 9   price               591 non-null    int64  \n",
      "dtypes: float64(2), int64(5), object(3)\n",
      "memory usage: 46.3+ KB\n"
     ]
    }
   ],
   "source": [
    "df.info()"
   ]
  },
  {
   "cell_type": "markdown",
   "id": "c04646ab",
   "metadata": {},
   "source": [
    "### Extracting a Series"
   ]
  },
  {
   "cell_type": "markdown",
   "id": "52293575",
   "metadata": {},
   "source": [
    "**You try it:**\n",
    "\n",
    "Create a pandas Series of the volume of all the cars in m3.\n",
    "\n",
    "Hint: start by extracting the height, width and length. Then, multiply the three numbers."
   ]
  },
  {
   "cell_type": "code",
   "execution_count": 46,
   "id": "aaf57dbc",
   "metadata": {
    "tags": [
     "remove_output"
    ]
   },
   "outputs": [
    {
     "data": {
      "text/html": [
       "<div>\n",
       "<style scoped>\n",
       "    .dataframe tbody tr th:only-of-type {\n",
       "        vertical-align: middle;\n",
       "    }\n",
       "\n",
       "    .dataframe tbody tr th {\n",
       "        vertical-align: top;\n",
       "    }\n",
       "\n",
       "    .dataframe thead th {\n",
       "        text-align: right;\n",
       "    }\n",
       "</style>\n",
       "<table border=\"1\" class=\"dataframe\">\n",
       "  <thead>\n",
       "    <tr style=\"text-align: right;\">\n",
       "      <th></th>\n",
       "      <th>introduction</th>\n",
       "      <th>group</th>\n",
       "      <th>brand</th>\n",
       "      <th>model_name</th>\n",
       "      <th>length</th>\n",
       "      <th>width</th>\n",
       "      <th>height</th>\n",
       "      <th>curb_weight</th>\n",
       "      <th>total_max_power_hp</th>\n",
       "      <th>price</th>\n",
       "      <th>volume</th>\n",
       "    </tr>\n",
       "  </thead>\n",
       "  <tbody>\n",
       "    <tr>\n",
       "      <th>0</th>\n",
       "      <td>2007</td>\n",
       "      <td>Fiat Chrysler Automobiles</td>\n",
       "      <td>Alfa Romeo</td>\n",
       "      <td>Alfa Romeo 147</td>\n",
       "      <td>4223</td>\n",
       "      <td>1729.00</td>\n",
       "      <td>1442.00</td>\n",
       "      <td>1185</td>\n",
       "      <td>105</td>\n",
       "      <td>21950</td>\n",
       "      <td>10.53</td>\n",
       "    </tr>\n",
       "    <tr>\n",
       "      <th>1</th>\n",
       "      <td>2008</td>\n",
       "      <td>Fiat Chrysler Automobiles</td>\n",
       "      <td>Alfa Romeo</td>\n",
       "      <td>Alfa Romeo 159</td>\n",
       "      <td>4661</td>\n",
       "      <td>1830.00</td>\n",
       "      <td>1422.00</td>\n",
       "      <td>1360</td>\n",
       "      <td>140</td>\n",
       "      <td>28450</td>\n",
       "      <td>12.13</td>\n",
       "    </tr>\n",
       "    <tr>\n",
       "      <th>2</th>\n",
       "      <td>2013</td>\n",
       "      <td>Fiat Chrysler Automobiles</td>\n",
       "      <td>Alfa Romeo</td>\n",
       "      <td>Alfa Romeo 4C</td>\n",
       "      <td>3990</td>\n",
       "      <td>1868.00</td>\n",
       "      <td>1184.00</td>\n",
       "      <td>895</td>\n",
       "      <td>240</td>\n",
       "      <td>75360</td>\n",
       "      <td>8.82</td>\n",
       "    </tr>\n",
       "    <tr>\n",
       "      <th>3</th>\n",
       "      <td>2008</td>\n",
       "      <td>Fiat Chrysler Automobiles</td>\n",
       "      <td>Alfa Romeo</td>\n",
       "      <td>Alfa Romeo 8C</td>\n",
       "      <td>4381</td>\n",
       "      <td>1894.00</td>\n",
       "      <td>1341.00</td>\n",
       "      <td>1560</td>\n",
       "      <td>450</td>\n",
       "      <td>220000</td>\n",
       "      <td>11.13</td>\n",
       "    </tr>\n",
       "    <tr>\n",
       "      <th>4</th>\n",
       "      <td>2009</td>\n",
       "      <td>Fiat Chrysler Automobiles</td>\n",
       "      <td>Alfa Romeo</td>\n",
       "      <td>Alfa Romeo Brera</td>\n",
       "      <td>4413</td>\n",
       "      <td>1830.00</td>\n",
       "      <td>1372.00</td>\n",
       "      <td>1420</td>\n",
       "      <td>200</td>\n",
       "      <td>40950</td>\n",
       "      <td>11.08</td>\n",
       "    </tr>\n",
       "    <tr>\n",
       "      <th>...</th>\n",
       "      <td>...</td>\n",
       "      <td>...</td>\n",
       "      <td>...</td>\n",
       "      <td>...</td>\n",
       "      <td>...</td>\n",
       "      <td>...</td>\n",
       "      <td>...</td>\n",
       "      <td>...</td>\n",
       "      <td>...</td>\n",
       "      <td>...</td>\n",
       "      <td>...</td>\n",
       "    </tr>\n",
       "    <tr>\n",
       "      <th>586</th>\n",
       "      <td>2007</td>\n",
       "      <td>Geely</td>\n",
       "      <td>Volvo</td>\n",
       "      <td>Volvo V70</td>\n",
       "      <td>4823</td>\n",
       "      <td>1861.00</td>\n",
       "      <td>1540.00</td>\n",
       "      <td>1467</td>\n",
       "      <td>145</td>\n",
       "      <td>39895</td>\n",
       "      <td>13.82</td>\n",
       "    </tr>\n",
       "    <tr>\n",
       "      <th>587</th>\n",
       "      <td>2020</td>\n",
       "      <td>Geely</td>\n",
       "      <td>Volvo</td>\n",
       "      <td>Volvo XC40</td>\n",
       "      <td>4425</td>\n",
       "      <td>1900.00</td>\n",
       "      <td>1652.00</td>\n",
       "      <td>2150</td>\n",
       "      <td>408</td>\n",
       "      <td>58775</td>\n",
       "      <td>13.89</td>\n",
       "    </tr>\n",
       "    <tr>\n",
       "      <th>588</th>\n",
       "      <td>2010</td>\n",
       "      <td>Geely</td>\n",
       "      <td>Volvo</td>\n",
       "      <td>Volvo XC60</td>\n",
       "      <td>4628</td>\n",
       "      <td>1891.00</td>\n",
       "      <td>1713.00</td>\n",
       "      <td>1610</td>\n",
       "      <td>203</td>\n",
       "      <td>49495</td>\n",
       "      <td>14.99</td>\n",
       "    </tr>\n",
       "    <tr>\n",
       "      <th>589</th>\n",
       "      <td>2004</td>\n",
       "      <td>Geely</td>\n",
       "      <td>Volvo</td>\n",
       "      <td>Volvo XC70</td>\n",
       "      <td>4733</td>\n",
       "      <td>1860.00</td>\n",
       "      <td>1562.00</td>\n",
       "      <td>1664</td>\n",
       "      <td>210</td>\n",
       "      <td>49815</td>\n",
       "      <td>13.75</td>\n",
       "    </tr>\n",
       "    <tr>\n",
       "      <th>590</th>\n",
       "      <td>2003</td>\n",
       "      <td>Geely</td>\n",
       "      <td>Volvo</td>\n",
       "      <td>Volvo XC90</td>\n",
       "      <td>4798</td>\n",
       "      <td>1898.00</td>\n",
       "      <td>1743.00</td>\n",
       "      <td>2023</td>\n",
       "      <td>210</td>\n",
       "      <td>56115</td>\n",
       "      <td>15.87</td>\n",
       "    </tr>\n",
       "  </tbody>\n",
       "</table>\n",
       "<p>591 rows × 11 columns</p>\n",
       "</div>"
      ],
      "text/plain": [
       "     introduction                      group       brand        model_name  \\\n",
       "0            2007  Fiat Chrysler Automobiles  Alfa Romeo    Alfa Romeo 147   \n",
       "1            2008  Fiat Chrysler Automobiles  Alfa Romeo    Alfa Romeo 159   \n",
       "2            2013  Fiat Chrysler Automobiles  Alfa Romeo     Alfa Romeo 4C   \n",
       "3            2008  Fiat Chrysler Automobiles  Alfa Romeo     Alfa Romeo 8C   \n",
       "4            2009  Fiat Chrysler Automobiles  Alfa Romeo  Alfa Romeo Brera   \n",
       "..            ...                        ...         ...               ...   \n",
       "586          2007                      Geely       Volvo         Volvo V70   \n",
       "587          2020                      Geely       Volvo        Volvo XC40   \n",
       "588          2010                      Geely       Volvo        Volvo XC60   \n",
       "589          2004                      Geely       Volvo        Volvo XC70   \n",
       "590          2003                      Geely       Volvo        Volvo XC90   \n",
       "\n",
       "     length   width  height  curb_weight  total_max_power_hp   price  volume  \n",
       "0      4223 1729.00 1442.00         1185                 105   21950   10.53  \n",
       "1      4661 1830.00 1422.00         1360                 140   28450   12.13  \n",
       "2      3990 1868.00 1184.00          895                 240   75360    8.82  \n",
       "3      4381 1894.00 1341.00         1560                 450  220000   11.13  \n",
       "4      4413 1830.00 1372.00         1420                 200   40950   11.08  \n",
       "..      ...     ...     ...          ...                 ...     ...     ...  \n",
       "586    4823 1861.00 1540.00         1467                 145   39895   13.82  \n",
       "587    4425 1900.00 1652.00         2150                 408   58775   13.89  \n",
       "588    4628 1891.00 1713.00         1610                 203   49495   14.99  \n",
       "589    4733 1860.00 1562.00         1664                 210   49815   13.75  \n",
       "590    4798 1898.00 1743.00         2023                 210   56115   15.87  \n",
       "\n",
       "[591 rows x 11 columns]"
      ]
     },
     "execution_count": 46,
     "metadata": {},
     "output_type": "execute_result"
    }
   ],
   "source": [
    "df['volume'] = df['height'] / 1000 * df['width'] / 1000 * df['length'] / 1000\n",
    "df"
   ]
  },
  {
   "cell_type": "code",
   "execution_count": 50,
   "id": "6fb5f88a-cb3e-4ad7-a9f8-e6929c83237a",
   "metadata": {},
   "outputs": [],
   "source": [
    "df = df[['introduction', 'volume', 'group', 'brand', 'model_name', 'length', 'width',\n",
    "       'height', 'curb_weight', 'total_max_power_hp', 'price']]"
   ]
  },
  {
   "cell_type": "markdown",
   "id": "460a793f",
   "metadata": {},
   "source": [
    "### Extracting a dataframe"
   ]
  },
  {
   "cell_type": "code",
   "execution_count": null,
   "id": "70183561",
   "metadata": {},
   "outputs": [],
   "source": []
  },
  {
   "cell_type": "markdown",
   "id": "f03cb6b2",
   "metadata": {},
   "source": [
    "Statistics can also be calculated manually using `min`, `max`, `mean`, `std`, `quantile`, etc."
   ]
  },
  {
   "cell_type": "code",
   "execution_count": 60,
   "id": "d88a4bf1-b786-497c-88e9-b0b2601f9ed7",
   "metadata": {
    "tags": []
   },
   "outputs": [
    {
     "data": {
      "text/plain": [
       "3.0466629183151652"
      ]
     },
     "execution_count": 60,
     "metadata": {},
     "output_type": "execute_result"
    }
   ],
   "source": [
    "df.volume.std()"
   ]
  },
  {
   "cell_type": "markdown",
   "id": "acceaec4",
   "metadata": {},
   "source": [
    "### Q: Is X true if Y blablal?"
   ]
  },
  {
   "cell_type": "markdown",
   "id": "0ec21b84",
   "metadata": {},
   "source": [
    "price squared"
   ]
  },
  {
   "cell_type": "code",
   "execution_count": 66,
   "id": "56c71732",
   "metadata": {},
   "outputs": [
    {
     "data": {
      "text/html": [
       "<div>\n",
       "<style scoped>\n",
       "    .dataframe tbody tr th:only-of-type {\n",
       "        vertical-align: middle;\n",
       "    }\n",
       "\n",
       "    .dataframe tbody tr th {\n",
       "        vertical-align: top;\n",
       "    }\n",
       "\n",
       "    .dataframe thead th {\n",
       "        text-align: right;\n",
       "    }\n",
       "</style>\n",
       "<table border=\"1\" class=\"dataframe\">\n",
       "  <thead>\n",
       "    <tr style=\"text-align: right;\">\n",
       "      <th></th>\n",
       "      <th>introduction</th>\n",
       "      <th>volume</th>\n",
       "      <th>group</th>\n",
       "      <th>brand</th>\n",
       "      <th>model_name</th>\n",
       "      <th>length</th>\n",
       "      <th>width</th>\n",
       "      <th>height</th>\n",
       "      <th>curb_weight</th>\n",
       "      <th>total_max_power_hp</th>\n",
       "      <th>price</th>\n",
       "    </tr>\n",
       "  </thead>\n",
       "  <tbody>\n",
       "    <tr>\n",
       "      <th>22</th>\n",
       "      <td>2016</td>\n",
       "      <td>10.73</td>\n",
       "      <td>Volkswagen Group</td>\n",
       "      <td>Audi</td>\n",
       "      <td>Audi A3</td>\n",
       "      <td>4241</td>\n",
       "      <td>1777.00</td>\n",
       "      <td>1424.00</td>\n",
       "      <td>1125</td>\n",
       "      <td>115</td>\n",
       "      <td>26680</td>\n",
       "    </tr>\n",
       "    <tr>\n",
       "      <th>23</th>\n",
       "      <td>2015</td>\n",
       "      <td>12.42</td>\n",
       "      <td>Volkswagen Group</td>\n",
       "      <td>Audi</td>\n",
       "      <td>Audi A4</td>\n",
       "      <td>4726</td>\n",
       "      <td>1842.00</td>\n",
       "      <td>1427.00</td>\n",
       "      <td>1295</td>\n",
       "      <td>150</td>\n",
       "      <td>38540</td>\n",
       "    </tr>\n",
       "    <tr>\n",
       "      <th>24</th>\n",
       "      <td>2011</td>\n",
       "      <td>11.86</td>\n",
       "      <td>Volkswagen Group</td>\n",
       "      <td>Audi</td>\n",
       "      <td>Audi A5</td>\n",
       "      <td>4626</td>\n",
       "      <td>1854.00</td>\n",
       "      <td>1383.00</td>\n",
       "      <td>1595</td>\n",
       "      <td>170</td>\n",
       "      <td>48540</td>\n",
       "    </tr>\n",
       "    <tr>\n",
       "      <th>25</th>\n",
       "      <td>2015</td>\n",
       "      <td>13.50</td>\n",
       "      <td>Volkswagen Group</td>\n",
       "      <td>Audi</td>\n",
       "      <td>Audi A7</td>\n",
       "      <td>4974</td>\n",
       "      <td>1911.00</td>\n",
       "      <td>1420.00</td>\n",
       "      <td>1605</td>\n",
       "      <td>190</td>\n",
       "      <td>57890</td>\n",
       "    </tr>\n",
       "    <tr>\n",
       "      <th>26</th>\n",
       "      <td>2012</td>\n",
       "      <td>14.62</td>\n",
       "      <td>Volkswagen Group</td>\n",
       "      <td>Audi</td>\n",
       "      <td>Audi A8</td>\n",
       "      <td>5137</td>\n",
       "      <td>1949.00</td>\n",
       "      <td>1460.00</td>\n",
       "      <td>1845</td>\n",
       "      <td>245</td>\n",
       "      <td>91090</td>\n",
       "    </tr>\n",
       "    <tr>\n",
       "      <th>...</th>\n",
       "      <td>...</td>\n",
       "      <td>...</td>\n",
       "      <td>...</td>\n",
       "      <td>...</td>\n",
       "      <td>...</td>\n",
       "      <td>...</td>\n",
       "      <td>...</td>\n",
       "      <td>...</td>\n",
       "      <td>...</td>\n",
       "      <td>...</td>\n",
       "      <td>...</td>\n",
       "    </tr>\n",
       "    <tr>\n",
       "      <th>569</th>\n",
       "      <td>2011</td>\n",
       "      <td>13.64</td>\n",
       "      <td>Volkswagen Group</td>\n",
       "      <td>Volkswagen</td>\n",
       "      <td>Volkswagen Tiguan</td>\n",
       "      <td>4426</td>\n",
       "      <td>1809.00</td>\n",
       "      <td>1703.00</td>\n",
       "      <td>1401</td>\n",
       "      <td>122</td>\n",
       "      <td>30390</td>\n",
       "    </tr>\n",
       "    <tr>\n",
       "      <th>570</th>\n",
       "      <td>2019</td>\n",
       "      <td>16.62</td>\n",
       "      <td>Volkswagen Group</td>\n",
       "      <td>Volkswagen</td>\n",
       "      <td>Volkswagen Touareg</td>\n",
       "      <td>4878</td>\n",
       "      <td>1984.00</td>\n",
       "      <td>1717.00</td>\n",
       "      <td>1920</td>\n",
       "      <td>340</td>\n",
       "      <td>91470</td>\n",
       "    </tr>\n",
       "    <tr>\n",
       "      <th>571</th>\n",
       "      <td>2019</td>\n",
       "      <td>13.74</td>\n",
       "      <td>Volkswagen Group</td>\n",
       "      <td>Volkswagen</td>\n",
       "      <td>Volkswagen Touran</td>\n",
       "      <td>4527</td>\n",
       "      <td>1829.00</td>\n",
       "      <td>1659.00</td>\n",
       "      <td>1360</td>\n",
       "      <td>115</td>\n",
       "      <td>33155</td>\n",
       "    </tr>\n",
       "    <tr>\n",
       "      <th>572</th>\n",
       "      <td>2019</td>\n",
       "      <td>18.58</td>\n",
       "      <td>Volkswagen Group</td>\n",
       "      <td>Volkswagen</td>\n",
       "      <td>Volkswagen Transporter</td>\n",
       "      <td>4904</td>\n",
       "      <td>1904.00</td>\n",
       "      <td>1990.00</td>\n",
       "      <td>1764</td>\n",
       "      <td>90</td>\n",
       "      <td>18550</td>\n",
       "    </tr>\n",
       "    <tr>\n",
       "      <th>576</th>\n",
       "      <td>2017</td>\n",
       "      <td>11.38</td>\n",
       "      <td>Volkswagen Group</td>\n",
       "      <td>Volkswagen</td>\n",
       "      <td>Volkswagen e-Golf</td>\n",
       "      <td>4270</td>\n",
       "      <td>1799.00</td>\n",
       "      <td>1482.00</td>\n",
       "      <td>1515</td>\n",
       "      <td>136</td>\n",
       "      <td>39250</td>\n",
       "    </tr>\n",
       "  </tbody>\n",
       "</table>\n",
       "<p>85 rows × 11 columns</p>\n",
       "</div>"
      ],
      "text/plain": [
       "     introduction  volume             group       brand  \\\n",
       "22           2016   10.73  Volkswagen Group        Audi   \n",
       "23           2015   12.42  Volkswagen Group        Audi   \n",
       "24           2011   11.86  Volkswagen Group        Audi   \n",
       "25           2015   13.50  Volkswagen Group        Audi   \n",
       "26           2012   14.62  Volkswagen Group        Audi   \n",
       "..            ...     ...               ...         ...   \n",
       "569          2011   13.64  Volkswagen Group  Volkswagen   \n",
       "570          2019   16.62  Volkswagen Group  Volkswagen   \n",
       "571          2019   13.74  Volkswagen Group  Volkswagen   \n",
       "572          2019   18.58  Volkswagen Group  Volkswagen   \n",
       "576          2017   11.38  Volkswagen Group  Volkswagen   \n",
       "\n",
       "                 model_name  length   width  height  curb_weight  \\\n",
       "22                  Audi A3    4241 1777.00 1424.00         1125   \n",
       "23                  Audi A4    4726 1842.00 1427.00         1295   \n",
       "24                  Audi A5    4626 1854.00 1383.00         1595   \n",
       "25                  Audi A7    4974 1911.00 1420.00         1605   \n",
       "26                  Audi A8    5137 1949.00 1460.00         1845   \n",
       "..                      ...     ...     ...     ...          ...   \n",
       "569       Volkswagen Tiguan    4426 1809.00 1703.00         1401   \n",
       "570      Volkswagen Touareg    4878 1984.00 1717.00         1920   \n",
       "571       Volkswagen Touran    4527 1829.00 1659.00         1360   \n",
       "572  Volkswagen Transporter    4904 1904.00 1990.00         1764   \n",
       "576       Volkswagen e-Golf    4270 1799.00 1482.00         1515   \n",
       "\n",
       "     total_max_power_hp  price  \n",
       "22                  115  26680  \n",
       "23                  150  38540  \n",
       "24                  170  48540  \n",
       "25                  190  57890  \n",
       "26                  245  91090  \n",
       "..                  ...    ...  \n",
       "569                 122  30390  \n",
       "570                 340  91470  \n",
       "571                 115  33155  \n",
       "572                  90  18550  \n",
       "576                 136  39250  \n",
       "\n",
       "[85 rows x 11 columns]"
      ]
     },
     "execution_count": 66,
     "metadata": {},
     "output_type": "execute_result"
    }
   ],
   "source": [
    "f_volume_lg_10 = df.volume > 10\n",
    "f_group_vw     = df.group == 'Volkswagen Group'\n",
    "\n",
    "df[f_group_vw & f_volume_lg_10]"
   ]
  },
  {
   "cell_type": "markdown",
   "id": "70ae8677",
   "metadata": {},
   "source": [
    "### Row filtering expressions"
   ]
  },
  {
   "cell_type": "markdown",
   "id": "2b686750",
   "metadata": {},
   "source": [
    "post 2010"
   ]
  },
  {
   "cell_type": "code",
   "execution_count": null,
   "id": "8a83d55c",
   "metadata": {},
   "outputs": [],
   "source": []
  },
  {
   "cell_type": "markdown",
   "id": "1948cf79",
   "metadata": {},
   "source": [
    "BMW, post 2010"
   ]
  },
  {
   "cell_type": "code",
   "execution_count": null,
   "id": "f82706b4",
   "metadata": {},
   "outputs": [],
   "source": []
  },
  {
   "attachments": {},
   "cell_type": "markdown",
   "id": "e91367aa-8e9e-42af-aa26-a4c6d79fe09a",
   "metadata": {},
   "source": [
    "**You try it**\n",
    "\n",
    "Extract mass-consumer cars built after 2010. What's their average price?\n",
    "\n",
    "We define a mass-consumer car as one for which the price is less than 25K dollars. \n",
    "\n",
    "Hint: work in steps:\n",
    "\n",
    "1. first filter the data\n",
    "2. then extract the price\n",
    "3. then apply the `mean()` function\n"
   ]
  },
  {
   "cell_type": "code",
   "execution_count": null,
   "id": "d427f05b",
   "metadata": {
    "tags": [
     "remove_output"
    ]
   },
   "outputs": [],
   "source": []
  },
  {
   "cell_type": "code",
   "execution_count": 67,
   "id": "7c361f64-e460-417e-8d87-7b21d6038434",
   "metadata": {
    "tags": [
     "remove_cell"
    ]
   },
   "outputs": [
    {
     "data": {
      "text/plain": [
       "18238.870967741936"
      ]
     },
     "execution_count": 67,
     "metadata": {},
     "output_type": "execute_result"
    }
   ],
   "source": [
    "# SOLUTION\n",
    "selection = df[(df['introduction'] > 2010) & (df['price'] < 25000)]\n",
    "selection_price = selection['price']\n",
    "selection_price.mean()"
   ]
  },
  {
   "cell_type": "markdown",
   "id": "9d709d73",
   "metadata": {},
   "source": [
    "### Subsetting by index and label"
   ]
  },
  {
   "attachments": {},
   "cell_type": "markdown",
   "id": "1b13173d-ce3a-4c6c-ad99-c6967cdae949",
   "metadata": {},
   "source": [
    "Besides this, there are two additional ways to carry out a selection:\n",
    "\n",
    "* **Selection by label** is specified by adding `.loc` after the name of the data frame. The selection of the rows is based on the index, and that of the columns is based on the column names.\n",
    "* **Selection by position** uses `.iloc`. The selection of the rows is based on the row number and that of the columns on the column number.\n",
    "\n",
    "In both cases, if you enter a single specification inside the brackets, it refers to the rows. If you enter two\n",
    "specifications, the first one refers to the rows and the second one to the columns."
   ]
  },
  {
   "cell_type": "code",
   "execution_count": 68,
   "id": "ebc00dd2-f87b-46d0-9c69-b177eec62a60",
   "metadata": {},
   "outputs": [
    {
     "data": {
      "text/plain": [
       "'Alfa Romeo'"
      ]
     },
     "execution_count": 68,
     "metadata": {},
     "output_type": "execute_result"
    }
   ],
   "source": [
    "df.loc[]\n",
    "df.iloc[0,3]"
   ]
  },
  {
   "cell_type": "code",
   "execution_count": 104,
   "id": "46c6d5b1-57b0-440c-a872-1cac9edefb5c",
   "metadata": {},
   "outputs": [],
   "source": [
    "# df.loc[row_labels, column_labels]"
   ]
  },
  {
   "cell_type": "code",
   "execution_count": 105,
   "id": "1312b028-973a-4bcd-86af-8dcbec5d7169",
   "metadata": {},
   "outputs": [
    {
     "data": {
      "text/html": [
       "<div>\n",
       "<style scoped>\n",
       "    .dataframe tbody tr th:only-of-type {\n",
       "        vertical-align: middle;\n",
       "    }\n",
       "\n",
       "    .dataframe tbody tr th {\n",
       "        vertical-align: top;\n",
       "    }\n",
       "\n",
       "    .dataframe thead th {\n",
       "        text-align: right;\n",
       "    }\n",
       "</style>\n",
       "<table border=\"1\" class=\"dataframe\">\n",
       "  <thead>\n",
       "    <tr style=\"text-align: right;\">\n",
       "      <th></th>\n",
       "      <th>model_name</th>\n",
       "      <th>price</th>\n",
       "    </tr>\n",
       "  </thead>\n",
       "  <tbody>\n",
       "    <tr>\n",
       "      <th>1</th>\n",
       "      <td>Alfa Romeo 159</td>\n",
       "      <td>28450</td>\n",
       "    </tr>\n",
       "    <tr>\n",
       "      <th>2</th>\n",
       "      <td>Alfa Romeo 4C</td>\n",
       "      <td>75360</td>\n",
       "    </tr>\n",
       "    <tr>\n",
       "      <th>3</th>\n",
       "      <td>Alfa Romeo 8C</td>\n",
       "      <td>220000</td>\n",
       "    </tr>\n",
       "    <tr>\n",
       "      <th>4</th>\n",
       "      <td>Alfa Romeo Brera</td>\n",
       "      <td>40950</td>\n",
       "    </tr>\n",
       "    <tr>\n",
       "      <th>5</th>\n",
       "      <td>Alfa Romeo Crosswagon</td>\n",
       "      <td>38855</td>\n",
       "    </tr>\n",
       "  </tbody>\n",
       "</table>\n",
       "</div>"
      ],
      "text/plain": [
       "              model_name   price\n",
       "1         Alfa Romeo 159   28450\n",
       "2          Alfa Romeo 4C   75360\n",
       "3          Alfa Romeo 8C  220000\n",
       "4       Alfa Romeo Brera   40950\n",
       "5  Alfa Romeo Crosswagon   38855"
      ]
     },
     "execution_count": 105,
     "metadata": {},
     "output_type": "execute_result"
    }
   ],
   "source": [
    "df.loc[[1,2,3,4,5],['model_name','price']]"
   ]
  },
  {
   "cell_type": "code",
   "execution_count": 106,
   "id": "e4788d1e-57ce-474c-8582-4ba12144f24c",
   "metadata": {},
   "outputs": [
    {
     "data": {
      "text/html": [
       "<div>\n",
       "<style scoped>\n",
       "    .dataframe tbody tr th:only-of-type {\n",
       "        vertical-align: middle;\n",
       "    }\n",
       "\n",
       "    .dataframe tbody tr th {\n",
       "        vertical-align: top;\n",
       "    }\n",
       "\n",
       "    .dataframe thead th {\n",
       "        text-align: right;\n",
       "    }\n",
       "</style>\n",
       "<table border=\"1\" class=\"dataframe\">\n",
       "  <thead>\n",
       "    <tr style=\"text-align: right;\">\n",
       "      <th></th>\n",
       "      <th>brand</th>\n",
       "      <th>model_name</th>\n",
       "      <th>length</th>\n",
       "      <th>width</th>\n",
       "    </tr>\n",
       "  </thead>\n",
       "  <tbody>\n",
       "    <tr>\n",
       "      <th>1</th>\n",
       "      <td>Alfa Romeo</td>\n",
       "      <td>Alfa Romeo 159</td>\n",
       "      <td>4661</td>\n",
       "      <td>1830.00</td>\n",
       "    </tr>\n",
       "    <tr>\n",
       "      <th>2</th>\n",
       "      <td>Alfa Romeo</td>\n",
       "      <td>Alfa Romeo 4C</td>\n",
       "      <td>3990</td>\n",
       "      <td>1868.00</td>\n",
       "    </tr>\n",
       "    <tr>\n",
       "      <th>3</th>\n",
       "      <td>Alfa Romeo</td>\n",
       "      <td>Alfa Romeo 8C</td>\n",
       "      <td>4381</td>\n",
       "      <td>1894.00</td>\n",
       "    </tr>\n",
       "    <tr>\n",
       "      <th>4</th>\n",
       "      <td>Alfa Romeo</td>\n",
       "      <td>Alfa Romeo Brera</td>\n",
       "      <td>4413</td>\n",
       "      <td>1830.00</td>\n",
       "    </tr>\n",
       "  </tbody>\n",
       "</table>\n",
       "</div>"
      ],
      "text/plain": [
       "        brand        model_name  length   width\n",
       "1  Alfa Romeo    Alfa Romeo 159    4661 1830.00\n",
       "2  Alfa Romeo     Alfa Romeo 4C    3990 1868.00\n",
       "3  Alfa Romeo     Alfa Romeo 8C    4381 1894.00\n",
       "4  Alfa Romeo  Alfa Romeo Brera    4413 1830.00"
      ]
     },
     "execution_count": 106,
     "metadata": {},
     "output_type": "execute_result"
    }
   ],
   "source": [
    "df.iloc[1:5,2:6]"
   ]
  },
  {
   "cell_type": "markdown",
   "id": "d95fe2ef",
   "metadata": {},
   "source": [
    "### Pivot Tables\n"
   ]
  },
  {
   "cell_type": "markdown",
   "id": "ebc84383",
   "metadata": {},
   "source": [
    "rows = group, columns = intro, values = price"
   ]
  },
  {
   "cell_type": "code",
   "execution_count": null,
   "id": "f07aa687",
   "metadata": {},
   "outputs": [],
   "source": []
  },
  {
   "cell_type": "markdown",
   "id": "50049fe0",
   "metadata": {},
   "source": [
    "Relation between height of a car and its horse power, we could do a scatter plot:"
   ]
  },
  {
   "cell_type": "code",
   "execution_count": null,
   "id": "bd39b0b5",
   "metadata": {},
   "outputs": [],
   "source": []
  },
  {
   "cell_type": "markdown",
   "id": "4b73f2cc",
   "metadata": {},
   "source": [
    "To see how this pattern evolved over time we could color dots per year"
   ]
  },
  {
   "cell_type": "code",
   "execution_count": null,
   "id": "085e95be",
   "metadata": {},
   "outputs": [],
   "source": []
  },
  {
   "cell_type": "markdown",
   "id": "62976107",
   "metadata": {},
   "source": [
    "Horse Power over Time"
   ]
  },
  {
   "cell_type": "code",
   "execution_count": null,
   "id": "2219eeab",
   "metadata": {},
   "outputs": [],
   "source": []
  },
  {
   "cell_type": "markdown",
   "id": "076eb749",
   "metadata": {},
   "source": [
    "Horse Power / kg segments"
   ]
  },
  {
   "cell_type": "code",
   "execution_count": 7,
   "id": "027ce5cb",
   "metadata": {},
   "outputs": [
    {
     "data": {
      "image/png": "[encoded data removed]",
      "text/plain": [
       "<Figure size 1000x700 with 1 Axes>"
      ]
     },
     "metadata": {},
     "output_type": "display_data"
    }
   ],
   "source": [
    "import matplotlib.pyplot as plt\n",
    "import seaborn as sns\n",
    "import numpy as np\n",
    "\n",
    "\n",
    "# Compute power-to-weight ratio per car\n",
    "df['power_to_weight'] = df['total_max_power_hp'] / df['curb_weight']\n",
    "\n",
    "# Aggregate: average power-to-weight and average price per brand\n",
    "#            we will talk about what this code means in another class\n",
    "brand_summary = df.groupby('brand').agg(\n",
    "    avg_power_to_weight=('power_to_weight', 'mean'),\n",
    "    avg_price=('price', 'mean'),\n",
    "    count=('brand', 'count')\n",
    ").reset_index()\n",
    "\n",
    "# Compute medians for quadrant lines\n",
    "median_power_to_weight = brand_summary['avg_power_to_weight'].median()\n",
    "median_price = brand_summary['avg_price'].median()\n",
    "\n",
    "# Plot the \"magic quadrant\"\n",
    "plt.figure(figsize=(10, 7))\n",
    "ax = sns.scatterplot(\n",
    "    data=brand_summary,\n",
    "    x='avg_power_to_weight',\n",
    "    y='avg_price',\n",
    "    size='count',\n",
    "    sizes=(40, 200),\n",
    "    hue='brand',\n",
    "    legend=False,\n",
    "    alpha=0.8\n",
    ")\n",
    "\n",
    "# Quadrant lines\n",
    "plt.axvline(median_power_to_weight, ls='--', color='gray')\n",
    "plt.axhline(median_price, ls='--', color='gray')\n",
    "\n",
    "# Label key brands\n",
    "for _, row in brand_summary.iterrows():\n",
    "    plt.text(row['avg_power_to_weight'], row['avg_price'], row['brand'], fontsize=9, ha='center')\n",
    "\n",
    "plt.title('Brand Positioning: Price vs Power-to-Weight Ratio')\n",
    "plt.xlabel('Average HP per kg')\n",
    "plt.ylabel('Average Price (€)')\n",
    "plt.grid(True)\n",
    "plt.tight_layout()\n",
    "plt.show()\n"
   ]
  }
 ],
 "metadata": {
  "kernelspec": {
   "display_name": "dsfb",
   "language": "python",
   "name": "python3"
  },
  "language_info": {
   "codemirror_mode": {
    "name": "ipython",
    "version": 3
   },
   "file_extension": ".py",
   "mimetype": "text/x-python",
   "name": "python",
   "nbconvert_exporter": "python",
   "pygments_lexer": "ipython3",
   "version": "3.11.11"
  },
  "widgets": {
   "application/vnd.jupyter.widget-state+json": {
    "state": {},
    "version_major": 2,
    "version_minor": 0
   }
  }
 },
 "nbformat": 4,
 "nbformat_minor": 5
}
